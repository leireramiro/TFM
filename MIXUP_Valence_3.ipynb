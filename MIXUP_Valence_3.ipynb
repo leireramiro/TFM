{
 "cells": [
  {
   "cell_type": "markdown",
   "id": "419ec866-2514-4ae1-8adb-776433b5df20",
   "metadata": {
    "tags": []
   },
   "source": [
    "# Regression Models for predicting Valence\n",
    "# ↳ using MIXUP data augmentation using different values for λ"
   ]
  },
  {
   "cell_type": "markdown",
   "id": "47100f1c-3aa7-4b01-9a1d-b7fe5b4083e4",
   "metadata": {
    "tags": []
   },
   "source": [
    "## Libraries"
   ]
  },
  {
   "cell_type": "code",
   "execution_count": 1,
   "id": "c87d88ec-3f43-4c2a-9315-39e738964d47",
   "metadata": {},
   "outputs": [],
   "source": [
    "# for building the models\n",
    "from sklearn.linear_model import LinearRegression, Ridge, SGDRegressor\n",
    "from sklearn.svm import SVR, LinearSVR\n",
    "from sklearn.tree import DecisionTreeRegressor\n",
    "from sklearn.neighbors import KNeighborsRegressor\n",
    "from sklearn.pipeline import Pipeline\n",
    "from sklearn.feature_extraction.text import TfidfVectorizer\n",
    "from tqdm import tqdm\n",
    "\n",
    "# for computing the scores --> https://www.datacourses.com/evaluation-of-regression-models-in-scikit-learn-846/\n",
    "import math\n",
    "from sklearn.metrics import mean_squared_error, r2_score\n",
    "\n",
    "# for result visualization\n",
    "import numpy as np\n",
    "import matplotlib.pyplot as plt\n",
    "\n",
    "# for loading data\n",
    "import pickle "
   ]
  },
  {
   "cell_type": "markdown",
   "id": "ee690b8d-756b-424a-af7c-0acfc9cbae43",
   "metadata": {
    "tags": []
   },
   "source": [
    "## Data loading"
   ]
  },
  {
   "cell_type": "code",
   "execution_count": 2,
   "id": "87a5abe0-98e0-464b-aa51-90c9a5df29dd",
   "metadata": {},
   "outputs": [],
   "source": [
    "# Load train test\n",
    "f_train_test = open('train_test.pickle', 'rb')\n",
    "(train,test) = pickle.load(f_train_test)\n",
    "f_train_test.close()"
   ]
  },
  {
   "cell_type": "code",
   "execution_count": 3,
   "id": "e0a2f11c-6176-48fa-8170-40e790780f42",
   "metadata": {},
   "outputs": [],
   "source": [
    "# Load train samples dfs\n",
    "f_train_samples = open('train_samples.pickle', 'rb')\n",
    "(train10, train20, train30, train40, train50, train60, train70, train80, train90) = pickle.load(f_train_samples)\n",
    "f_train_samples.close()"
   ]
  },
  {
   "cell_type": "code",
   "execution_count": 4,
   "id": "223540fa-c00c-413b-b74a-5e1ebd55259b",
   "metadata": {},
   "outputs": [],
   "source": [
    "# Load train augmented samples dfs\n",
    "f_train_valence_samples_aug_l = open('train_valence_samples_aug_l.pickle', 'rb')\n",
    "(train20_aug_l0,train20_aug_l1,train20_aug_l2,train20_aug_l3,train20_aug_l4,train20_aug_l5,train50_aug_l0,train50_aug_l1,train50_aug_l2,train50_aug_l3,train50_aug_l4,train50_aug_l5,train80_aug_l0,train80_aug_l1,train80_aug_l2,train80_aug_l3,train80_aug_l4,train80_aug_l5) = pickle.load(f_train_valence_samples_aug_l)\n",
    "f_train_valence_samples_aug_l.close()"
   ]
  },
  {
   "cell_type": "markdown",
   "id": "21af39c6-f1fb-4dda-8304-bcfa3d8721bb",
   "metadata": {},
   "source": [
    "## Prepare data for modeling"
   ]
  },
  {
   "cell_type": "code",
   "execution_count": 5,
   "id": "f93f9bea-d953-4b2d-8edf-1ba8a8e00241",
   "metadata": {},
   "outputs": [],
   "source": [
    "train_20 = [train20,train20_aug_l0,train20_aug_l1,train20_aug_l2,train20_aug_l3,train20_aug_l4,train20_aug_l5]\n",
    "train_50 = [train50,train50_aug_l0,train50_aug_l1,train50_aug_l2,train50_aug_l3,train50_aug_l4,train50_aug_l5]\n",
    "train_80 = [train80,train80_aug_l0,train80_aug_l1,train80_aug_l2,train80_aug_l3,train80_aug_l4,train80_aug_l5]"
   ]
  },
  {
   "cell_type": "code",
   "execution_count": 6,
   "id": "777e1f5f-37dc-4e74-aeea-ed77e1d568ba",
   "metadata": {},
   "outputs": [],
   "source": [
    "# train data 20%\n",
    "X_train_20_list = []\n",
    "y_train_20_list = []\n",
    "for i in range(len(train_20)):\n",
    "    X_train_20_list.append(train_20[i][['lyrics']].values.flatten())\n",
    "    y_train_20_list.append(train_20[i][['valence']].values)\n",
    "\n",
    "# train data 50%\n",
    "X_train_50_list = []\n",
    "y_train_50_list = []\n",
    "for i in range(len(train_50)):\n",
    "    X_train_50_list.append(train_50[i][['lyrics']].values.flatten())\n",
    "    y_train_50_list.append(train_50[i][['valence']].values)\n",
    "\n",
    "# train data 80%\n",
    "X_train_80_list = []\n",
    "y_train_80_list = []\n",
    "for i in range(len(train_80)):\n",
    "    X_train_80_list.append(train_80[i][['lyrics']].values.flatten())\n",
    "    y_train_80_list.append(train_80[i][['valence']].values)\n",
    "\n",
    "    \n",
    "# test data\n",
    "X_test = test[['lyrics']].values.flatten()\n",
    "y_test = test[['energy']].values"
   ]
  },
  {
   "cell_type": "code",
   "execution_count": 7,
   "id": "487a30ab-2ccc-4583-b925-d20724b23560",
   "metadata": {},
   "outputs": [],
   "source": [
    "# range of the lambdas\n",
    "x_range = [0, 0.05, 0.1, 0.2, 0.3, 0.4, 0.5]"
   ]
  },
  {
   "cell_type": "markdown",
   "id": "d4d62688-a64f-42ea-89c2-73f4a2a5ddf0",
   "metadata": {},
   "source": [
    "## SGD Regressor"
   ]
  },
  {
   "cell_type": "code",
   "execution_count": 8,
   "id": "3102d17d-1c58-4bab-88ae-3d52d77e5602",
   "metadata": {},
   "outputs": [],
   "source": [
    "def SGDR_Regressor(X_list,y_list,X_test,y_test):\n",
    "    SGDR_MSE = []\n",
    "\n",
    "    for i in tqdm(range(len(train_20))):\n",
    "        #training de model\n",
    "        pipe_SGDR = Pipeline([('tfidf_vec' , TfidfVectorizer(min_df=3,\n",
    "                                                    max_features=5000,\n",
    "                                                    stop_words='english')),\n",
    "                     ('clf_SGDR'   , SGDRegressor(random_state=79068588)),\n",
    "                    ])\n",
    "        pipe_SGDR.fit(X_list[i],y_list[i].ravel())\n",
    "        \n",
    "        #scores\n",
    "        y_pred=pipe_SGDR.predict(X_test)\n",
    "        SGDR_MSE.append(mean_squared_error(y_test,y_pred))\n",
    "        \n",
    "    return(SGDR_MSE)"
   ]
  },
  {
   "cell_type": "code",
   "execution_count": 9,
   "id": "86b6e6c0-cecc-4ae5-98c8-381a4325ee97",
   "metadata": {},
   "outputs": [
    {
     "name": "stderr",
     "output_type": "stream",
     "text": [
      "100%|██████████| 7/7 [00:13<00:00,  1.91s/it]\n",
      "100%|██████████| 7/7 [00:16<00:00,  2.29s/it]\n",
      "100%|██████████| 7/7 [00:15<00:00,  2.16s/it]\n"
     ]
    }
   ],
   "source": [
    "sgdr_scores_20 = SGDR_Regressor(X_train_20_list,y_train_20_list,X_test,y_test)\n",
    "sgdr_scores_50 = SGDR_Regressor(X_train_50_list,y_train_50_list,X_test,y_test)\n",
    "sgdr_scores_80 = SGDR_Regressor(X_train_80_list,y_train_80_list,X_test,y_test)"
   ]
  },
  {
   "cell_type": "code",
   "execution_count": 10,
   "id": "2eee665c-8291-4955-a415-795a18c6ea91",
   "metadata": {},
   "outputs": [
    {
     "data": {
      "image/png": "[encoded data removed]",
      "text/plain": [
       "<Figure size 432x288 with 1 Axes>"
      ]
     },
     "metadata": {
      "needs_background": "light"
     },
     "output_type": "display_data"
    }
   ],
   "source": [
    "plt.plot(x_range, sgdr_scores_20, label='20% of training')\n",
    "plt.plot(x_range, sgdr_scores_50, label='50% of training')\n",
    "plt.plot(x_range, sgdr_scores_80, label='80% of training')\n",
    "plt.xlabel('λ')\n",
    "plt.ylabel('MSE')\n",
    "plt.title('MSE with SGDR')\n",
    "plt.legend()\n",
    "plt.show()"
   ]
  },
  {
   "cell_type": "markdown",
   "id": "10fa48b7-c61a-4b4a-a269-4ac3a45b9152",
   "metadata": {},
   "source": [
    "## Decision Tree Regressor"
   ]
  },
  {
   "cell_type": "code",
   "execution_count": 11,
   "id": "066b3304-99b6-4a05-bc0f-b28d8648e35a",
   "metadata": {},
   "outputs": [],
   "source": [
    "def DT_Regressor(X_list,y_list,X_test,y_test):\n",
    "    DTR_MSE = []\n",
    "\n",
    "    for i in tqdm(range(len(train_20))):\n",
    "        #training de model\n",
    "        pipe_DTR = Pipeline([('tfidf_vec' , TfidfVectorizer(min_df=3,\n",
    "                                                    max_features=5000,\n",
    "                                                    stop_words='english')),\n",
    "                     ('clf_DTR'   , DecisionTreeRegressor(random_state=79068588)),\n",
    "                    ])\n",
    "        pipe_DTR.fit(X_list[i],y_list[i].ravel())\n",
    "        \n",
    "        #scores\n",
    "        y_pred=pipe_DTR.predict(X_test)\n",
    "        DTR_MSE.append(mean_squared_error(y_test,y_pred))\n",
    "        \n",
    "    return(DTR_MSE)"
   ]
  },
  {
   "cell_type": "code",
   "execution_count": 12,
   "id": "a8166cb8-d447-40ba-a399-b3440c275bfd",
   "metadata": {},
   "outputs": [
    {
     "name": "stderr",
     "output_type": "stream",
     "text": [
      "100%|██████████| 7/7 [01:16<00:00, 10.87s/it]\n",
      "100%|██████████| 7/7 [02:19<00:00, 19.98s/it]\n",
      "100%|██████████| 7/7 [02:40<00:00, 22.95s/it]\n"
     ]
    }
   ],
   "source": [
    "dt_scores_20 = DT_Regressor(X_train_20_list,y_train_20_list,X_test,y_test)\n",
    "dt_scores_50 = DT_Regressor(X_train_50_list,y_train_50_list,X_test,y_test)\n",
    "dt_scores_80 = DT_Regressor(X_train_80_list,y_train_80_list,X_test,y_test)"
   ]
  },
  {
   "cell_type": "code",
   "execution_count": 13,
   "id": "10783a1b-d607-410d-b086-41955a5c92bf",
   "metadata": {},
   "outputs": [
    {
     "data": {
      "image/png": "[encoded data removed]",
      "text/plain": [
       "<Figure size 432x288 with 1 Axes>"
      ]
     },
     "metadata": {
      "needs_background": "light"
     },
     "output_type": "display_data"
    }
   ],
   "source": [
    "plt.plot(x_range, dt_scores_20, label='20% of training')\n",
    "plt.plot(x_range, dt_scores_50, label='50% of training')\n",
    "plt.plot(x_range, dt_scores_80, label='80% of training')\n",
    "plt.xlabel('λ')\n",
    "plt.ylabel('MSE')\n",
    "plt.title('MSE with DTR')\n",
    "plt.legend()\n",
    "plt.show()"
   ]
  },
  {
   "cell_type": "markdown",
   "id": "1ba2a1d5-29cd-4662-a4e0-e6bb43a4dc93",
   "metadata": {},
   "source": [
    "## Linear SV Regressor"
   ]
  },
  {
   "cell_type": "code",
   "execution_count": 14,
   "id": "dc86e063-212e-4a56-bc66-71d95b2e8a17",
   "metadata": {},
   "outputs": [],
   "source": [
    "def SVR_Regressor(X_list,y_list,X_test,y_test):\n",
    "    SVR_MSE = []\n",
    "\n",
    "    for i in tqdm(range(len(train_20))):\n",
    "        #training de model\n",
    "        pipe_SVR = Pipeline([('tfidf_vec' , TfidfVectorizer(min_df=3,\n",
    "                                                    max_features=5000,\n",
    "                                                    stop_words='english')),\n",
    "                     ('clf_SVR'   , LinearSVR(max_iter=10000,random_state=79068588)),\n",
    "                    ])\n",
    "        pipe_SVR.fit(X_list[i],y_list[i].ravel())\n",
    "        \n",
    "        #scores\n",
    "        y_pred=pipe_SVR.predict(X_test)\n",
    "        SVR_MSE.append(mean_squared_error(y_test,y_pred))\n",
    "        \n",
    "    return(SVR_MSE)"
   ]
  },
  {
   "cell_type": "code",
   "execution_count": 15,
   "id": "60bfadd3-ab81-4ca8-b42b-7dd8cf9adee9",
   "metadata": {},
   "outputs": [
    {
     "name": "stderr",
     "output_type": "stream",
     "text": [
      "100%|██████████| 7/7 [01:04<00:00,  9.23s/it]\n",
      "100%|██████████| 7/7 [00:48<00:00,  6.97s/it]\n",
      "100%|██████████| 7/7 [00:26<00:00,  3.75s/it]\n"
     ]
    }
   ],
   "source": [
    "svr_scores_20 = SVR_Regressor(X_train_20_list,y_train_20_list,X_test,y_test)\n",
    "svr_scores_50 = SVR_Regressor(X_train_50_list,y_train_50_list,X_test,y_test)\n",
    "svr_scores_80 = SVR_Regressor(X_train_80_list,y_train_80_list,X_test,y_test)"
   ]
  },
  {
   "cell_type": "code",
   "execution_count": 16,
   "id": "b83c9fd3-57aa-4c0c-acc8-5ca3b609da89",
   "metadata": {},
   "outputs": [
    {
     "data": {
      "image/png": "[encoded data removed]",
      "text/plain": [
       "<Figure size 432x288 with 1 Axes>"
      ]
     },
     "metadata": {
      "needs_background": "light"
     },
     "output_type": "display_data"
    }
   ],
   "source": [
    "plt.plot(x_range, svr_scores_20, label='20% of training')\n",
    "plt.plot(x_range, svr_scores_50, label='50% of training')\n",
    "plt.plot(x_range, svr_scores_80, label='80% of training')\n",
    "plt.xlabel('λ')\n",
    "plt.ylabel('MSE')\n",
    "plt.title('MSE with SVR')\n",
    "plt.legend()\n",
    "plt.show()"
   ]
  },
  {
   "cell_type": "markdown",
   "id": "87c71787-2457-4b9a-aa8f-f1a47472b6cf",
   "metadata": {},
   "source": [
    "## Save results"
   ]
  },
  {
   "cell_type": "code",
   "execution_count": 17,
   "id": "b0712dba-bbc6-4250-8228-bd3bdfd810bd",
   "metadata": {},
   "outputs": [],
   "source": [
    "# Save MSE of all models\n",
    "f_mse_valence_samples_MUaug_l = open('mse_valence_samples_MUaug_l.pickle', 'wb')\n",
    "pickle.dump([sgdr_scores_20,sgdr_scores_50,sgdr_scores_80,dt_scores_20,dt_scores_50,dt_scores_80,svr_scores_20,svr_scores_50,svr_scores_80], f_mse_valence_samples_MUaug_l)\n",
    "f_mse_valence_samples_MUaug_l.close()"
   ]
  }
 ],
 "metadata": {
  "kernelspec": {
   "display_name": "Python 3 (ipykernel)",
   "language": "python",
   "name": "python3"
  },
  "language_info": {
   "codemirror_mode": {
    "name": "ipython",
    "version": 3
   },
   "file_extension": ".py",
   "mimetype": "text/x-python",
   "name": "python",
   "nbconvert_exporter": "python",
   "pygments_lexer": "ipython3",
   "version": "3.8.2"
  }
 },
 "nbformat": 4,
 "nbformat_minor": 5
}
