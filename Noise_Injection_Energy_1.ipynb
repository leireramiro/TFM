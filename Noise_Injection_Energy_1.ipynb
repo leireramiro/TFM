{
 "cells": [
  {
   "cell_type": "markdown",
   "id": "2c7d92b9-77f7-40fa-9123-2c705d9986c4",
   "metadata": {
    "tags": []
   },
   "source": [
    "# Regression Models for predicting Energy\n",
    "# ↳ using NOISE injection data augmentation (n=5)"
   ]
  },
  {
   "cell_type": "markdown",
   "id": "2a78d093-8310-4f87-8416-13c010c45fd9",
   "metadata": {
    "tags": []
   },
   "source": [
    "## Libraries"
   ]
  },
  {
   "cell_type": "code",
   "execution_count": 1,
   "id": "2a5a6754-d57d-43b9-88e1-9582c01bd548",
   "metadata": {},
   "outputs": [],
   "source": [
    "# for building the models\n",
    "from sklearn.linear_model import LinearRegression, Ridge, SGDRegressor\n",
    "from sklearn.svm import SVR, LinearSVR\n",
    "from sklearn.tree import DecisionTreeRegressor\n",
    "from sklearn.neighbors import KNeighborsRegressor\n",
    "from sklearn.pipeline import Pipeline\n",
    "from sklearn.feature_extraction.text import TfidfVectorizer\n",
    "from tqdm import tqdm\n",
    "\n",
    "# for computing the scores --> https://www.datacourses.com/evaluation-of-regression-models-in-scikit-learn-846/\n",
    "import math\n",
    "from sklearn.metrics import mean_squared_error, r2_score\n",
    "\n",
    "# for result visualization\n",
    "import numpy as np\n",
    "import matplotlib.pyplot as plt\n",
    "\n",
    "# for loading data\n",
    "import pickle "
   ]
  },
  {
   "cell_type": "markdown",
   "id": "2efeb1dd-8a35-4973-8f53-4cb0743adc2e",
   "metadata": {
    "tags": []
   },
   "source": [
    "## Data loading"
   ]
  },
  {
   "cell_type": "code",
   "execution_count": 2,
   "id": "294566c1-0e02-4abf-8ffa-583a4f03f5bc",
   "metadata": {},
   "outputs": [],
   "source": [
    "# Load train test\n",
    "f_train_test = open('train_test.pickle', 'rb')\n",
    "(train,test) = pickle.load(f_train_test)\n",
    "f_train_test.close()"
   ]
  },
  {
   "cell_type": "code",
   "execution_count": 3,
   "id": "eaf3f61f-55ec-444e-86a0-08d027cca21a",
   "metadata": {},
   "outputs": [],
   "source": [
    "# Load train samples dfs\n",
    "f_train_samples = open('train_samples.pickle', 'rb')\n",
    "(train10, train20, train30, train40, train50, train60, train70, train80, train90) = pickle.load(f_train_samples)\n",
    "f_train_samples.close()"
   ]
  },
  {
   "cell_type": "code",
   "execution_count": 4,
   "id": "5f26a4f8-10e3-435e-9fdd-e927ecd5491c",
   "metadata": {},
   "outputs": [],
   "source": [
    "# Load train augmented samples dfs\n",
    "f_train_samples_aug = open('train_energy_samples_aug2.pickle', 'rb')\n",
    "(train10_aug,train20_aug,train30_aug,train40_aug,train50_aug,train60_aug,train70_aug,train80_aug,train90_aug,train_aug) = pickle.load(f_train_samples_aug)\n",
    "f_train_samples_aug.close()"
   ]
  },
  {
   "cell_type": "markdown",
   "id": "3bbb5a42-cf53-47d1-a954-407fe553a028",
   "metadata": {},
   "source": [
    "## Prepare data for modeling"
   ]
  },
  {
   "cell_type": "code",
   "execution_count": 5,
   "id": "f442f54c-2072-45d6-b34c-27e03450ac68",
   "metadata": {},
   "outputs": [],
   "source": [
    "train_list = [train10, train20, train30, train40, train50, train60, train70, train80, train90, train]\n",
    "train_aug_list = [train10_aug,train20_aug,train30_aug,train40_aug,train50_aug,train60_aug,train70_aug,train80_aug,train90_aug,train_aug]"
   ]
  },
  {
   "cell_type": "code",
   "execution_count": 6,
   "id": "77912e1e-2acc-4c5a-abca-ba76b9c5fb2a",
   "metadata": {},
   "outputs": [],
   "source": [
    "# train data\n",
    "X_train_list = []\n",
    "y_train_list = []\n",
    "for i in range(len(train_list)):\n",
    "    X_train_list.append(train_list[i][['lyrics']].values.flatten())\n",
    "    y_train_list.append(train_list[i][['energy']].values)\n",
    "\n",
    "# augmented data\n",
    "X_train_aug_list = []\n",
    "y_train_aug_list = []\n",
    "for i in range(len(train_aug_list)):\n",
    "    X_train_aug_list.append(train_aug_list[i][['lyrics']].values.flatten())\n",
    "    y_train_aug_list.append(train_aug_list[i][['energy']].values)\n",
    "    \n",
    "# test data\n",
    "X_test = test[['lyrics']].values.flatten()\n",
    "y_test = test[['energy']].values"
   ]
  },
  {
   "cell_type": "code",
   "execution_count": 7,
   "id": "b14387a7-5309-454b-b171-a6ddedb25d64",
   "metadata": {},
   "outputs": [],
   "source": [
    "# range of the train set \n",
    "x_range = [item for item in list(range(10,110,10))]"
   ]
  },
  {
   "cell_type": "markdown",
   "id": "bcaebf71-64c9-4dd8-b8dd-decb4f2f9dd5",
   "metadata": {},
   "source": [
    "## SGD Regressor"
   ]
  },
  {
   "cell_type": "code",
   "execution_count": 8,
   "id": "ee0046ff-af3e-4c6e-84bc-f6cf4f7046e3",
   "metadata": {},
   "outputs": [],
   "source": [
    "def SGDR_Regressor(X_list,y_list,X_test,y_test):\n",
    "    SGDR_MSE = []\n",
    "\n",
    "    for i in tqdm(range(len(train_aug_list))):\n",
    "        #training de model\n",
    "        pipe_SGDR = Pipeline([('tfidf_vec' , TfidfVectorizer(min_df=3,\n",
    "                                                    max_features=5000,\n",
    "                                                    stop_words='english')),\n",
    "                     ('clf_SGDR'   , SGDRegressor(random_state=79068588)),\n",
    "                    ])\n",
    "        pipe_SGDR.fit(X_list[i],y_list[i].ravel())\n",
    "        \n",
    "        #scores\n",
    "        y_pred=pipe_SGDR.predict(X_test)\n",
    "        SGDR_MSE.append(mean_squared_error(y_test,y_pred))\n",
    "        \n",
    "    return(SGDR_MSE)"
   ]
  },
  {
   "cell_type": "code",
   "execution_count": 9,
   "id": "c4c1849f-4beb-40b4-9686-c8b18b4a6150",
   "metadata": {},
   "outputs": [
    {
     "name": "stderr",
     "output_type": "stream",
     "text": [
      "100%|██████████| 10/10 [00:18<00:00,  1.82s/it]\n"
     ]
    }
   ],
   "source": [
    "sgdr_scores1 = SGDR_Regressor(X_train_list,y_train_list,X_test,y_test)"
   ]
  },
  {
   "cell_type": "code",
   "execution_count": 10,
   "id": "3c0d5b4e-e5f9-40a3-a539-3f6e3af42baa",
   "metadata": {},
   "outputs": [
    {
     "name": "stderr",
     "output_type": "stream",
     "text": [
      "100%|██████████| 10/10 [00:26<00:00,  2.68s/it]\n"
     ]
    }
   ],
   "source": [
    "sgdr_scores2 = SGDR_Regressor(X_train_aug_list,y_train_aug_list,X_test,y_test)"
   ]
  },
  {
   "cell_type": "code",
   "execution_count": 11,
   "id": "eb789fef-c4a7-4639-ae18-994b43bae181",
   "metadata": {},
   "outputs": [
    {
     "data": {
      "image/png": "[encoded data removed]",
      "text/plain": [
       "<Figure size 432x288 with 1 Axes>"
      ]
     },
     "metadata": {
      "needs_background": "light"
     },
     "output_type": "display_data"
    }
   ],
   "source": [
    "plt.plot(x_range, sgdr_scores1, label='scores without data aug.')\n",
    "plt.plot(x_range, sgdr_scores2, label='scores with data aug.')\n",
    "plt.xlabel('% train data')\n",
    "plt.ylabel('MSE')\n",
    "plt.title('MSE with SGDR')\n",
    "plt.legend()\n",
    "plt.show()"
   ]
  },
  {
   "cell_type": "markdown",
   "id": "0dee67c2-16b2-43d7-a955-c778708b2e9c",
   "metadata": {},
   "source": [
    "## Decision Tree Regressor"
   ]
  },
  {
   "cell_type": "code",
   "execution_count": 12,
   "id": "79cf057e-7efd-4fb5-81bc-2fa57d815994",
   "metadata": {},
   "outputs": [],
   "source": [
    "def DT_Regressor(X_list,y_list,X_test,y_test):\n",
    "    DTR_MSE = []\n",
    "\n",
    "    for i in tqdm(range(len(train_aug_list))):\n",
    "        #training de model\n",
    "        pipe_DTR = Pipeline([('tfidf_vec' , TfidfVectorizer(min_df=3,\n",
    "                                                    max_features=5000,\n",
    "                                                    stop_words='english')),\n",
    "                     ('clf_DTR'   , DecisionTreeRegressor(random_state=79068588)),\n",
    "                    ])\n",
    "        pipe_DTR.fit(X_list[i],y_list[i].ravel())\n",
    "        \n",
    "        #scores\n",
    "        y_pred=pipe_DTR.predict(X_test)\n",
    "        DTR_MSE.append(mean_squared_error(y_test,y_pred))\n",
    "        \n",
    "    return(DTR_MSE)"
   ]
  },
  {
   "cell_type": "code",
   "execution_count": 13,
   "id": "447f60a2-6dc3-48a3-a674-23f64ec314cb",
   "metadata": {},
   "outputs": [
    {
     "name": "stderr",
     "output_type": "stream",
     "text": [
      "100%|██████████| 10/10 [02:18<00:00, 13.84s/it]\n"
     ]
    }
   ],
   "source": [
    "dt_scores1 = DT_Regressor(X_train_list,y_train_list,X_test,y_test)"
   ]
  },
  {
   "cell_type": "code",
   "execution_count": 14,
   "id": "13cdf430-b938-4fcb-99ec-87e66438ebcf",
   "metadata": {},
   "outputs": [
    {
     "name": "stderr",
     "output_type": "stream",
     "text": [
      "100%|██████████| 10/10 [03:50<00:00, 23.03s/it]\n"
     ]
    }
   ],
   "source": [
    "dt_scores2 = DT_Regressor(X_train_aug_list,y_train_aug_list,X_test,y_test)"
   ]
  },
  {
   "cell_type": "code",
   "execution_count": 15,
   "id": "5c7b70fb-3c7a-4727-a0be-afa41c0bab1e",
   "metadata": {},
   "outputs": [
    {
     "data": {
      "image/png": "[encoded data removed]",
      "text/plain": [
       "<Figure size 432x288 with 1 Axes>"
      ]
     },
     "metadata": {
      "needs_background": "light"
     },
     "output_type": "display_data"
    }
   ],
   "source": [
    "plt.plot(x_range, dt_scores1, label='scores without data aug.')\n",
    "plt.plot(x_range, dt_scores2, label='scores with data aug.')\n",
    "plt.xlabel('% train data')\n",
    "plt.ylabel('MSE')\n",
    "plt.title('MSE with DTR')\n",
    "plt.legend()\n",
    "plt.show()"
   ]
  },
  {
   "cell_type": "markdown",
   "id": "0bdfad7e-c204-41d7-b4f2-5d1f78769e46",
   "metadata": {},
   "source": [
    "## Linear SV Regressor"
   ]
  },
  {
   "cell_type": "code",
   "execution_count": 16,
   "id": "500e84ea-c0cd-450c-9c68-7b01af22348a",
   "metadata": {},
   "outputs": [],
   "source": [
    "def SVR_Regressor(X_list,y_list,X_test,y_test):\n",
    "    SVR_MSE = []\n",
    "\n",
    "    for i in tqdm(range(len(train_aug_list))):\n",
    "        #training de model\n",
    "        pipe_SVR = Pipeline([('tfidf_vec' , TfidfVectorizer(min_df=3,\n",
    "                                                    max_features=5000,\n",
    "                                                    stop_words='english')),\n",
    "                     ('clf_SVR'   , LinearSVR(max_iter=100000,random_state=79068588)),\n",
    "                    ])\n",
    "        pipe_SVR.fit(X_list[i],y_list[i].ravel())\n",
    "        \n",
    "        #scores\n",
    "        y_pred=pipe_SVR.predict(X_test)\n",
    "        SVR_MSE.append(mean_squared_error(y_test,y_pred))\n",
    "        \n",
    "    return(SVR_MSE)"
   ]
  },
  {
   "cell_type": "code",
   "execution_count": 17,
   "id": "049cc9b0-104d-4f92-b447-6bc1e45dd1cd",
   "metadata": {},
   "outputs": [
    {
     "name": "stderr",
     "output_type": "stream",
     "text": [
      "100%|██████████| 10/10 [00:24<00:00,  2.49s/it]\n"
     ]
    }
   ],
   "source": [
    "svr_scores1 = SVR_Regressor(X_train_list,y_train_list,X_test,y_test)"
   ]
  },
  {
   "cell_type": "code",
   "execution_count": 18,
   "id": "31254cbd-9455-4a10-b27d-bd1cef92bfcf",
   "metadata": {},
   "outputs": [
    {
     "name": "stderr",
     "output_type": "stream",
     "text": [
      "100%|██████████| 10/10 [06:39<00:00, 40.00s/it]\n"
     ]
    }
   ],
   "source": [
    "svr_scores2 = SVR_Regressor(X_train_aug_list,y_train_aug_list,X_test,y_test)"
   ]
  },
  {
   "cell_type": "code",
   "execution_count": 19,
   "id": "3599f3a8-c96b-4e35-ba6e-478801ae965c",
   "metadata": {},
   "outputs": [
    {
     "data": {
      "image/png": "[encoded data removed]",
      "text/plain": [
       "<Figure size 432x288 with 1 Axes>"
      ]
     },
     "metadata": {
      "needs_background": "light"
     },
     "output_type": "display_data"
    }
   ],
   "source": [
    "plt.plot(x_range, svr_scores1, label='scores without data aug.')\n",
    "plt.plot(x_range, svr_scores2, label='scores with data aug.')\n",
    "plt.xlabel('% train data')\n",
    "plt.ylabel('MSE')\n",
    "plt.title('MSE with SVR')\n",
    "plt.legend()\n",
    "plt.show()"
   ]
  },
  {
   "cell_type": "markdown",
   "id": "a8846056-3b89-4887-93b1-5c7b310e18e6",
   "metadata": {},
   "source": [
    "## Save results"
   ]
  },
  {
   "cell_type": "code",
   "execution_count": 20,
   "id": "eedef5f0-c74c-4d2d-bdc8-3cca7b8cb883",
   "metadata": {},
   "outputs": [],
   "source": [
    "# Save MSE of all models\n",
    "f_mse_energy_samples_Naug = open('mse_energy_samples_Naug.pickle', 'wb')\n",
    "pickle.dump([sgdr_scores2,dt_scores2,svr_scores2], f_mse_energy_samples_Naug)\n",
    "f_mse_energy_samples_Naug.close()"
   ]
  }
 ],
 "metadata": {
  "kernelspec": {
   "display_name": "Python 3 (ipykernel)",
   "language": "python",
   "name": "python3"
  },
  "language_info": {
   "codemirror_mode": {
    "name": "ipython",
    "version": 3
   },
   "file_extension": ".py",
   "mimetype": "text/x-python",
   "name": "python",
   "nbconvert_exporter": "python",
   "pygments_lexer": "ipython3",
   "version": "3.8.2"
  }
 },
 "nbformat": 4,
 "nbformat_minor": 5
}
