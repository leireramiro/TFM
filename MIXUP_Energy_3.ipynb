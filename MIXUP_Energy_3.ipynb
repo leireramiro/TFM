{
 "cells": [
  {
   "cell_type": "markdown",
   "id": "17b2e161-61f9-49e7-b2d2-eb517422cea6",
   "metadata": {
    "tags": []
   },
   "source": [
    "# Regression Models for predicting Energy\n",
    "# ↳ using MIXUP data augmentation using different values for λ"
   ]
  },
  {
   "cell_type": "markdown",
   "id": "3ab0e45e-c76e-45aa-9ee0-dafad63da773",
   "metadata": {
    "tags": []
   },
   "source": [
    "## Libraries"
   ]
  },
  {
   "cell_type": "code",
   "execution_count": 1,
   "id": "d0093002-6af9-40a5-9314-9b42e1f6404a",
   "metadata": {},
   "outputs": [],
   "source": [
    "# for building the models\n",
    "from sklearn.linear_model import LinearRegression, Ridge, SGDRegressor\n",
    "from sklearn.svm import SVR, LinearSVR\n",
    "from sklearn.tree import DecisionTreeRegressor\n",
    "from sklearn.neighbors import KNeighborsRegressor\n",
    "from sklearn.pipeline import Pipeline\n",
    "from sklearn.feature_extraction.text import TfidfVectorizer\n",
    "from tqdm import tqdm\n",
    "\n",
    "# for computing the scores --> https://www.datacourses.com/evaluation-of-regression-models-in-scikit-learn-846/\n",
    "import math\n",
    "from sklearn.metrics import mean_squared_error, r2_score\n",
    "\n",
    "# for result visualization\n",
    "import numpy as np\n",
    "import matplotlib.pyplot as plt\n",
    "\n",
    "# for loading data\n",
    "import pickle "
   ]
  },
  {
   "cell_type": "markdown",
   "id": "618dac60-da97-448e-bfba-5312babd19dd",
   "metadata": {
    "tags": []
   },
   "source": [
    "## Data loading"
   ]
  },
  {
   "cell_type": "code",
   "execution_count": 2,
   "id": "4b50f07e-50b9-42f6-940e-6d7bab900cc3",
   "metadata": {},
   "outputs": [],
   "source": [
    "# Load train test\n",
    "f_train_test = open('train_test.pickle', 'rb')\n",
    "(train,test) = pickle.load(f_train_test)\n",
    "f_train_test.close()"
   ]
  },
  {
   "cell_type": "code",
   "execution_count": 3,
   "id": "0a051232-3225-45bb-b8c1-72475a03110f",
   "metadata": {},
   "outputs": [],
   "source": [
    "# Load train samples dfs\n",
    "f_train_samples = open('train_samples.pickle', 'rb')\n",
    "(train10, train20, train30, train40, train50, train60, train70, train80, train90) = pickle.load(f_train_samples)\n",
    "f_train_samples.close()"
   ]
  },
  {
   "cell_type": "code",
   "execution_count": 4,
   "id": "25a20254-62ae-4fe0-870a-c7573b702591",
   "metadata": {},
   "outputs": [],
   "source": [
    "# Load train augmented samples dfs\n",
    "f_train_energy_samples_aug_l = open('train_energy_samples_aug_l.pickle', 'rb')\n",
    "(train20_aug_l0,train20_aug_l1,train20_aug_l2,train20_aug_l3,train20_aug_l4,train20_aug_l5,train50_aug_l0,train50_aug_l1,train50_aug_l2,train50_aug_l3,train50_aug_l4,train50_aug_l5,train80_aug_l0,train80_aug_l1,train80_aug_l2,train80_aug_l3,train80_aug_l4,train80_aug_l5) = pickle.load(f_train_energy_samples_aug_l)\n",
    "f_train_energy_samples_aug_l.close()"
   ]
  },
  {
   "cell_type": "markdown",
   "id": "32e5f5cd-0c7c-409c-86c4-398df725f2d6",
   "metadata": {},
   "source": [
    "## Prepare data for modeling"
   ]
  },
  {
   "cell_type": "code",
   "execution_count": 5,
   "id": "9def0bc8-0b40-41a3-82d4-238dd91e1703",
   "metadata": {},
   "outputs": [],
   "source": [
    "train_20 = [train20,train20_aug_l0,train20_aug_l1,train20_aug_l2,train20_aug_l3,train20_aug_l4,train20_aug_l5]\n",
    "train_50 = [train50,train50_aug_l0,train50_aug_l1,train50_aug_l2,train50_aug_l3,train50_aug_l4,train50_aug_l5]\n",
    "train_80 = [train80,train80_aug_l0,train80_aug_l1,train80_aug_l2,train80_aug_l3,train80_aug_l4,train80_aug_l5]"
   ]
  },
  {
   "cell_type": "code",
   "execution_count": 6,
   "id": "b9819210-3b87-420a-b8d4-455e9a6ab429",
   "metadata": {},
   "outputs": [],
   "source": [
    "# train data 20%\n",
    "X_train_20_list = []\n",
    "y_train_20_list = []\n",
    "for i in range(len(train_20)):\n",
    "    X_train_20_list.append(train_20[i][['lyrics']].values.flatten())\n",
    "    y_train_20_list.append(train_20[i][['energy']].values)\n",
    "\n",
    "# train data 50%\n",
    "X_train_50_list = []\n",
    "y_train_50_list = []\n",
    "for i in range(len(train_50)):\n",
    "    X_train_50_list.append(train_50[i][['lyrics']].values.flatten())\n",
    "    y_train_50_list.append(train_50[i][['energy']].values)\n",
    "\n",
    "# train data 80%\n",
    "X_train_80_list = []\n",
    "y_train_80_list = []\n",
    "for i in range(len(train_80)):\n",
    "    X_train_80_list.append(train_80[i][['lyrics']].values.flatten())\n",
    "    y_train_80_list.append(train_80[i][['energy']].values)\n",
    "\n",
    "    \n",
    "# test data\n",
    "X_test = test[['lyrics']].values.flatten()\n",
    "y_test = test[['energy']].values"
   ]
  },
  {
   "cell_type": "code",
   "execution_count": 7,
   "id": "56209e2f-df5e-4079-9706-d0279a34d844",
   "metadata": {},
   "outputs": [],
   "source": [
    "# range of the lambdas\n",
    "x_range = [0, 0.05, 0.1, 0.2, 0.3, 0.4, 0.5]"
   ]
  },
  {
   "cell_type": "markdown",
   "id": "2d1693d3-824e-4f4b-801b-24341f98783f",
   "metadata": {},
   "source": [
    "## SGD Regressor"
   ]
  },
  {
   "cell_type": "code",
   "execution_count": 8,
   "id": "c9730973-aa92-4cf4-a9e0-02841ab84d99",
   "metadata": {},
   "outputs": [],
   "source": [
    "def SGDR_Regressor(X_list,y_list,X_test,y_test):\n",
    "    SGDR_MSE = []\n",
    "\n",
    "    for i in tqdm(range(len(train_20))):\n",
    "        #training de model\n",
    "        pipe_SGDR = Pipeline([('tfidf_vec' , TfidfVectorizer(min_df=3,\n",
    "                                                    max_features=5000,\n",
    "                                                    stop_words='english')),\n",
    "                     ('clf_SGDR'   , SGDRegressor(random_state=79068588)),\n",
    "                    ])\n",
    "        pipe_SGDR.fit(X_list[i],y_list[i].ravel())\n",
    "        \n",
    "        #scores\n",
    "        y_pred=pipe_SGDR.predict(X_test)\n",
    "        SGDR_MSE.append(mean_squared_error(y_test,y_pred))\n",
    "        \n",
    "    return(SGDR_MSE)"
   ]
  },
  {
   "cell_type": "code",
   "execution_count": 9,
   "id": "a5a1768a-edd2-46e9-b8e3-e3bd1b15f07a",
   "metadata": {},
   "outputs": [
    {
     "name": "stderr",
     "output_type": "stream",
     "text": [
      "100%|██████████| 7/7 [00:15<00:00,  2.20s/it]\n",
      "100%|██████████| 7/7 [00:16<00:00,  2.37s/it]\n",
      "100%|██████████| 7/7 [00:16<00:00,  2.37s/it]\n"
     ]
    }
   ],
   "source": [
    "sgdr_scores_20 = SGDR_Regressor(X_train_20_list,y_train_20_list,X_test,y_test)\n",
    "sgdr_scores_50 = SGDR_Regressor(X_train_50_list,y_train_50_list,X_test,y_test)\n",
    "sgdr_scores_80 = SGDR_Regressor(X_train_80_list,y_train_80_list,X_test,y_test)"
   ]
  },
  {
   "cell_type": "code",
   "execution_count": 10,
   "id": "2b883b90-0c1d-4ff7-a3fc-12285321221d",
   "metadata": {},
   "outputs": [
    {
     "data": {
      "image/png": "[encoded data removed]",
      "text/plain": [
       "<Figure size 432x288 with 1 Axes>"
      ]
     },
     "metadata": {
      "needs_background": "light"
     },
     "output_type": "display_data"
    }
   ],
   "source": [
    "plt.plot(x_range, sgdr_scores_20, label='20% of training')\n",
    "plt.plot(x_range, sgdr_scores_50, label='50% of training')\n",
    "plt.plot(x_range, sgdr_scores_80, label='80% of training')\n",
    "plt.xlabel('λ')\n",
    "plt.ylabel('MSE')\n",
    "plt.title('MSE with SGDR')\n",
    "plt.legend()\n",
    "plt.show()"
   ]
  },
  {
   "cell_type": "markdown",
   "id": "93b91a60-2218-4377-bec5-dd79ef5f2a7f",
   "metadata": {},
   "source": [
    "## Decision Tree Regressor"
   ]
  },
  {
   "cell_type": "code",
   "execution_count": 11,
   "id": "61f7dbca-3583-4a32-b927-a1f5bc9c90cb",
   "metadata": {},
   "outputs": [],
   "source": [
    "def DT_Regressor(X_list,y_list,X_test,y_test):\n",
    "    DTR_MSE = []\n",
    "\n",
    "    for i in tqdm(range(len(train_20))):\n",
    "        #training de model\n",
    "        pipe_DTR = Pipeline([('tfidf_vec' , TfidfVectorizer(min_df=3,\n",
    "                                                    max_features=5000,\n",
    "                                                    stop_words='english')),\n",
    "                     ('clf_DTR'   , DecisionTreeRegressor(random_state=79068588)),\n",
    "                    ])\n",
    "        pipe_DTR.fit(X_list[i],y_list[i].ravel())\n",
    "        \n",
    "        #scores\n",
    "        y_pred=pipe_DTR.predict(X_test)\n",
    "        DTR_MSE.append(mean_squared_error(y_test,y_pred))\n",
    "        \n",
    "    return(DTR_MSE)"
   ]
  },
  {
   "cell_type": "code",
   "execution_count": 12,
   "id": "09b7e187-33f2-417d-a298-8319434c6356",
   "metadata": {},
   "outputs": [
    {
     "name": "stderr",
     "output_type": "stream",
     "text": [
      "100%|██████████| 7/7 [01:18<00:00, 11.20s/it]\n",
      "100%|██████████| 7/7 [02:12<00:00, 18.89s/it]\n",
      "100%|██████████| 7/7 [02:40<00:00, 22.93s/it]\n"
     ]
    }
   ],
   "source": [
    "dt_scores_20 = DT_Regressor(X_train_20_list,y_train_20_list,X_test,y_test)\n",
    "dt_scores_50 = DT_Regressor(X_train_50_list,y_train_50_list,X_test,y_test)\n",
    "dt_scores_80 = DT_Regressor(X_train_80_list,y_train_80_list,X_test,y_test)"
   ]
  },
  {
   "cell_type": "code",
   "execution_count": 13,
   "id": "7f956efb-fbe4-4e68-8a5c-0e9b69f6d6c9",
   "metadata": {},
   "outputs": [
    {
     "data": {
      "image/png": "[encoded data removed]",
      "text/plain": [
       "<Figure size 432x288 with 1 Axes>"
      ]
     },
     "metadata": {
      "needs_background": "light"
     },
     "output_type": "display_data"
    }
   ],
   "source": [
    "plt.plot(x_range, dt_scores_20, label='20% of training')\n",
    "plt.plot(x_range, dt_scores_50, label='50% of training')\n",
    "plt.plot(x_range, dt_scores_80, label='80% of training')\n",
    "plt.xlabel('λ')\n",
    "plt.ylabel('MSE')\n",
    "plt.title('MSE with DTR')\n",
    "plt.legend()\n",
    "plt.show()"
   ]
  },
  {
   "cell_type": "markdown",
   "id": "c6291995-f4cb-43e8-a78c-c0c96ba3ae66",
   "metadata": {},
   "source": [
    "## Linear SV Regressor"
   ]
  },
  {
   "cell_type": "code",
   "execution_count": 14,
   "id": "ab63a5a4-e2e4-47fa-bfd6-ccef0b0e4bff",
   "metadata": {},
   "outputs": [],
   "source": [
    "def SVR_Regressor(X_list,y_list,X_test,y_test):\n",
    "    SVR_MSE = []\n",
    "\n",
    "    for i in tqdm(range(len(train_20))):\n",
    "        #training de model\n",
    "        pipe_SVR = Pipeline([('tfidf_vec' , TfidfVectorizer(min_df=3,\n",
    "                                                    max_features=5000,\n",
    "                                                    stop_words='english')),\n",
    "                     ('clf_SVR'   , LinearSVR(max_iter=10000,random_state=79068588)),\n",
    "                    ])\n",
    "        pipe_SVR.fit(X_list[i],y_list[i].ravel())\n",
    "        \n",
    "        #scores\n",
    "        y_pred=pipe_SVR.predict(X_test)\n",
    "        SVR_MSE.append(mean_squared_error(y_test,y_pred))\n",
    "        \n",
    "    return(SVR_MSE)"
   ]
  },
  {
   "cell_type": "code",
   "execution_count": 15,
   "id": "c467a7b8-8a85-425d-a43e-5f9fe55645ef",
   "metadata": {},
   "outputs": [
    {
     "name": "stderr",
     "output_type": "stream",
     "text": [
      "100%|██████████| 7/7 [01:18<00:00, 11.28s/it]\n",
      "100%|██████████| 7/7 [00:43<00:00,  6.28s/it]\n",
      "100%|██████████| 7/7 [00:30<00:00,  4.38s/it]\n"
     ]
    }
   ],
   "source": [
    "svr_scores_20 = SVR_Regressor(X_train_20_list,y_train_20_list,X_test,y_test)\n",
    "svr_scores_50 = SVR_Regressor(X_train_50_list,y_train_50_list,X_test,y_test)\n",
    "svr_scores_80 = SVR_Regressor(X_train_80_list,y_train_80_list,X_test,y_test)"
   ]
  },
  {
   "cell_type": "code",
   "execution_count": 16,
   "id": "9463bd2e-09f5-4192-897f-51885b3f59f0",
   "metadata": {},
   "outputs": [
    {
     "data": {
      "image/png": "[encoded data removed]",
      "text/plain": [
       "<Figure size 432x288 with 1 Axes>"
      ]
     },
     "metadata": {
      "needs_background": "light"
     },
     "output_type": "display_data"
    }
   ],
   "source": [
    "plt.plot(x_range, svr_scores_20, label='20% of training')\n",
    "plt.plot(x_range, svr_scores_50, label='50% of training')\n",
    "plt.plot(x_range, svr_scores_80, label='80% of training')\n",
    "plt.xlabel('λ')\n",
    "plt.ylabel('MSE')\n",
    "plt.title('MSE with SVR')\n",
    "plt.legend()\n",
    "plt.show()"
   ]
  },
  {
   "cell_type": "markdown",
   "id": "765da1ff-622e-4436-ac4a-00fbff27df80",
   "metadata": {},
   "source": [
    "## Save results"
   ]
  },
  {
   "cell_type": "code",
   "execution_count": 17,
   "id": "29d59f0b-1b04-4cb9-bd3c-6cc4060dcbbb",
   "metadata": {},
   "outputs": [],
   "source": [
    "# Save MSE of all models\n",
    "f_mse_energy_samples_MUaug_l = open('mse_energy_samples_MUaug_l.pickle', 'wb')\n",
    "pickle.dump([sgdr_scores_20,sgdr_scores_50,sgdr_scores_80,dt_scores_20,dt_scores_50,dt_scores_80,svr_scores_20,svr_scores_50,svr_scores_80], f_mse_energy_samples_MUaug_l)\n",
    "f_mse_energy_samples_MUaug_l.close()"
   ]
  }
 ],
 "metadata": {
  "kernelspec": {
   "display_name": "Python 3 (ipykernel)",
   "language": "python",
   "name": "python3"
  },
  "language_info": {
   "codemirror_mode": {
    "name": "ipython",
    "version": 3
   },
   "file_extension": ".py",
   "mimetype": "text/x-python",
   "name": "python",
   "nbconvert_exporter": "python",
   "pygments_lexer": "ipython3",
   "version": "3.8.2"
  }
 },
 "nbformat": 4,
 "nbformat_minor": 5
}
