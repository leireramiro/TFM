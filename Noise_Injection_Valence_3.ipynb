{
 "cells": [
  {
   "cell_type": "markdown",
   "id": "120e581c-15bd-4a45-bed1-b948425b0dc8",
   "metadata": {
    "tags": []
   },
   "source": [
    "# Regression Models for predicting Valence\n",
    "# ↳ using Noise Injection data augmentation using different values for n"
   ]
  },
  {
   "cell_type": "markdown",
   "id": "b530e620-0d7b-4445-a542-c9570a868d67",
   "metadata": {
    "tags": []
   },
   "source": [
    "## Libraries"
   ]
  },
  {
   "cell_type": "code",
   "execution_count": 1,
   "id": "0a1fbe20-1e25-4995-87de-97b34b67272a",
   "metadata": {},
   "outputs": [],
   "source": [
    "# for building the models\n",
    "from sklearn.linear_model import LinearRegression, Ridge, SGDRegressor\n",
    "from sklearn.svm import SVR, LinearSVR\n",
    "from sklearn.tree import DecisionTreeRegressor\n",
    "from sklearn.neighbors import KNeighborsRegressor\n",
    "from sklearn.pipeline import Pipeline\n",
    "from sklearn.feature_extraction.text import TfidfVectorizer\n",
    "from tqdm import tqdm\n",
    "\n",
    "# for computing the scores --> https://www.datacourses.com/evaluation-of-regression-models-in-scikit-learn-846/\n",
    "import math\n",
    "from sklearn.metrics import mean_squared_error, r2_score\n",
    "\n",
    "# for result visualization\n",
    "import numpy as np\n",
    "import matplotlib.pyplot as plt\n",
    "import matplotlib.ticker as mticker\n",
    "\n",
    "# for loading data\n",
    "import pickle "
   ]
  },
  {
   "cell_type": "markdown",
   "id": "74a6e6cf-d2e3-46f6-9ce0-3b7a15213cc9",
   "metadata": {
    "tags": []
   },
   "source": [
    "## Data loading"
   ]
  },
  {
   "cell_type": "code",
   "execution_count": 2,
   "id": "8b2035ca-0ad5-4a15-8120-bad78ffbfb87",
   "metadata": {},
   "outputs": [],
   "source": [
    "# Load train test\n",
    "f_train_test = open('train_test.pickle', 'rb')\n",
    "(train,test) = pickle.load(f_train_test)\n",
    "f_train_test.close()"
   ]
  },
  {
   "cell_type": "code",
   "execution_count": 3,
   "id": "ed31de26-0f1e-4f6d-9880-67207e66d742",
   "metadata": {},
   "outputs": [],
   "source": [
    "# Load train samples dfs\n",
    "f_train_samples = open('train_samples.pickle', 'rb')\n",
    "(train10, train20, train30, train40, train50, train60, train70, train80, train90) = pickle.load(f_train_samples)\n",
    "f_train_samples.close()"
   ]
  },
  {
   "cell_type": "code",
   "execution_count": 4,
   "id": "d5a16808-bebd-4287-9759-8e47b460b58c",
   "metadata": {},
   "outputs": [],
   "source": [
    "# Load train augmented samples dfs\n",
    "f_train_valence_samples_aug_n = open('train_valence_samples_aug_n.pickle', 'rb')\n",
    "(train20_aug_n1,train20_aug_n2,train20_aug_n3,train20_aug_n4,train20_aug_n5,train50_aug_n1,train50_aug_n2,train50_aug_n3,train50_aug_n4,train50_aug_n5,train80_aug_n1,train80_aug_n2,train80_aug_n3,train80_aug_n4,train80_aug_n5) = pickle.load(f_train_valence_samples_aug_n)\n",
    "f_train_valence_samples_aug_n.close()"
   ]
  },
  {
   "cell_type": "markdown",
   "id": "a25bdda8-714d-4483-84f8-9de8d0f1bb9f",
   "metadata": {},
   "source": [
    "## Prepare data for modeling"
   ]
  },
  {
   "cell_type": "code",
   "execution_count": 5,
   "id": "7830df45-60cb-4aaa-9c6c-5872dd915f9f",
   "metadata": {},
   "outputs": [],
   "source": [
    "train_20 = [train20,train20_aug_n1,train20_aug_n2,train20_aug_n3,train20_aug_n4,train20_aug_n5]\n",
    "train_50 = [train50,train50_aug_n1,train50_aug_n2,train50_aug_n3,train50_aug_n4,train50_aug_n5]\n",
    "train_80 = [train80,train80_aug_n1,train80_aug_n2,train80_aug_n3,train80_aug_n4,train80_aug_n5]"
   ]
  },
  {
   "cell_type": "code",
   "execution_count": 6,
   "id": "60eee0a3-d2fa-43dd-9984-167316656a8a",
   "metadata": {},
   "outputs": [],
   "source": [
    "# train data 20%\n",
    "X_train_20_list = []\n",
    "y_train_20_list = []\n",
    "for i in range(len(train_20)):\n",
    "    X_train_20_list.append(train_20[i][['lyrics']].values.flatten())\n",
    "    y_train_20_list.append(train_20[i][['valence']].values)\n",
    "\n",
    "# train data 50%\n",
    "X_train_50_list = []\n",
    "y_train_50_list = []\n",
    "for i in range(len(train_50)):\n",
    "    X_train_50_list.append(train_50[i][['lyrics']].values.flatten())\n",
    "    y_train_50_list.append(train_50[i][['valence']].values)\n",
    "\n",
    "# train data 80%\n",
    "X_train_80_list = []\n",
    "y_train_80_list = []\n",
    "for i in range(len(train_80)):\n",
    "    X_train_80_list.append(train_80[i][['lyrics']].values.flatten())\n",
    "    y_train_80_list.append(train_80[i][['valence']].values)\n",
    "\n",
    "    \n",
    "# test data\n",
    "X_test = test[['lyrics']].values.flatten()\n",
    "y_test = test[['valence']].values"
   ]
  },
  {
   "cell_type": "code",
   "execution_count": 7,
   "id": "792cd23e-d1a4-4827-8085-276ab3bf09b8",
   "metadata": {},
   "outputs": [],
   "source": [
    "# range of the lambdas\n",
    "x_range = [0, 1, 5, 10, 15, 20]"
   ]
  },
  {
   "cell_type": "markdown",
   "id": "ebda1f85-cd11-4597-909d-373d285fbd42",
   "metadata": {},
   "source": [
    "## SGD Regressor"
   ]
  },
  {
   "cell_type": "code",
   "execution_count": 8,
   "id": "744e5252-3c94-454e-9dbd-e4dda33d6648",
   "metadata": {},
   "outputs": [],
   "source": [
    "def SGDR_Regressor(X_list,y_list,X_test,y_test):\n",
    "    SGDR_MSE = []\n",
    "\n",
    "    for i in tqdm(range(len(train_20))):\n",
    "        #training de model\n",
    "        pipe_SGDR = Pipeline([('tfidf_vec' , TfidfVectorizer(min_df=3,\n",
    "                                                    max_features=5000,\n",
    "                                                    stop_words='english')),\n",
    "                     ('clf_SGDR'   , SGDRegressor(random_state=79068588)),\n",
    "                    ])\n",
    "        pipe_SGDR.fit(X_list[i],y_list[i].ravel())\n",
    "        \n",
    "        #scores\n",
    "        y_pred=pipe_SGDR.predict(X_test)\n",
    "        SGDR_MSE.append(mean_squared_error(y_test,y_pred))\n",
    "        \n",
    "    return(SGDR_MSE)"
   ]
  },
  {
   "cell_type": "code",
   "execution_count": 9,
   "id": "e93d0f98-af1f-463a-bfeb-cfbd51aadcca",
   "metadata": {},
   "outputs": [
    {
     "name": "stderr",
     "output_type": "stream",
     "text": [
      "100%|██████████| 6/6 [00:11<00:00,  1.90s/it]\n",
      "100%|██████████| 6/6 [00:11<00:00,  1.97s/it]\n",
      "100%|██████████| 6/6 [00:13<00:00,  2.32s/it]\n"
     ]
    }
   ],
   "source": [
    "sgdr_scores_20 = SGDR_Regressor(X_train_20_list,y_train_20_list,X_test,y_test)\n",
    "sgdr_scores_50 = SGDR_Regressor(X_train_50_list,y_train_50_list,X_test,y_test)\n",
    "sgdr_scores_80 = SGDR_Regressor(X_train_80_list,y_train_80_list,X_test,y_test)"
   ]
  },
  {
   "cell_type": "code",
   "execution_count": 10,
   "id": "1708fed6-cbbf-4323-9983-74a5f1270223",
   "metadata": {},
   "outputs": [
    {
     "data": {
      "image/png": "[encoded data removed]",
      "text/plain": [
       "<Figure size 432x288 with 1 Axes>"
      ]
     },
     "metadata": {
      "needs_background": "light"
     },
     "output_type": "display_data"
    }
   ],
   "source": [
    "plt.plot(x_range, sgdr_scores_20, label='20% of training')\n",
    "plt.plot(x_range, sgdr_scores_50, label='50% of training')\n",
    "plt.plot(x_range, sgdr_scores_80, label='80% of training')\n",
    "plt.gca().xaxis.set_major_locator(mticker.MultipleLocator(5))\n",
    "plt.xlabel('n')\n",
    "plt.ylabel('MSE')\n",
    "plt.title('MSE with SGDR')\n",
    "plt.legend()\n",
    "plt.show()"
   ]
  },
  {
   "cell_type": "markdown",
   "id": "cec71766-56f8-49ed-9ca6-4e86cf1fe8d1",
   "metadata": {},
   "source": [
    "## Decision Tree Regressor"
   ]
  },
  {
   "cell_type": "code",
   "execution_count": 11,
   "id": "be59f67e-3aa3-49c2-9e88-80d4733ce82a",
   "metadata": {},
   "outputs": [],
   "source": [
    "def DT_Regressor(X_list,y_list,X_test,y_test):\n",
    "    DTR_MSE = []\n",
    "\n",
    "    for i in tqdm(range(len(train_20))):\n",
    "        #training de model\n",
    "        pipe_DTR = Pipeline([('tfidf_vec' , TfidfVectorizer(min_df=3,\n",
    "                                                    max_features=5000,\n",
    "                                                    stop_words='english')),\n",
    "                     ('clf_DTR'   , DecisionTreeRegressor(random_state=79068588)),\n",
    "                    ])\n",
    "        pipe_DTR.fit(X_list[i],y_list[i].ravel())\n",
    "        \n",
    "        #scores\n",
    "        y_pred=pipe_DTR.predict(X_test)\n",
    "        DTR_MSE.append(mean_squared_error(y_test,y_pred))\n",
    "        \n",
    "    return(DTR_MSE)"
   ]
  },
  {
   "cell_type": "code",
   "execution_count": 12,
   "id": "fb05cfcb-c4ac-4750-a567-bd984d9eb741",
   "metadata": {},
   "outputs": [
    {
     "name": "stderr",
     "output_type": "stream",
     "text": [
      "100%|██████████| 6/6 [01:07<00:00, 11.27s/it]\n",
      "100%|██████████| 6/6 [01:41<00:00, 16.89s/it]\n",
      "100%|██████████| 6/6 [02:00<00:00, 20.16s/it]\n"
     ]
    }
   ],
   "source": [
    "dt_scores_20 = DT_Regressor(X_train_20_list,y_train_20_list,X_test,y_test)\n",
    "dt_scores_50 = DT_Regressor(X_train_50_list,y_train_50_list,X_test,y_test)\n",
    "dt_scores_80 = DT_Regressor(X_train_80_list,y_train_80_list,X_test,y_test)"
   ]
  },
  {
   "cell_type": "code",
   "execution_count": 13,
   "id": "f156e188-c754-4225-9727-407c66cca0a5",
   "metadata": {},
   "outputs": [
    {
     "data": {
      "image/png": "[encoded data removed]",
      "text/plain": [
       "<Figure size 432x288 with 1 Axes>"
      ]
     },
     "metadata": {
      "needs_background": "light"
     },
     "output_type": "display_data"
    }
   ],
   "source": [
    "plt.plot(x_range, dt_scores_20, label='20% of training')\n",
    "plt.plot(x_range, dt_scores_50, label='50% of training')\n",
    "plt.plot(x_range, dt_scores_80, label='80% of training')\n",
    "plt.gca().xaxis.set_major_locator(mticker.MultipleLocator(5))\n",
    "plt.xlabel('n')\n",
    "plt.ylabel('MSE')\n",
    "plt.title('MSE with DTR')\n",
    "plt.legend()\n",
    "plt.show()"
   ]
  },
  {
   "cell_type": "markdown",
   "id": "bd4db94e-f1ea-48e3-af3b-01f533bd3e67",
   "metadata": {},
   "source": [
    "## Linear SV Regressor"
   ]
  },
  {
   "cell_type": "code",
   "execution_count": 14,
   "id": "c11b7812-8936-45c4-816a-181ddf72fda6",
   "metadata": {},
   "outputs": [],
   "source": [
    "def SVR_Regressor(X_list,y_list,X_test,y_test):\n",
    "    SVR_MSE = []\n",
    "\n",
    "    for i in tqdm(range(len(train_20))):\n",
    "        #training de model\n",
    "        pipe_SVR = Pipeline([('tfidf_vec' , TfidfVectorizer(min_df=3,\n",
    "                                                    max_features=5000,\n",
    "                                                    stop_words='english')),\n",
    "                     ('clf_SVR'   , LinearSVR(max_iter=10000,random_state=79068588)),\n",
    "                    ])\n",
    "        pipe_SVR.fit(X_list[i],y_list[i].ravel())\n",
    "        \n",
    "        #scores\n",
    "        y_pred=pipe_SVR.predict(X_test)\n",
    "        SVR_MSE.append(mean_squared_error(y_test,y_pred))\n",
    "        \n",
    "    return(SVR_MSE)"
   ]
  },
  {
   "cell_type": "code",
   "execution_count": 15,
   "id": "c0e5629e-2f7a-4564-aaeb-4a20c3184563",
   "metadata": {},
   "outputs": [
    {
     "name": "stderr",
     "output_type": "stream",
     "text": [
      " 17%|█▋        | 1/6 [00:00<00:04,  1.14it/s]/opt/anaconda3/envs/Optimizacion/lib/python3.8/site-packages/sklearn/svm/_base.py:985: ConvergenceWarning: Liblinear failed to converge, increase the number of iterations.\n",
      "  warnings.warn(\"Liblinear failed to converge, increase \"\n",
      " 33%|███▎      | 2/6 [00:55<02:09, 32.30s/it]/opt/anaconda3/envs/Optimizacion/lib/python3.8/site-packages/sklearn/svm/_base.py:985: ConvergenceWarning: Liblinear failed to converge, increase the number of iterations.\n",
      "  warnings.warn(\"Liblinear failed to converge, increase \"\n",
      " 50%|█████     | 3/6 [01:50<02:07, 42.66s/it]/opt/anaconda3/envs/Optimizacion/lib/python3.8/site-packages/sklearn/svm/_base.py:985: ConvergenceWarning: Liblinear failed to converge, increase the number of iterations.\n",
      "  warnings.warn(\"Liblinear failed to converge, increase \"\n",
      "100%|██████████| 6/6 [04:26<00:00, 44.36s/it]\n",
      "100%|██████████| 6/6 [01:18<00:00, 13.01s/it]\n",
      "100%|██████████| 6/6 [00:29<00:00,  4.99s/it]\n"
     ]
    }
   ],
   "source": [
    "svr_scores_20 = SVR_Regressor(X_train_20_list,y_train_20_list,X_test,y_test)\n",
    "svr_scores_50 = SVR_Regressor(X_train_50_list,y_train_50_list,X_test,y_test)\n",
    "svr_scores_80 = SVR_Regressor(X_train_80_list,y_train_80_list,X_test,y_test)"
   ]
  },
  {
   "cell_type": "code",
   "execution_count": 16,
   "id": "0e7ef391-fb93-4698-a7ca-9dd7c8ae8c7d",
   "metadata": {},
   "outputs": [
    {
     "data": {
      "image/png": "[encoded data removed]",
      "text/plain": [
       "<Figure size 432x288 with 1 Axes>"
      ]
     },
     "metadata": {
      "needs_background": "light"
     },
     "output_type": "display_data"
    }
   ],
   "source": [
    "plt.plot(x_range, svr_scores_20, label='20% of training')\n",
    "plt.plot(x_range, svr_scores_50, label='50% of training')\n",
    "plt.plot(x_range, svr_scores_80, label='80% of training')\n",
    "plt.gca().xaxis.set_major_locator(mticker.MultipleLocator(5))\n",
    "plt.xlabel('n')\n",
    "plt.ylabel('MSE')\n",
    "plt.title('MSE with SVR')\n",
    "plt.legend()\n",
    "plt.show()"
   ]
  },
  {
   "cell_type": "markdown",
   "id": "3917beea-af24-421e-9b8e-fb14450b66aa",
   "metadata": {},
   "source": [
    "## Save results"
   ]
  },
  {
   "cell_type": "code",
   "execution_count": 17,
   "id": "7e51ea0d-40fc-4713-90e0-cfad867a36b8",
   "metadata": {},
   "outputs": [],
   "source": [
    "# Save MSE of all models\n",
    "f_mse_valence_samples_NIaug_n = open('mse_valence_samples_NIaug_n.pickle', 'wb')\n",
    "pickle.dump([sgdr_scores_20,sgdr_scores_50,sgdr_scores_80,dt_scores_20,dt_scores_50,dt_scores_80,svr_scores_20,svr_scores_50,svr_scores_80], f_mse_valence_samples_NIaug_n)\n",
    "f_mse_valence_samples_NIaug_n.close()"
   ]
  }
 ],
 "metadata": {
  "kernelspec": {
   "display_name": "Python 3 (ipykernel)",
   "language": "python",
   "name": "python3"
  },
  "language_info": {
   "codemirror_mode": {
    "name": "ipython",
    "version": 3
   },
   "file_extension": ".py",
   "mimetype": "text/x-python",
   "name": "python",
   "nbconvert_exporter": "python",
   "pygments_lexer": "ipython3",
   "version": "3.8.2"
  }
 },
 "nbformat": 4,
 "nbformat_minor": 5
}
