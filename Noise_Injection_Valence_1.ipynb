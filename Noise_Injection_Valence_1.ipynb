{
 "cells": [
  {
   "cell_type": "markdown",
   "id": "9378f012-1fc1-43d8-b6d7-903575533bc2",
   "metadata": {},
   "source": [
    "# Regression Models for predicting Valence\n",
    "# ↳ using NOISE injection data augmentation (n=5)"
   ]
  },
  {
   "cell_type": "markdown",
   "id": "62493650-19ce-47ed-bf75-21f0f29d8768",
   "metadata": {},
   "source": [
    "## Libraries"
   ]
  },
  {
   "cell_type": "code",
   "execution_count": 1,
   "id": "63b77cd4-8f7e-49f1-a619-ca21bd17bba8",
   "metadata": {},
   "outputs": [],
   "source": [
    "# for building the models\n",
    "from sklearn.linear_model import LinearRegression, Ridge, SGDRegressor\n",
    "from sklearn.svm import SVR, LinearSVR\n",
    "from sklearn.tree import DecisionTreeRegressor\n",
    "from sklearn.neighbors import KNeighborsRegressor\n",
    "from sklearn.pipeline import Pipeline\n",
    "from sklearn.feature_extraction.text import TfidfVectorizer\n",
    "from tqdm import tqdm\n",
    "\n",
    "# for computing the scores --> https://www.datacourses.com/evaluation-of-regression-models-in-scikit-learn-846/\n",
    "import math\n",
    "from sklearn.metrics import mean_squared_error, r2_score\n",
    "\n",
    "# for result visualization\n",
    "import numpy as np\n",
    "import matplotlib.pyplot as plt\n",
    "\n",
    "# for loading data\n",
    "import pickle "
   ]
  },
  {
   "cell_type": "markdown",
   "id": "cc91383e-e66a-4541-ae33-ee9edba387ed",
   "metadata": {
    "tags": []
   },
   "source": [
    "## Data loading"
   ]
  },
  {
   "cell_type": "code",
   "execution_count": 2,
   "id": "4f237f2c-99b1-485b-8124-4a1ca00394a4",
   "metadata": {},
   "outputs": [],
   "source": [
    "# Load train test\n",
    "f_train_test = open('train_test.pickle', 'rb')\n",
    "(train,test) = pickle.load(f_train_test)\n",
    "f_train_test.close()"
   ]
  },
  {
   "cell_type": "code",
   "execution_count": 3,
   "id": "b590270d-36ee-4ea2-ae7c-33bbb8aaeeb8",
   "metadata": {},
   "outputs": [],
   "source": [
    "# Load train samples dfs\n",
    "f_train_samples = open('train_samples.pickle', 'rb')\n",
    "(train10, train20, train30, train40, train50, train60, train70, train80, train90) = pickle.load(f_train_samples)\n",
    "f_train_samples.close()"
   ]
  },
  {
   "cell_type": "code",
   "execution_count": 4,
   "id": "3ff1257a-37a5-4388-8183-830f20393702",
   "metadata": {},
   "outputs": [],
   "source": [
    "# Load train augmented samples dfs\n",
    "f_train_samples_aug = open('train_valence_samples_aug2.pickle', 'rb')\n",
    "(train10_aug,train20_aug,train30_aug,train40_aug,train50_aug,train60_aug,train70_aug,train80_aug,train90_aug,train_aug) = pickle.load(f_train_samples_aug)\n",
    "f_train_samples_aug.close()"
   ]
  },
  {
   "cell_type": "markdown",
   "id": "1c087165-e318-426f-9ef6-3e22b1be42fb",
   "metadata": {},
   "source": [
    "## Prepare data for modeling"
   ]
  },
  {
   "cell_type": "code",
   "execution_count": 5,
   "id": "5d3a1583-7f13-4cc8-adb1-4d0d07970860",
   "metadata": {},
   "outputs": [],
   "source": [
    "train_list = [train10, train20, train30, train40, train50, train60, train70, train80, train90, train]\n",
    "train_aug_list = [train10_aug,train20_aug,train30_aug,train40_aug,train50_aug,train60_aug,train70_aug,train80_aug,train90_aug,train_aug]"
   ]
  },
  {
   "cell_type": "code",
   "execution_count": 6,
   "id": "a724c264-c599-47a6-b7bc-12f94e7aebda",
   "metadata": {},
   "outputs": [],
   "source": [
    "# train data\n",
    "X_train_list = []\n",
    "y_train_list = []\n",
    "for i in range(len(train_list)):\n",
    "    X_train_list.append(train_list[i][['lyrics']].values.flatten())\n",
    "    y_train_list.append(train_list[i][['valence']].values)\n",
    "\n",
    "# augmented data\n",
    "X_train_aug_list = []\n",
    "y_train_aug_list = []\n",
    "for i in range(len(train_aug_list)):\n",
    "    X_train_aug_list.append(train_aug_list[i][['lyrics']].values.flatten())\n",
    "    y_train_aug_list.append(train_aug_list[i][['valence']].values)\n",
    "    \n",
    "# test data\n",
    "X_test = test[['lyrics']].values.flatten()\n",
    "y_test = test[['valence']].values"
   ]
  },
  {
   "cell_type": "code",
   "execution_count": 7,
   "id": "6abc29de-62b2-4e1d-aedd-68200dac5772",
   "metadata": {},
   "outputs": [],
   "source": [
    "# range of the train set \n",
    "x_range = [item for item in list(range(10,110,10))]"
   ]
  },
  {
   "cell_type": "markdown",
   "id": "260cfba5-439f-47e4-ba6b-855269b55b5f",
   "metadata": {},
   "source": [
    "## SGD Regressor"
   ]
  },
  {
   "cell_type": "code",
   "execution_count": 8,
   "id": "6898b8ef-23c3-46c0-b8d2-ee85dc72ebe8",
   "metadata": {},
   "outputs": [],
   "source": [
    "def SGDR_Regressor(X_list,y_list,X_test,y_test):\n",
    "    SGDR_MSE = []\n",
    "\n",
    "    for i in tqdm(range(len(train_aug_list))):\n",
    "        #training de model\n",
    "        pipe_SGDR = Pipeline([('tfidf_vec' , TfidfVectorizer(min_df=3,\n",
    "                                                    max_features=5000,\n",
    "                                                    stop_words='english')),\n",
    "                     ('clf_SGDR'   , SGDRegressor(random_state=79068588)),\n",
    "                    ])\n",
    "        pipe_SGDR.fit(X_list[i],y_list[i].ravel())\n",
    "        \n",
    "        #scores\n",
    "        y_pred=pipe_SGDR.predict(X_test)\n",
    "        SGDR_MSE.append(mean_squared_error(y_test,y_pred))\n",
    "        \n",
    "    return(SGDR_MSE)"
   ]
  },
  {
   "cell_type": "code",
   "execution_count": 9,
   "id": "c94fb743-1de1-4cbd-8ea2-7f144adab248",
   "metadata": {},
   "outputs": [
    {
     "name": "stderr",
     "output_type": "stream",
     "text": [
      "100%|██████████| 10/10 [00:22<00:00,  2.21s/it]\n"
     ]
    }
   ],
   "source": [
    "sgdr_scores1 = SGDR_Regressor(X_train_list,y_train_list,X_test,y_test)"
   ]
  },
  {
   "cell_type": "code",
   "execution_count": 10,
   "id": "37f453bf-1091-4cde-a284-9bece25c475f",
   "metadata": {},
   "outputs": [
    {
     "name": "stderr",
     "output_type": "stream",
     "text": [
      "100%|██████████| 10/10 [00:29<00:00,  2.99s/it]\n"
     ]
    }
   ],
   "source": [
    "sgdr_scores2 = SGDR_Regressor(X_train_aug_list,y_train_aug_list,X_test,y_test)"
   ]
  },
  {
   "cell_type": "code",
   "execution_count": 11,
   "id": "69c71994-743f-4ef8-92e8-81fe8fea31ed",
   "metadata": {},
   "outputs": [
    {
     "data": {
      "image/png": "[encoded data removed]",
      "text/plain": [
       "<Figure size 432x288 with 1 Axes>"
      ]
     },
     "metadata": {
      "needs_background": "light"
     },
     "output_type": "display_data"
    }
   ],
   "source": [
    "plt.plot(x_range, sgdr_scores1, label='scores without data aug.')\n",
    "plt.plot(x_range, sgdr_scores2, label='scores with data aug.')\n",
    "plt.xlabel('% train data')\n",
    "plt.ylabel('MSE')\n",
    "plt.title('MSE with SGDR')\n",
    "plt.legend()\n",
    "plt.show()"
   ]
  },
  {
   "cell_type": "markdown",
   "id": "8d590e72-5d12-4825-8bdb-32e6bca6ed9c",
   "metadata": {},
   "source": [
    "## Decision Tree Regressor"
   ]
  },
  {
   "cell_type": "code",
   "execution_count": 12,
   "id": "f7ff508c-46a0-440c-a9d0-4272df451020",
   "metadata": {},
   "outputs": [],
   "source": [
    "def DT_Regressor(X_list,y_list,X_test,y_test):\n",
    "    DTR_MSE = []\n",
    "\n",
    "    for i in tqdm(range(len(train_aug_list))):\n",
    "        #training de model\n",
    "        pipe_DTR = Pipeline([('tfidf_vec' , TfidfVectorizer(min_df=3,\n",
    "                                                    max_features=5000,\n",
    "                                                    stop_words='english')),\n",
    "                     ('clf_DTR'   , DecisionTreeRegressor(random_state=79068588)),\n",
    "                    ])\n",
    "        pipe_DTR.fit(X_list[i],y_list[i].ravel())\n",
    "        \n",
    "        #scores\n",
    "        y_pred=pipe_DTR.predict(X_test)\n",
    "        DTR_MSE.append(mean_squared_error(y_test,y_pred))\n",
    "        \n",
    "    return(DTR_MSE)"
   ]
  },
  {
   "cell_type": "code",
   "execution_count": 13,
   "id": "41dc3d46-cce4-4ceb-95cf-759307eb427c",
   "metadata": {},
   "outputs": [
    {
     "name": "stderr",
     "output_type": "stream",
     "text": [
      "100%|██████████| 10/10 [02:29<00:00, 14.99s/it]\n"
     ]
    }
   ],
   "source": [
    "dt_scores1 = DT_Regressor(X_train_list,y_train_list,X_test,y_test)"
   ]
  },
  {
   "cell_type": "code",
   "execution_count": 14,
   "id": "7fffc54d-33e7-4f8c-beae-60a6ca6da477",
   "metadata": {},
   "outputs": [
    {
     "name": "stderr",
     "output_type": "stream",
     "text": [
      "100%|██████████| 10/10 [03:59<00:00, 23.97s/it]\n"
     ]
    }
   ],
   "source": [
    "dt_scores2 = DT_Regressor(X_train_aug_list,y_train_aug_list,X_test,y_test)"
   ]
  },
  {
   "cell_type": "code",
   "execution_count": 15,
   "id": "bea6c7e1-ee8c-47d8-9d9c-f50d2015196e",
   "metadata": {},
   "outputs": [
    {
     "data": {
      "image/png": "[encoded data removed]",
      "text/plain": [
       "<Figure size 432x288 with 1 Axes>"
      ]
     },
     "metadata": {
      "needs_background": "light"
     },
     "output_type": "display_data"
    }
   ],
   "source": [
    "plt.plot(x_range, dt_scores1, label='scores without data aug.')\n",
    "plt.plot(x_range, dt_scores2, label='scores with data aug.')\n",
    "plt.xlabel('% train data')\n",
    "plt.ylabel('MSE')\n",
    "plt.title('MSE with DTR')\n",
    "plt.legend()\n",
    "plt.show()"
   ]
  },
  {
   "cell_type": "markdown",
   "id": "0a42789e-b7d6-46ac-a80f-cf7ace433500",
   "metadata": {},
   "source": [
    "## Linear SV Regressor"
   ]
  },
  {
   "cell_type": "code",
   "execution_count": 16,
   "id": "3e1ce750-6b40-4635-9bd5-e6c84c66efb8",
   "metadata": {},
   "outputs": [],
   "source": [
    "def SVR_Regressor(X_list,y_list,X_test,y_test):\n",
    "    SVR_MSE = []\n",
    "\n",
    "    for i in tqdm(range(len(train_aug_list))):\n",
    "        #training de model\n",
    "        pipe_SVR = Pipeline([('tfidf_vec' , TfidfVectorizer(min_df=3,\n",
    "                                                    max_features=5000,\n",
    "                                                    stop_words='english')),\n",
    "                     ('clf_SVR'   , LinearSVR(max_iter=10000, random_state=79068588)),\n",
    "                    ])\n",
    "        pipe_SVR.fit(X_list[i],y_list[i].ravel())\n",
    "        \n",
    "        #scores\n",
    "        y_pred=pipe_SVR.predict(X_test)\n",
    "        SVR_MSE.append(mean_squared_error(y_test,y_pred))\n",
    "        \n",
    "    return(SVR_MSE)"
   ]
  },
  {
   "cell_type": "code",
   "execution_count": 17,
   "id": "5935d02a-72ab-4c17-b448-efc8f51f3171",
   "metadata": {},
   "outputs": [
    {
     "name": "stderr",
     "output_type": "stream",
     "text": [
      "100%|██████████| 10/10 [00:27<00:00,  2.79s/it]\n"
     ]
    }
   ],
   "source": [
    "svr_scores1 = SVR_Regressor(X_train_list,y_train_list,X_test,y_test)"
   ]
  },
  {
   "cell_type": "code",
   "execution_count": 18,
   "id": "ca095f72-edf2-42a7-8561-4c4276e0542b",
   "metadata": {},
   "outputs": [
    {
     "name": "stderr",
     "output_type": "stream",
     "text": [
      "  0%|          | 0/10 [00:00<?, ?it/s]/opt/anaconda3/envs/Optimizacion/lib/python3.8/site-packages/sklearn/svm/_base.py:985: ConvergenceWarning: Liblinear failed to converge, increase the number of iterations.\n",
      "  warnings.warn(\"Liblinear failed to converge, increase \"\n",
      " 10%|█         | 1/10 [02:08<19:18, 128.72s/it]/opt/anaconda3/envs/Optimizacion/lib/python3.8/site-packages/sklearn/svm/_base.py:985: ConvergenceWarning: Liblinear failed to converge, increase the number of iterations.\n",
      "  warnings.warn(\"Liblinear failed to converge, increase \"\n",
      "100%|██████████| 10/10 [06:37<00:00, 39.71s/it]\n"
     ]
    }
   ],
   "source": [
    "svr_scores2 = SVR_Regressor(X_train_aug_list,y_train_aug_list,X_test,y_test)"
   ]
  },
  {
   "cell_type": "code",
   "execution_count": 19,
   "id": "30dc2524-7d40-423d-b640-53eddff56103",
   "metadata": {},
   "outputs": [
    {
     "data": {
      "image/png": "[encoded data removed]",
      "text/plain": [
       "<Figure size 432x288 with 1 Axes>"
      ]
     },
     "metadata": {
      "needs_background": "light"
     },
     "output_type": "display_data"
    }
   ],
   "source": [
    "plt.plot(x_range, svr_scores1, label='scores without data aug.')\n",
    "plt.plot(x_range, svr_scores2, label='scores with data aug.')\n",
    "plt.xlabel('% train data')\n",
    "plt.ylabel('MSE')\n",
    "plt.title('MSE with SVR')\n",
    "plt.legend()\n",
    "plt.show()"
   ]
  },
  {
   "cell_type": "markdown",
   "id": "5879ff25-7f6f-4b32-b28d-ddaa555a730e",
   "metadata": {},
   "source": [
    "## Save results"
   ]
  },
  {
   "cell_type": "code",
   "execution_count": 20,
   "id": "4354320b-c9e4-4d64-98d3-3379a5e602cd",
   "metadata": {},
   "outputs": [],
   "source": [
    "# Save MSE of all models\n",
    "f_mse_valence_samples_Naug = open('mse_valence_samples_Naug.pickle', 'wb')\n",
    "pickle.dump([sgdr_scores2,dt_scores2,svr_scores2], f_mse_valence_samples_Naug)\n",
    "f_mse_valence_samples_Naug.close()"
   ]
  }
 ],
 "metadata": {
  "kernelspec": {
   "display_name": "Python 3 (ipykernel)",
   "language": "python",
   "name": "python3"
  },
  "language_info": {
   "codemirror_mode": {
    "name": "ipython",
    "version": 3
   },
   "file_extension": ".py",
   "mimetype": "text/x-python",
   "name": "python",
   "nbconvert_exporter": "python",
   "pygments_lexer": "ipython3",
   "version": "3.8.2"
  }
 },
 "nbformat": 4,
 "nbformat_minor": 5
}
