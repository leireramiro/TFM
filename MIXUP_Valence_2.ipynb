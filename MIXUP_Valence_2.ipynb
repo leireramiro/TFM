{
 "cells": [
  {
   "cell_type": "markdown",
   "id": "c4fc69f7-8a6a-4179-b42c-bbc452d4d4ee",
   "metadata": {},
   "source": [
    "# Regression Models for predicting Valence\n",
    "# ↳ using MIXUP data augmentation (λ=0.25)"
   ]
  },
  {
   "cell_type": "markdown",
   "id": "e51f17fb-5663-46d6-bb0b-0d3c7d05ec5c",
   "metadata": {},
   "source": [
    "## Libraries"
   ]
  },
  {
   "cell_type": "code",
   "execution_count": 1,
   "id": "c59d6264-fcdf-46fd-8d56-71e5aaf81f3d",
   "metadata": {},
   "outputs": [],
   "source": [
    "# for building the models\n",
    "from sklearn.linear_model import LinearRegression, Ridge, SGDRegressor\n",
    "from sklearn.svm import SVR, LinearSVR\n",
    "from sklearn.tree import DecisionTreeRegressor\n",
    "from sklearn.neighbors import KNeighborsRegressor\n",
    "from sklearn.pipeline import Pipeline\n",
    "from sklearn.feature_extraction.text import TfidfVectorizer\n",
    "from tqdm import tqdm\n",
    "\n",
    "# for computing the scores --> https://www.datacourses.com/evaluation-of-regression-models-in-scikit-learn-846/\n",
    "import math\n",
    "from sklearn.metrics import mean_squared_error, r2_score\n",
    "\n",
    "# for result visualization\n",
    "import numpy as np\n",
    "import matplotlib.pyplot as plt\n",
    "\n",
    "# for loading data\n",
    "import pickle "
   ]
  },
  {
   "cell_type": "markdown",
   "id": "33d42567-7c27-4542-9158-be6b0428bb8d",
   "metadata": {
    "tags": []
   },
   "source": [
    "## Data loading"
   ]
  },
  {
   "cell_type": "code",
   "execution_count": 2,
   "id": "b2454e1d-eacc-4f03-b81c-c9be40075f2b",
   "metadata": {},
   "outputs": [],
   "source": [
    "# Load train test\n",
    "f_train_test = open('train_test.pickle', 'rb')\n",
    "(train,test) = pickle.load(f_train_test)\n",
    "f_train_test.close()"
   ]
  },
  {
   "cell_type": "code",
   "execution_count": 3,
   "id": "a3c529ab-d16b-4bf3-b77c-e8abc1a9433e",
   "metadata": {},
   "outputs": [],
   "source": [
    "# Load train samples dfs\n",
    "f_train_samples = open('train_samples.pickle', 'rb')\n",
    "(train10, train20, train30, train40, train50, train60, train70, train80, train90) = pickle.load(f_train_samples)\n",
    "f_train_samples.close()"
   ]
  },
  {
   "cell_type": "code",
   "execution_count": 4,
   "id": "22be0538-5fa6-46c2-8140-40154ee0670f",
   "metadata": {},
   "outputs": [],
   "source": [
    "# Load train augmented samples dfs\n",
    "f_train_samples_aug = open('train_valence_samples_aug_2.pickle', 'rb')\n",
    "(train10_aug,train20_aug,train30_aug,train40_aug,train50_aug,train60_aug,train70_aug,train80_aug,train90_aug,train_aug) = pickle.load(f_train_samples_aug)\n",
    "f_train_samples_aug.close()"
   ]
  },
  {
   "cell_type": "markdown",
   "id": "18f9593b-55b9-44fa-86da-b14ecc8603fe",
   "metadata": {},
   "source": [
    "## Prepare data for modeling"
   ]
  },
  {
   "cell_type": "code",
   "execution_count": 5,
   "id": "e2b12607-611e-49e9-8c93-4db96223130d",
   "metadata": {},
   "outputs": [],
   "source": [
    "train_list = [train10, train20, train30, train40, train50, train60, train70, train80, train90, train]\n",
    "train_aug_list = [train10_aug,train20_aug,train30_aug,train40_aug,train50_aug,train60_aug,train70_aug,train80_aug,train90_aug,train_aug]"
   ]
  },
  {
   "cell_type": "code",
   "execution_count": 6,
   "id": "43425b4c-ec9b-4147-8010-c85527761a25",
   "metadata": {},
   "outputs": [],
   "source": [
    "# train data\n",
    "X_train_list = []\n",
    "y_train_list = []\n",
    "for i in range(len(train_list)):\n",
    "    X_train_list.append(train_list[i][['lyrics']].values.flatten())\n",
    "    y_train_list.append(train_list[i][['valence']].values)\n",
    "\n",
    "# augmented data\n",
    "X_train_aug_list = []\n",
    "y_train_aug_list = []\n",
    "for i in range(len(train_aug_list)):\n",
    "    X_train_aug_list.append(train_aug_list[i][['lyrics']].values.flatten())\n",
    "    y_train_aug_list.append(train_aug_list[i][['valence']].values)\n",
    "    \n",
    "# test data\n",
    "X_test = test[['lyrics']].values.flatten()\n",
    "y_test = test[['valence']].values"
   ]
  },
  {
   "cell_type": "code",
   "execution_count": 7,
   "id": "629e6513-ec6d-400c-8c55-c21f904aa3eb",
   "metadata": {},
   "outputs": [],
   "source": [
    "# range of the train set \n",
    "x_range = [item for item in list(range(10,110,10))]"
   ]
  },
  {
   "cell_type": "markdown",
   "id": "9d328f9c-e582-4ed2-988d-a73d9e38c9de",
   "metadata": {},
   "source": [
    "## SGD Regressor"
   ]
  },
  {
   "cell_type": "code",
   "execution_count": 8,
   "id": "5322719b-a5db-4ece-a707-20c6dc291624",
   "metadata": {},
   "outputs": [],
   "source": [
    "def SGDR_Regressor(X_list,y_list,X_test,y_test):\n",
    "    SGDR_MSE = []\n",
    "\n",
    "    for i in tqdm(range(len(train_aug_list))):\n",
    "        #training de model\n",
    "        pipe_SGDR = Pipeline([('tfidf_vec' , TfidfVectorizer(min_df=3,\n",
    "                                                    max_features=5000,\n",
    "                                                    stop_words='english')),\n",
    "                     ('clf_SGDR'   , SGDRegressor(random_state=79068588)),\n",
    "                    ])\n",
    "        pipe_SGDR.fit(X_list[i],y_list[i].ravel())\n",
    "        \n",
    "        #scores\n",
    "        y_pred=pipe_SGDR.predict(X_test)\n",
    "        SGDR_MSE.append(mean_squared_error(y_test,y_pred))\n",
    "        \n",
    "    return(SGDR_MSE)"
   ]
  },
  {
   "cell_type": "code",
   "execution_count": 9,
   "id": "c748ae0f-d428-4b12-85c0-15445cefd8d3",
   "metadata": {},
   "outputs": [
    {
     "name": "stderr",
     "output_type": "stream",
     "text": [
      "100%|██████████| 10/10 [00:17<00:00,  1.80s/it]\n"
     ]
    }
   ],
   "source": [
    "sgdr_scores1 = SGDR_Regressor(X_train_list,y_train_list,X_test,y_test)"
   ]
  },
  {
   "cell_type": "code",
   "execution_count": 10,
   "id": "5fe0beda-383d-48ca-90bb-bc1321cc0ad8",
   "metadata": {},
   "outputs": [
    {
     "name": "stderr",
     "output_type": "stream",
     "text": [
      "100%|██████████| 10/10 [00:25<00:00,  2.51s/it]\n"
     ]
    }
   ],
   "source": [
    "sgdr_scores2 = SGDR_Regressor(X_train_aug_list,y_train_aug_list,X_test,y_test)"
   ]
  },
  {
   "cell_type": "code",
   "execution_count": 11,
   "id": "dc29fc23-861f-4b9d-9baa-651c9ca95f06",
   "metadata": {},
   "outputs": [
    {
     "data": {
      "image/png": "[encoded data removed]",
      "text/plain": [
       "<Figure size 432x288 with 1 Axes>"
      ]
     },
     "metadata": {
      "needs_background": "light"
     },
     "output_type": "display_data"
    }
   ],
   "source": [
    "plt.plot(x_range, sgdr_scores1, label='scores without data aug.')\n",
    "plt.plot(x_range, sgdr_scores2, label='scores with data aug.')\n",
    "plt.xlabel('% train data')\n",
    "plt.ylabel('MSE')\n",
    "plt.title('MSE with SGDR')\n",
    "plt.legend()\n",
    "plt.show()"
   ]
  },
  {
   "cell_type": "markdown",
   "id": "e83560da-fd9b-4e2c-9672-93f070f13467",
   "metadata": {},
   "source": [
    "## Decision Tree Regressor"
   ]
  },
  {
   "cell_type": "code",
   "execution_count": 12,
   "id": "7fb695dc-8581-45a1-b66f-dec4658f9773",
   "metadata": {},
   "outputs": [],
   "source": [
    "def DT_Regressor(X_list,y_list,X_test,y_test):\n",
    "    DTR_MSE = []\n",
    "\n",
    "    for i in tqdm(range(len(train_aug_list))):\n",
    "        #training de model\n",
    "        pipe_DTR = Pipeline([('tfidf_vec' , TfidfVectorizer(min_df=3,\n",
    "                                                    max_features=5000,\n",
    "                                                    stop_words='english')),\n",
    "                     ('clf_DTR'   , DecisionTreeRegressor(random_state=79068588)),\n",
    "                    ])\n",
    "        pipe_DTR.fit(X_list[i],y_list[i].ravel())\n",
    "        \n",
    "        #scores\n",
    "        y_pred=pipe_DTR.predict(X_test)\n",
    "        DTR_MSE.append(mean_squared_error(y_test,y_pred))\n",
    "        \n",
    "    return(DTR_MSE)"
   ]
  },
  {
   "cell_type": "code",
   "execution_count": 13,
   "id": "5e456dd0-f191-4168-8882-8e023fce52fd",
   "metadata": {},
   "outputs": [
    {
     "name": "stderr",
     "output_type": "stream",
     "text": [
      "100%|██████████| 10/10 [02:03<00:00, 12.36s/it]\n"
     ]
    }
   ],
   "source": [
    "dt_scores1 = DT_Regressor(X_train_list,y_train_list,X_test,y_test)"
   ]
  },
  {
   "cell_type": "code",
   "execution_count": 14,
   "id": "b68ce003-7219-4a3d-932a-aae8930ed687",
   "metadata": {},
   "outputs": [
    {
     "name": "stderr",
     "output_type": "stream",
     "text": [
      "100%|██████████| 10/10 [03:51<00:00, 23.14s/it]\n"
     ]
    }
   ],
   "source": [
    "dt_scores2 = DT_Regressor(X_train_aug_list,y_train_aug_list,X_test,y_test)"
   ]
  },
  {
   "cell_type": "code",
   "execution_count": 15,
   "id": "712f6acb-fc61-4f12-825e-df774b91ff20",
   "metadata": {},
   "outputs": [
    {
     "data": {
      "image/png": "[encoded data removed]",
      "text/plain": [
       "<Figure size 432x288 with 1 Axes>"
      ]
     },
     "metadata": {
      "needs_background": "light"
     },
     "output_type": "display_data"
    }
   ],
   "source": [
    "plt.plot(x_range, dt_scores1, label='scores without data aug.')\n",
    "plt.plot(x_range, dt_scores2, label='scores with data aug.')\n",
    "plt.xlabel('% train data')\n",
    "plt.ylabel('MSE')\n",
    "plt.title('MSE with DTR')\n",
    "plt.legend()\n",
    "plt.show()"
   ]
  },
  {
   "cell_type": "markdown",
   "id": "0f0f7ca6-abf4-4544-bc77-9eaab5fb13cb",
   "metadata": {},
   "source": [
    "## Linear SV Regressor"
   ]
  },
  {
   "cell_type": "code",
   "execution_count": 16,
   "id": "a4bb0c22-5196-4da1-b7a5-7c0e67b5139b",
   "metadata": {},
   "outputs": [],
   "source": [
    "def SVR_Regressor(X_list,y_list,X_test,y_test):\n",
    "    SVR_MSE = []\n",
    "\n",
    "    for i in tqdm(range(len(train_aug_list))):\n",
    "        #training de model\n",
    "        pipe_SVR = Pipeline([('tfidf_vec' , TfidfVectorizer(min_df=3,\n",
    "                                                    max_features=5000,\n",
    "                                                    stop_words='english')),\n",
    "                     ('clf_SVR'   , LinearSVR(max_iter=10000, random_state=79068588)),\n",
    "                    ])\n",
    "        pipe_SVR.fit(X_list[i],y_list[i].ravel())\n",
    "        \n",
    "        #scores\n",
    "        y_pred=pipe_SVR.predict(X_test)\n",
    "        SVR_MSE.append(mean_squared_error(y_test,y_pred))\n",
    "        \n",
    "    return(SVR_MSE)"
   ]
  },
  {
   "cell_type": "code",
   "execution_count": 17,
   "id": "43b8cfdc-e812-4416-b81d-06b3853c350d",
   "metadata": {},
   "outputs": [
    {
     "name": "stderr",
     "output_type": "stream",
     "text": [
      "100%|██████████| 10/10 [00:24<00:00,  2.46s/it]\n"
     ]
    }
   ],
   "source": [
    "svr_scores1 = SVR_Regressor(X_train_list,y_train_list,X_test,y_test)"
   ]
  },
  {
   "cell_type": "code",
   "execution_count": 18,
   "id": "8cc59176-50a5-46ae-b02f-aa7cc616cd42",
   "metadata": {},
   "outputs": [
    {
     "name": "stderr",
     "output_type": "stream",
     "text": [
      "100%|██████████| 10/10 [01:15<00:00,  7.54s/it]\n"
     ]
    }
   ],
   "source": [
    "svr_scores2 = SVR_Regressor(X_train_aug_list,y_train_aug_list,X_test,y_test)"
   ]
  },
  {
   "cell_type": "code",
   "execution_count": 19,
   "id": "6a22152d-8ce1-4deb-a8d4-8ef2c5dc93e4",
   "metadata": {},
   "outputs": [
    {
     "data": {
      "image/png": "[encoded data removed]",
      "text/plain": [
       "<Figure size 432x288 with 1 Axes>"
      ]
     },
     "metadata": {
      "needs_background": "light"
     },
     "output_type": "display_data"
    }
   ],
   "source": [
    "plt.plot(x_range, svr_scores1, label='scores without data aug.')\n",
    "plt.plot(x_range, svr_scores2, label='scores with data aug.')\n",
    "plt.xlabel('% train data')\n",
    "plt.ylabel('MSE')\n",
    "plt.title('MSE with SVR')\n",
    "plt.legend()\n",
    "plt.show()"
   ]
  },
  {
   "cell_type": "markdown",
   "id": "7948de9c-655d-4104-925e-0c30ed9e8cc8",
   "metadata": {},
   "source": [
    "## Save results"
   ]
  },
  {
   "cell_type": "code",
   "execution_count": 20,
   "id": "02b4a079-a5e0-4299-bc6a-8e88aedea0a3",
   "metadata": {},
   "outputs": [],
   "source": [
    "# Save MSE of all models\n",
    "f_mse_valence_samples_MUaug2 = open('mse_valence_samples_MUaug2.pickle', 'wb')\n",
    "pickle.dump([sgdr_scores2,dt_scores2,svr_scores2], f_mse_valence_samples_MUaug2)\n",
    "f_mse_valence_samples_MUaug2.close()"
   ]
  }
 ],
 "metadata": {
  "kernelspec": {
   "display_name": "Python 3 (ipykernel)",
   "language": "python",
   "name": "python3"
  },
  "language_info": {
   "codemirror_mode": {
    "name": "ipython",
    "version": 3
   },
   "file_extension": ".py",
   "mimetype": "text/x-python",
   "name": "python",
   "nbconvert_exporter": "python",
   "pygments_lexer": "ipython3",
   "version": "3.8.2"
  }
 },
 "nbformat": 4,
 "nbformat_minor": 5
}
