{
 "cells": [
  {
   "cell_type": "markdown",
   "id": "acf5541a-7fd9-4ff1-a2fd-735d60271c58",
   "metadata": {
    "tags": []
   },
   "source": [
    "# Regression Models for predicting Energy\n",
    "# ↳ using Noise Injection data augmentation using different values for n"
   ]
  },
  {
   "cell_type": "markdown",
   "id": "e76a6acd-045a-4e16-9c47-54e353628b65",
   "metadata": {
    "tags": []
   },
   "source": [
    "## Libraries"
   ]
  },
  {
   "cell_type": "code",
   "execution_count": 1,
   "id": "48494956-b0e8-4053-aaf8-595a46c2b399",
   "metadata": {},
   "outputs": [],
   "source": [
    "# for building the models\n",
    "from sklearn.linear_model import LinearRegression, Ridge, SGDRegressor\n",
    "from sklearn.svm import SVR, LinearSVR\n",
    "from sklearn.tree import DecisionTreeRegressor\n",
    "from sklearn.neighbors import KNeighborsRegressor\n",
    "from sklearn.pipeline import Pipeline\n",
    "from sklearn.feature_extraction.text import TfidfVectorizer\n",
    "from tqdm import tqdm\n",
    "\n",
    "# for computing the scores --> https://www.datacourses.com/evaluation-of-regression-models-in-scikit-learn-846/\n",
    "import math\n",
    "from sklearn.metrics import mean_squared_error, r2_score\n",
    "\n",
    "# for result visualization\n",
    "import numpy as np\n",
    "import matplotlib.pyplot as plt\n",
    "import matplotlib.ticker as mticker\n",
    "\n",
    "# for loading data\n",
    "import pickle "
   ]
  },
  {
   "cell_type": "markdown",
   "id": "9e66cdc5-2b51-4a18-83bb-ca8bcfcdeb86",
   "metadata": {
    "tags": []
   },
   "source": [
    "## Data loading"
   ]
  },
  {
   "cell_type": "code",
   "execution_count": 2,
   "id": "b1c47f72-fe0b-45c1-b9fb-61dfb9b00a9d",
   "metadata": {},
   "outputs": [],
   "source": [
    "# Load train test\n",
    "f_train_test = open('train_test.pickle', 'rb')\n",
    "(train,test) = pickle.load(f_train_test)\n",
    "f_train_test.close()"
   ]
  },
  {
   "cell_type": "code",
   "execution_count": 3,
   "id": "f77d59ed-49e4-4b21-8cd5-be434b2c81d0",
   "metadata": {},
   "outputs": [],
   "source": [
    "# Load train samples dfs\n",
    "f_train_samples = open('train_samples.pickle', 'rb')\n",
    "(train10, train20, train30, train40, train50, train60, train70, train80, train90) = pickle.load(f_train_samples)\n",
    "f_train_samples.close()"
   ]
  },
  {
   "cell_type": "code",
   "execution_count": 4,
   "id": "996860fe-66de-4bcd-8c3c-78d2c7e2e360",
   "metadata": {},
   "outputs": [],
   "source": [
    "# Load train augmented samples dfs\n",
    "f_train_energy_samples_aug_n = open('train_energy_samples_aug_n.pickle', 'rb')\n",
    "(train20_aug_n1,train20_aug_n2,train20_aug_n3,train20_aug_n4,train20_aug_n5,train50_aug_n1,train50_aug_n2,train50_aug_n3,train50_aug_n4,train50_aug_n5,train80_aug_n1,train80_aug_n2,train80_aug_n3,train80_aug_n4,train80_aug_n5) = pickle.load(f_train_energy_samples_aug_n)\n",
    "f_train_energy_samples_aug_n.close()"
   ]
  },
  {
   "cell_type": "markdown",
   "id": "6fce420d-7583-4277-a731-fadeb8ab26df",
   "metadata": {},
   "source": [
    "## Prepare data for modeling"
   ]
  },
  {
   "cell_type": "code",
   "execution_count": 5,
   "id": "f73d6328-5404-4bf6-a57a-de5a97d9047a",
   "metadata": {},
   "outputs": [],
   "source": [
    "train_20 = [train20,train20_aug_n1,train20_aug_n2,train20_aug_n3,train20_aug_n4,train20_aug_n5]\n",
    "train_50 = [train50,train50_aug_n1,train50_aug_n2,train50_aug_n3,train50_aug_n4,train50_aug_n5]\n",
    "train_80 = [train80,train80_aug_n1,train80_aug_n2,train80_aug_n3,train80_aug_n4,train80_aug_n5]"
   ]
  },
  {
   "cell_type": "code",
   "execution_count": 6,
   "id": "e4ed5196-1c51-4319-9545-04501ee54f8d",
   "metadata": {},
   "outputs": [],
   "source": [
    "# train data 20%\n",
    "X_train_20_list = []\n",
    "y_train_20_list = []\n",
    "for i in range(len(train_20)):\n",
    "    X_train_20_list.append(train_20[i][['lyrics']].values.flatten())\n",
    "    y_train_20_list.append(train_20[i][['energy']].values)\n",
    "\n",
    "# train data 50%\n",
    "X_train_50_list = []\n",
    "y_train_50_list = []\n",
    "for i in range(len(train_50)):\n",
    "    X_train_50_list.append(train_50[i][['lyrics']].values.flatten())\n",
    "    y_train_50_list.append(train_50[i][['energy']].values)\n",
    "\n",
    "# train data 80%\n",
    "X_train_80_list = []\n",
    "y_train_80_list = []\n",
    "for i in range(len(train_80)):\n",
    "    X_train_80_list.append(train_80[i][['lyrics']].values.flatten())\n",
    "    y_train_80_list.append(train_80[i][['energy']].values)\n",
    "\n",
    "    \n",
    "# test data\n",
    "X_test = test[['lyrics']].values.flatten()\n",
    "y_test = test[['energy']].values"
   ]
  },
  {
   "cell_type": "code",
   "execution_count": 7,
   "id": "5e56ecca-2c51-430c-9c8b-0edc552ce5b5",
   "metadata": {},
   "outputs": [],
   "source": [
    "# range of the lambdas\n",
    "x_range = [0, 1, 5, 10, 15, 20]"
   ]
  },
  {
   "cell_type": "markdown",
   "id": "227d77fa-71e3-4bc2-a1bc-939c3c1261ac",
   "metadata": {},
   "source": [
    "## SGD Regressor"
   ]
  },
  {
   "cell_type": "code",
   "execution_count": 8,
   "id": "35d627e9-b0e4-48b1-b376-f7a4b426e8af",
   "metadata": {},
   "outputs": [],
   "source": [
    "def SGDR_Regressor(X_list,y_list,X_test,y_test):\n",
    "    SGDR_MSE = []\n",
    "\n",
    "    for i in tqdm(range(len(train_20))):\n",
    "        #training de model\n",
    "        pipe_SGDR = Pipeline([('tfidf_vec' , TfidfVectorizer(min_df=3,\n",
    "                                                    max_features=5000,\n",
    "                                                    stop_words='english')),\n",
    "                     ('clf_SGDR'   , SGDRegressor(random_state=79068588)),\n",
    "                    ])\n",
    "        pipe_SGDR.fit(X_list[i],y_list[i].ravel())\n",
    "        \n",
    "        #scores\n",
    "        y_pred=pipe_SGDR.predict(X_test)\n",
    "        SGDR_MSE.append(mean_squared_error(y_test,y_pred))\n",
    "        \n",
    "    return(SGDR_MSE)"
   ]
  },
  {
   "cell_type": "code",
   "execution_count": 9,
   "id": "9a1dbdec-6bee-4ce6-b08e-8865512a4ec0",
   "metadata": {},
   "outputs": [
    {
     "name": "stderr",
     "output_type": "stream",
     "text": [
      "100%|██████████| 6/6 [00:12<00:00,  2.16s/it]\n",
      "100%|██████████| 6/6 [00:13<00:00,  2.26s/it]\n",
      "100%|██████████| 6/6 [00:13<00:00,  2.27s/it]\n"
     ]
    }
   ],
   "source": [
    "sgdr_scores_20 = SGDR_Regressor(X_train_20_list,y_train_20_list,X_test,y_test)\n",
    "sgdr_scores_50 = SGDR_Regressor(X_train_50_list,y_train_50_list,X_test,y_test)\n",
    "sgdr_scores_80 = SGDR_Regressor(X_train_80_list,y_train_80_list,X_test,y_test)"
   ]
  },
  {
   "cell_type": "code",
   "execution_count": 10,
   "id": "4a816386-dc9c-4695-b033-11bbe402eba1",
   "metadata": {},
   "outputs": [
    {
     "data": {
      "image/png": "[encoded data removed]",
      "text/plain": [
       "<Figure size 432x288 with 1 Axes>"
      ]
     },
     "metadata": {
      "needs_background": "light"
     },
     "output_type": "display_data"
    }
   ],
   "source": [
    "plt.plot(x_range, sgdr_scores_20, label='20% of training')\n",
    "plt.plot(x_range, sgdr_scores_50, label='50% of training')\n",
    "plt.plot(x_range, sgdr_scores_80, label='80% of training')\n",
    "plt.gca().xaxis.set_major_locator(mticker.MultipleLocator(5))\n",
    "plt.xlabel('n')\n",
    "plt.ylabel('MSE')\n",
    "plt.title('MSE with SGDR')\n",
    "plt.legend()\n",
    "plt.show()"
   ]
  },
  {
   "cell_type": "markdown",
   "id": "b1e39b32-f13c-484a-b145-321d855248cb",
   "metadata": {},
   "source": [
    "## Decision Tree Regressor"
   ]
  },
  {
   "cell_type": "code",
   "execution_count": 11,
   "id": "f982fd51-10bf-481b-b284-7ae7b2167294",
   "metadata": {},
   "outputs": [],
   "source": [
    "def DT_Regressor(X_list,y_list,X_test,y_test):\n",
    "    DTR_MSE = []\n",
    "\n",
    "    for i in tqdm(range(len(train_20))):\n",
    "        #training de model\n",
    "        pipe_DTR = Pipeline([('tfidf_vec' , TfidfVectorizer(min_df=3,\n",
    "                                                    max_features=5000,\n",
    "                                                    stop_words='english')),\n",
    "                     ('clf_DTR'   , DecisionTreeRegressor(random_state=79068588)),\n",
    "                    ])\n",
    "        pipe_DTR.fit(X_list[i],y_list[i].ravel())\n",
    "        \n",
    "        #scores\n",
    "        y_pred=pipe_DTR.predict(X_test)\n",
    "        DTR_MSE.append(mean_squared_error(y_test,y_pred))\n",
    "        \n",
    "    return(DTR_MSE)"
   ]
  },
  {
   "cell_type": "code",
   "execution_count": 12,
   "id": "95656a87-2a8f-4474-9d76-12a27cd56b3a",
   "metadata": {},
   "outputs": [
    {
     "name": "stderr",
     "output_type": "stream",
     "text": [
      "100%|██████████| 6/6 [01:09<00:00, 11.66s/it]\n",
      "100%|██████████| 6/6 [01:52<00:00, 18.70s/it]\n",
      "100%|██████████| 6/6 [02:10<00:00, 21.79s/it]\n"
     ]
    }
   ],
   "source": [
    "dt_scores_20 = DT_Regressor(X_train_20_list,y_train_20_list,X_test,y_test)\n",
    "dt_scores_50 = DT_Regressor(X_train_50_list,y_train_50_list,X_test,y_test)\n",
    "dt_scores_80 = DT_Regressor(X_train_80_list,y_train_80_list,X_test,y_test)"
   ]
  },
  {
   "cell_type": "code",
   "execution_count": 13,
   "id": "eb4bb7fe-23d8-4ff3-8fec-38e5516d92d8",
   "metadata": {},
   "outputs": [
    {
     "data": {
      "image/png": "[encoded data removed]",
      "text/plain": [
       "<Figure size 432x288 with 1 Axes>"
      ]
     },
     "metadata": {
      "needs_background": "light"
     },
     "output_type": "display_data"
    }
   ],
   "source": [
    "plt.plot(x_range, dt_scores_20, label='20% of training')\n",
    "plt.plot(x_range, dt_scores_50, label='50% of training')\n",
    "plt.plot(x_range, dt_scores_80, label='80% of training')\n",
    "plt.gca().xaxis.set_major_locator(mticker.MultipleLocator(5))\n",
    "plt.xlabel('n')\n",
    "plt.ylabel('MSE')\n",
    "plt.title('MSE with DTR')\n",
    "plt.legend()\n",
    "plt.show()"
   ]
  },
  {
   "cell_type": "markdown",
   "id": "6d616251-9382-41c9-be6f-dbb1f93a5108",
   "metadata": {},
   "source": [
    "## Linear SV Regressor"
   ]
  },
  {
   "cell_type": "code",
   "execution_count": 14,
   "id": "7916f188-7ea4-4678-bc65-0ad4de2c7a35",
   "metadata": {},
   "outputs": [],
   "source": [
    "def SVR_Regressor(X_list,y_list,X_test,y_test):\n",
    "    SVR_MSE = []\n",
    "\n",
    "    for i in tqdm(range(len(train_20))):\n",
    "        #training de model\n",
    "        pipe_SVR = Pipeline([('tfidf_vec' , TfidfVectorizer(min_df=3,\n",
    "                                                    max_features=5000,\n",
    "                                                    stop_words='english')),\n",
    "                     ('clf_SVR'   , LinearSVR(max_iter=10000,random_state=79068588)),\n",
    "                    ])\n",
    "        pipe_SVR.fit(X_list[i],y_list[i].ravel())\n",
    "        \n",
    "        #scores\n",
    "        y_pred=pipe_SVR.predict(X_test)\n",
    "        SVR_MSE.append(mean_squared_error(y_test,y_pred))\n",
    "        \n",
    "    return(SVR_MSE)"
   ]
  },
  {
   "cell_type": "code",
   "execution_count": 15,
   "id": "3b3be694-7505-4049-9c15-cae5275ad5db",
   "metadata": {},
   "outputs": [
    {
     "name": "stderr",
     "output_type": "stream",
     "text": [
      " 17%|█▋        | 1/6 [00:01<00:07,  1.44s/it]/opt/anaconda3/envs/Optimizacion/lib/python3.8/site-packages/sklearn/svm/_base.py:985: ConvergenceWarning: Liblinear failed to converge, increase the number of iterations.\n",
      "  warnings.warn(\"Liblinear failed to converge, increase \"\n",
      " 33%|███▎      | 2/6 [01:10<02:45, 41.32s/it]/opt/anaconda3/envs/Optimizacion/lib/python3.8/site-packages/sklearn/svm/_base.py:985: ConvergenceWarning: Liblinear failed to converge, increase the number of iterations.\n",
      "  warnings.warn(\"Liblinear failed to converge, increase \"\n",
      " 50%|█████     | 3/6 [02:09<02:27, 49.09s/it]/opt/anaconda3/envs/Optimizacion/lib/python3.8/site-packages/sklearn/svm/_base.py:985: ConvergenceWarning: Liblinear failed to converge, increase the number of iterations.\n",
      "  warnings.warn(\"Liblinear failed to converge, increase \"\n",
      "100%|██████████| 6/6 [04:38<00:00, 46.34s/it]\n",
      "100%|██████████| 6/6 [01:05<00:00, 10.93s/it]\n",
      "100%|██████████| 6/6 [00:29<00:00,  4.86s/it]\n"
     ]
    }
   ],
   "source": [
    "svr_scores_20 = SVR_Regressor(X_train_20_list,y_train_20_list,X_test,y_test)\n",
    "svr_scores_50 = SVR_Regressor(X_train_50_list,y_train_50_list,X_test,y_test)\n",
    "svr_scores_80 = SVR_Regressor(X_train_80_list,y_train_80_list,X_test,y_test)"
   ]
  },
  {
   "cell_type": "code",
   "execution_count": 16,
   "id": "305402f4-0683-4760-8367-6704168cecf5",
   "metadata": {},
   "outputs": [
    {
     "data": {
      "image/png": "[encoded data removed]",
      "text/plain": [
       "<Figure size 432x288 with 1 Axes>"
      ]
     },
     "metadata": {
      "needs_background": "light"
     },
     "output_type": "display_data"
    }
   ],
   "source": [
    "plt.plot(x_range, svr_scores_20, label='20% of training')\n",
    "plt.plot(x_range, svr_scores_50, label='50% of training')\n",
    "plt.plot(x_range, svr_scores_80, label='80% of training')\n",
    "plt.gca().xaxis.set_major_locator(mticker.MultipleLocator(5))\n",
    "plt.xlabel('n')\n",
    "plt.ylabel('MSE')\n",
    "plt.title('MSE with SVR')\n",
    "plt.legend()\n",
    "plt.show()"
   ]
  },
  {
   "cell_type": "markdown",
   "id": "49e34e45-1191-4fb6-9be5-d11fa4cee73b",
   "metadata": {},
   "source": [
    "## Save results"
   ]
  },
  {
   "cell_type": "code",
   "execution_count": 17,
   "id": "74d49811-82b3-460a-bc6a-8d746de9e442",
   "metadata": {},
   "outputs": [],
   "source": [
    "# Save MSE of all models\n",
    "f_mse_energy_samples_NIaug_n = open('mse_energy_samples_NIaug_n.pickle', 'wb')\n",
    "pickle.dump([sgdr_scores_20,sgdr_scores_50,sgdr_scores_80,dt_scores_20,dt_scores_50,dt_scores_80,svr_scores_20,svr_scores_50,svr_scores_80], f_mse_energy_samples_NIaug_n)\n",
    "f_mse_energy_samples_NIaug_n.close()"
   ]
  }
 ],
 "metadata": {
  "kernelspec": {
   "display_name": "Python 3 (ipykernel)",
   "language": "python",
   "name": "python3"
  },
  "language_info": {
   "codemirror_mode": {
    "name": "ipython",
    "version": 3
   },
   "file_extension": ".py",
   "mimetype": "text/x-python",
   "name": "python",
   "nbconvert_exporter": "python",
   "pygments_lexer": "ipython3",
   "version": "3.8.2"
  }
 },
 "nbformat": 4,
 "nbformat_minor": 5
}
