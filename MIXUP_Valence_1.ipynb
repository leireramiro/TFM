{
 "cells": [
  {
   "cell_type": "markdown",
   "id": "c407adb8-04de-46c0-9be0-8a66b1ac4383",
   "metadata": {},
   "source": [
    "# Regression Models for predicting Valence\n",
    "# ↳ using MIXUP data augmentation (λ=0.5)"
   ]
  },
  {
   "cell_type": "markdown",
   "id": "fc88a195-c896-422e-abb4-09e30ad2a3eb",
   "metadata": {},
   "source": [
    "## Libraries"
   ]
  },
  {
   "cell_type": "code",
   "execution_count": 1,
   "id": "3e766d02-d49d-4bee-87f6-ec2606e158c0",
   "metadata": {},
   "outputs": [],
   "source": [
    "# for building the models\n",
    "from sklearn.linear_model import LinearRegression, Ridge, SGDRegressor\n",
    "from sklearn.svm import SVR, LinearSVR\n",
    "from sklearn.tree import DecisionTreeRegressor\n",
    "from sklearn.neighbors import KNeighborsRegressor\n",
    "from sklearn.pipeline import Pipeline\n",
    "from sklearn.feature_extraction.text import TfidfVectorizer\n",
    "from tqdm import tqdm\n",
    "\n",
    "# for computing the scores --> https://www.datacourses.com/evaluation-of-regression-models-in-scikit-learn-846/\n",
    "import math\n",
    "from sklearn.metrics import mean_squared_error, r2_score\n",
    "\n",
    "# for result visualization\n",
    "import numpy as np\n",
    "import matplotlib.pyplot as plt\n",
    "\n",
    "# for loading data\n",
    "import pickle "
   ]
  },
  {
   "cell_type": "markdown",
   "id": "75e0d317-75d3-4a01-8f8c-4d5e34634711",
   "metadata": {
    "tags": []
   },
   "source": [
    "## Data loading"
   ]
  },
  {
   "cell_type": "code",
   "execution_count": 2,
   "id": "c00a5667-2d07-4ffa-990c-71c7a5d98021",
   "metadata": {},
   "outputs": [],
   "source": [
    "# Load train test\n",
    "f_train_test = open('train_test.pickle', 'rb')\n",
    "(train,test) = pickle.load(f_train_test)\n",
    "f_train_test.close()"
   ]
  },
  {
   "cell_type": "code",
   "execution_count": 3,
   "id": "bb0cf31c-ea7a-41dc-ad27-c716a5f423ed",
   "metadata": {},
   "outputs": [],
   "source": [
    "# Load train samples dfs\n",
    "f_train_samples = open('train_samples.pickle', 'rb')\n",
    "(train10, train20, train30, train40, train50, train60, train70, train80, train90) = pickle.load(f_train_samples)\n",
    "f_train_samples.close()"
   ]
  },
  {
   "cell_type": "code",
   "execution_count": 4,
   "id": "2aeda302-5cb1-4221-afab-34fe6d2acbe8",
   "metadata": {},
   "outputs": [],
   "source": [
    "# Load train augmented samples dfs\n",
    "f_train_samples_aug = open('train_valence_samples_aug.pickle', 'rb')\n",
    "(train10_aug,train20_aug,train30_aug,train40_aug,train50_aug,train60_aug,train70_aug,train80_aug,train90_aug,train_aug) = pickle.load(f_train_samples_aug)\n",
    "f_train_samples_aug.close()"
   ]
  },
  {
   "cell_type": "markdown",
   "id": "e7539bc8-3e89-4360-8798-1c4275ef53f2",
   "metadata": {},
   "source": [
    "## Prepare data for modeling"
   ]
  },
  {
   "cell_type": "code",
   "execution_count": 5,
   "id": "e70db203-ef4e-4feb-8fee-1d8e73dfe40b",
   "metadata": {},
   "outputs": [],
   "source": [
    "train_list = [train10, train20, train30, train40, train50, train60, train70, train80, train90, train]\n",
    "train_aug_list = [train10_aug,train20_aug,train30_aug,train40_aug,train50_aug,train60_aug,train70_aug,train80_aug,train90_aug,train_aug]"
   ]
  },
  {
   "cell_type": "code",
   "execution_count": 6,
   "id": "f98f485f-f354-4283-a2e7-17e51021f26f",
   "metadata": {},
   "outputs": [],
   "source": [
    "# train data\n",
    "X_train_list = []\n",
    "y_train_list = []\n",
    "for i in range(len(train_list)):\n",
    "    X_train_list.append(train_list[i][['lyrics']].values.flatten())\n",
    "    y_train_list.append(train_list[i][['valence']].values)\n",
    "\n",
    "# augmented data\n",
    "X_train_aug_list = []\n",
    "y_train_aug_list = []\n",
    "for i in range(len(train_aug_list)):\n",
    "    X_train_aug_list.append(train_aug_list[i][['lyrics']].values.flatten())\n",
    "    y_train_aug_list.append(train_aug_list[i][['valence']].values)\n",
    "    \n",
    "# test data\n",
    "X_test = test[['lyrics']].values.flatten()\n",
    "y_test = test[['valence']].values"
   ]
  },
  {
   "cell_type": "code",
   "execution_count": 7,
   "id": "be7b7eb4-b493-48e9-ba87-7d1679c0ba47",
   "metadata": {},
   "outputs": [],
   "source": [
    "# range of the train set \n",
    "x_range = [item for item in list(range(10,110,10))]"
   ]
  },
  {
   "cell_type": "markdown",
   "id": "81af1b66-f1f8-4999-9344-b5f8dedb133c",
   "metadata": {},
   "source": [
    "## SGD Regressor"
   ]
  },
  {
   "cell_type": "code",
   "execution_count": 8,
   "id": "d43291bd-1544-45c5-a439-506036fff1ed",
   "metadata": {},
   "outputs": [],
   "source": [
    "def SGDR_Regressor(X_list,y_list,X_test,y_test):\n",
    "    SGDR_MSE = []\n",
    "\n",
    "    for i in tqdm(range(len(train_aug_list))):\n",
    "        #training de model\n",
    "        pipe_SGDR = Pipeline([('tfidf_vec' , TfidfVectorizer(min_df=3,\n",
    "                                                    max_features=5000,\n",
    "                                                    stop_words='english')),\n",
    "                     ('clf_SGDR'   , SGDRegressor(random_state=79068588)),\n",
    "                    ])\n",
    "        pipe_SGDR.fit(X_list[i],y_list[i].ravel())\n",
    "        \n",
    "        #scores\n",
    "        y_pred=pipe_SGDR.predict(X_test)\n",
    "        SGDR_MSE.append(mean_squared_error(y_test,y_pred))\n",
    "        \n",
    "    return(SGDR_MSE)"
   ]
  },
  {
   "cell_type": "code",
   "execution_count": 9,
   "id": "32c67d95-1b27-459f-af0d-4abc6aa14f4e",
   "metadata": {},
   "outputs": [
    {
     "name": "stderr",
     "output_type": "stream",
     "text": [
      "100%|██████████| 10/10 [00:15<00:00,  1.53s/it]\n"
     ]
    }
   ],
   "source": [
    "sgdr_scores1 = SGDR_Regressor(X_train_list,y_train_list,X_test,y_test)"
   ]
  },
  {
   "cell_type": "code",
   "execution_count": 10,
   "id": "cff7bbf9-d616-41d6-8de4-ab2108673c65",
   "metadata": {},
   "outputs": [
    {
     "name": "stderr",
     "output_type": "stream",
     "text": [
      "100%|██████████| 10/10 [00:26<00:00,  2.66s/it]\n"
     ]
    }
   ],
   "source": [
    "sgdr_scores2 = SGDR_Regressor(X_train_aug_list,y_train_aug_list,X_test,y_test)"
   ]
  },
  {
   "cell_type": "code",
   "execution_count": 11,
   "id": "a9c3dce8-3ce3-4c01-870f-0e57171ee186",
   "metadata": {},
   "outputs": [
    {
     "data": {
      "image/png": "[encoded data removed]",
      "text/plain": [
       "<Figure size 432x288 with 1 Axes>"
      ]
     },
     "metadata": {
      "needs_background": "light"
     },
     "output_type": "display_data"
    }
   ],
   "source": [
    "plt.plot(x_range, sgdr_scores1, label='scores without data aug.')\n",
    "plt.plot(x_range, sgdr_scores2, label='scores with data aug.')\n",
    "plt.xlabel('% train data')\n",
    "plt.ylabel('MSE')\n",
    "plt.title('MSE with SGDR')\n",
    "plt.legend()\n",
    "plt.show()"
   ]
  },
  {
   "cell_type": "markdown",
   "id": "3e010df0-f2d1-4dad-8329-434724288521",
   "metadata": {},
   "source": [
    "## Decision Tree Regressor"
   ]
  },
  {
   "cell_type": "code",
   "execution_count": 12,
   "id": "f421c58a-d252-413d-9935-b1eb9e9435d5",
   "metadata": {},
   "outputs": [],
   "source": [
    "def DT_Regressor(X_list,y_list,X_test,y_test):\n",
    "    DTR_MSE = []\n",
    "\n",
    "    for i in tqdm(range(len(train_aug_list))):\n",
    "        #training de model\n",
    "        pipe_DTR = Pipeline([('tfidf_vec' , TfidfVectorizer(min_df=3,\n",
    "                                                    max_features=5000,\n",
    "                                                    stop_words='english')),\n",
    "                     ('clf_DTR'   , DecisionTreeRegressor(random_state=79068588)),\n",
    "                    ])\n",
    "        pipe_DTR.fit(X_list[i],y_list[i].ravel())\n",
    "        \n",
    "        #scores\n",
    "        y_pred=pipe_DTR.predict(X_test)\n",
    "        DTR_MSE.append(mean_squared_error(y_test,y_pred))\n",
    "        \n",
    "    return(DTR_MSE)"
   ]
  },
  {
   "cell_type": "code",
   "execution_count": 13,
   "id": "61527d88-83e6-4a86-8d84-491cbd3b09dd",
   "metadata": {},
   "outputs": [
    {
     "name": "stderr",
     "output_type": "stream",
     "text": [
      "100%|██████████| 10/10 [02:28<00:00, 14.82s/it]\n"
     ]
    }
   ],
   "source": [
    "dt_scores1 = DT_Regressor(X_train_list,y_train_list,X_test,y_test)"
   ]
  },
  {
   "cell_type": "code",
   "execution_count": 14,
   "id": "c6984094-d017-4065-bdd3-adbf3114cf46",
   "metadata": {},
   "outputs": [
    {
     "name": "stderr",
     "output_type": "stream",
     "text": [
      "100%|██████████| 10/10 [03:55<00:00, 23.51s/it]\n"
     ]
    }
   ],
   "source": [
    "dt_scores2 = DT_Regressor(X_train_aug_list,y_train_aug_list,X_test,y_test)"
   ]
  },
  {
   "cell_type": "code",
   "execution_count": 15,
   "id": "1cd60b2a-843b-4b00-b496-e8cb9b625c92",
   "metadata": {},
   "outputs": [
    {
     "data": {
      "image/png": "[encoded data removed]",
      "text/plain": [
       "<Figure size 432x288 with 1 Axes>"
      ]
     },
     "metadata": {
      "needs_background": "light"
     },
     "output_type": "display_data"
    }
   ],
   "source": [
    "plt.plot(x_range, dt_scores1, label='scores without data aug.')\n",
    "plt.plot(x_range, dt_scores2, label='scores with data aug.')\n",
    "plt.xlabel('% train data')\n",
    "plt.ylabel('MSE')\n",
    "plt.title('MSE with DTR')\n",
    "plt.legend()\n",
    "plt.show()"
   ]
  },
  {
   "cell_type": "markdown",
   "id": "382dabb2-04cd-4dfe-83a3-9f706f6e2667",
   "metadata": {},
   "source": [
    "## Linear SV Regressor"
   ]
  },
  {
   "cell_type": "code",
   "execution_count": 16,
   "id": "c54ca503-b701-4ad8-b27d-54d328b94bbd",
   "metadata": {},
   "outputs": [],
   "source": [
    "def SVR_Regressor(X_list,y_list,X_test,y_test):\n",
    "    SVR_MSE = []\n",
    "\n",
    "    for i in tqdm(range(len(train_aug_list))):\n",
    "        #training de model\n",
    "        pipe_SVR = Pipeline([('tfidf_vec' , TfidfVectorizer(min_df=3,\n",
    "                                                    max_features=5000,\n",
    "                                                    stop_words='english')),\n",
    "                     ('clf_SVR'   , LinearSVR(max_iter=10000, random_state=79068588)),\n",
    "                    ])\n",
    "        pipe_SVR.fit(X_list[i],y_list[i].ravel())\n",
    "        \n",
    "        #scores\n",
    "        y_pred=pipe_SVR.predict(X_test)\n",
    "        SVR_MSE.append(mean_squared_error(y_test,y_pred))\n",
    "        \n",
    "    return(SVR_MSE)"
   ]
  },
  {
   "cell_type": "code",
   "execution_count": 17,
   "id": "474aa680-1d01-430b-b179-b1d89ba9fb87",
   "metadata": {},
   "outputs": [
    {
     "name": "stderr",
     "output_type": "stream",
     "text": [
      "100%|██████████| 10/10 [00:26<00:00,  2.67s/it]\n"
     ]
    }
   ],
   "source": [
    "svr_scores1 = SVR_Regressor(X_train_list,y_train_list,X_test,y_test)"
   ]
  },
  {
   "cell_type": "code",
   "execution_count": 18,
   "id": "2f9284bb-9bfc-43bd-9718-5b5c61a84729",
   "metadata": {},
   "outputs": [
    {
     "name": "stderr",
     "output_type": "stream",
     "text": [
      "100%|██████████| 10/10 [01:25<00:00,  8.55s/it]\n"
     ]
    }
   ],
   "source": [
    "svr_scores2 = SVR_Regressor(X_train_aug_list,y_train_aug_list,X_test,y_test)"
   ]
  },
  {
   "cell_type": "code",
   "execution_count": 19,
   "id": "36c4cdc0-1039-434b-ba6e-4346612a6e57",
   "metadata": {},
   "outputs": [
    {
     "data": {
      "image/png": "[encoded data removed]",
      "text/plain": [
       "<Figure size 432x288 with 1 Axes>"
      ]
     },
     "metadata": {
      "needs_background": "light"
     },
     "output_type": "display_data"
    }
   ],
   "source": [
    "plt.plot(x_range, svr_scores1, label='scores without data aug.')\n",
    "plt.plot(x_range, svr_scores2, label='scores with data aug.')\n",
    "plt.xlabel('% train data')\n",
    "plt.ylabel('MSE')\n",
    "plt.title('MSE with SVR')\n",
    "plt.legend()\n",
    "plt.show()"
   ]
  },
  {
   "cell_type": "markdown",
   "id": "dfdc5ead-02b6-4d71-b419-f0bd9cf5aad6",
   "metadata": {},
   "source": [
    "## Save results"
   ]
  },
  {
   "cell_type": "code",
   "execution_count": 20,
   "id": "5d7c672d-26b2-41f8-88a1-e046c25de609",
   "metadata": {},
   "outputs": [],
   "source": [
    "# Save MSE of all models\n",
    "f_mse_valence_samples = open('mse_valence_samples.pickle', 'wb')\n",
    "pickle.dump([sgdr_scores1,dt_scores1,svr_scores1], f_mse_valence_samples)\n",
    "f_mse_valence_samples.close()\n",
    "\n",
    "f_mse_valence_samples_MUaug = open('mse_valence_samples_MUaug.pickle', 'wb')\n",
    "pickle.dump([sgdr_scores2,dt_scores2,svr_scores2], f_mse_valence_samples_MUaug)\n",
    "f_mse_valence_samples_MUaug.close()"
   ]
  }
 ],
 "metadata": {
  "kernelspec": {
   "display_name": "Python 3 (ipykernel)",
   "language": "python",
   "name": "python3"
  },
  "language_info": {
   "codemirror_mode": {
    "name": "ipython",
    "version": 3
   },
   "file_extension": ".py",
   "mimetype": "text/x-python",
   "name": "python",
   "nbconvert_exporter": "python",
   "pygments_lexer": "ipython3",
   "version": "3.8.2"
  }
 },
 "nbformat": 4,
 "nbformat_minor": 5
}
