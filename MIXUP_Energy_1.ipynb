{
 "cells": [
  {
   "cell_type": "markdown",
   "id": "3f41aed8-5be0-472e-aae4-2d1479b3f56f",
   "metadata": {
    "tags": []
   },
   "source": [
    "# Regression Models for predicting Energy\n",
    "# ↳ using MIXUP data augmentation (λ=0.5)"
   ]
  },
  {
   "cell_type": "markdown",
   "id": "7c2af457-9b10-45e2-a33a-721b2bc2cb78",
   "metadata": {
    "tags": []
   },
   "source": [
    "## Libraries"
   ]
  },
  {
   "cell_type": "code",
   "execution_count": 1,
   "id": "9b428162-49f4-45e7-8d68-232bd6b9eed3",
   "metadata": {},
   "outputs": [],
   "source": [
    "# for building the models\n",
    "from sklearn.linear_model import LinearRegression, Ridge, SGDRegressor\n",
    "from sklearn.svm import SVR, LinearSVR\n",
    "from sklearn.tree import DecisionTreeRegressor\n",
    "from sklearn.neighbors import KNeighborsRegressor\n",
    "from sklearn.pipeline import Pipeline\n",
    "from sklearn.feature_extraction.text import TfidfVectorizer\n",
    "from tqdm import tqdm\n",
    "\n",
    "# for computing the scores --> https://www.datacourses.com/evaluation-of-regression-models-in-scikit-learn-846/\n",
    "import math\n",
    "from sklearn.metrics import mean_squared_error, r2_score\n",
    "\n",
    "# for result visualization\n",
    "import numpy as np\n",
    "import matplotlib.pyplot as plt\n",
    "\n",
    "# for loading data\n",
    "import pickle "
   ]
  },
  {
   "cell_type": "markdown",
   "id": "8ec84208-3e20-4d24-88d1-f408ea214bf3",
   "metadata": {
    "tags": []
   },
   "source": [
    "## Data loading"
   ]
  },
  {
   "cell_type": "code",
   "execution_count": 2,
   "id": "f167508a-95f7-42ec-b6e0-0d24eebb3775",
   "metadata": {},
   "outputs": [],
   "source": [
    "# Load train test\n",
    "f_train_test = open('train_test.pickle', 'rb')\n",
    "(train,test) = pickle.load(f_train_test)\n",
    "f_train_test.close()"
   ]
  },
  {
   "cell_type": "code",
   "execution_count": 3,
   "id": "29e14ebb-4e98-47dc-b7e4-a31c2170d9d4",
   "metadata": {},
   "outputs": [],
   "source": [
    "# Load train samples dfs\n",
    "f_train_samples = open('train_samples.pickle', 'rb')\n",
    "(train10, train20, train30, train40, train50, train60, train70, train80, train90) = pickle.load(f_train_samples)\n",
    "f_train_samples.close()"
   ]
  },
  {
   "cell_type": "code",
   "execution_count": 4,
   "id": "2401a65b-f0bf-4d4a-a8de-4092e379f5e9",
   "metadata": {},
   "outputs": [],
   "source": [
    "# Load train augmented samples dfs\n",
    "f_train_samples_aug = open('train_energy_samples_aug.pickle', 'rb')\n",
    "(train10_aug,train20_aug,train30_aug,train40_aug,train50_aug,train60_aug,train70_aug,train80_aug,train90_aug,train_aug) = pickle.load(f_train_samples_aug)\n",
    "f_train_samples_aug.close()"
   ]
  },
  {
   "cell_type": "markdown",
   "id": "aa4b2e0d-a8ec-4ac1-a269-628148a3c0ff",
   "metadata": {},
   "source": [
    "## Prepare data for modeling"
   ]
  },
  {
   "cell_type": "code",
   "execution_count": 5,
   "id": "a0b272b5-a975-46d5-8968-275af5c9b6f7",
   "metadata": {},
   "outputs": [],
   "source": [
    "train_list = [train10, train20, train30, train40, train50, train60, train70, train80, train90, train]\n",
    "train_aug_list = [train10_aug,train20_aug,train30_aug,train40_aug,train50_aug,train60_aug,train70_aug,train80_aug,train90_aug,train_aug]"
   ]
  },
  {
   "cell_type": "code",
   "execution_count": 6,
   "id": "f05a5e2d-56ba-4fcc-bfbb-f4fdafb5271c",
   "metadata": {},
   "outputs": [],
   "source": [
    "# train data\n",
    "X_train_list = []\n",
    "y_train_list = []\n",
    "for i in range(len(train_list)):\n",
    "    X_train_list.append(train_list[i][['lyrics']].values.flatten())\n",
    "    y_train_list.append(train_list[i][['energy']].values)\n",
    "\n",
    "# augmented data\n",
    "X_train_aug_list = []\n",
    "y_train_aug_list = []\n",
    "for i in range(len(train_aug_list)):\n",
    "    X_train_aug_list.append(train_aug_list[i][['lyrics']].values.flatten())\n",
    "    y_train_aug_list.append(train_aug_list[i][['energy']].values)\n",
    "    \n",
    "# test data\n",
    "X_test = test[['lyrics']].values.flatten()\n",
    "y_test = test[['energy']].values"
   ]
  },
  {
   "cell_type": "code",
   "execution_count": 7,
   "id": "eff6e375-1997-46c3-a71e-f418cf164ee5",
   "metadata": {},
   "outputs": [],
   "source": [
    "# range of the train set \n",
    "x_range = [item for item in list(range(10,110,10))]"
   ]
  },
  {
   "cell_type": "markdown",
   "id": "56163361-d702-4f9b-894e-d3cdd02fbd4a",
   "metadata": {},
   "source": [
    "## SGD Regressor"
   ]
  },
  {
   "cell_type": "code",
   "execution_count": 8,
   "id": "fd9d9a49-f1f0-40a9-86c6-09749a25a2d3",
   "metadata": {},
   "outputs": [],
   "source": [
    "def SGDR_Regressor(X_list,y_list,X_test,y_test):\n",
    "    SGDR_MSE = []\n",
    "\n",
    "    for i in tqdm(range(len(train_aug_list))):\n",
    "        #training de model\n",
    "        pipe_SGDR = Pipeline([('tfidf_vec' , TfidfVectorizer(min_df=3,\n",
    "                                                    max_features=5000,\n",
    "                                                    stop_words='english')),\n",
    "                     ('clf_SGDR'   , SGDRegressor(random_state=79068588)),\n",
    "                    ])\n",
    "        pipe_SGDR.fit(X_list[i],y_list[i].ravel())\n",
    "        \n",
    "        #scores\n",
    "        y_pred=pipe_SGDR.predict(X_test)\n",
    "        SGDR_MSE.append(mean_squared_error(y_test,y_pred))\n",
    "        \n",
    "    return(SGDR_MSE)"
   ]
  },
  {
   "cell_type": "code",
   "execution_count": 9,
   "id": "de7a6323-f312-4e3a-9da6-509fcbbd0f3f",
   "metadata": {},
   "outputs": [
    {
     "name": "stderr",
     "output_type": "stream",
     "text": [
      "100%|██████████| 10/10 [00:19<00:00,  1.97s/it]\n"
     ]
    }
   ],
   "source": [
    "sgdr_scores1 = SGDR_Regressor(X_train_list,y_train_list,X_test,y_test)"
   ]
  },
  {
   "cell_type": "code",
   "execution_count": 10,
   "id": "39ee9274-1a3f-40ed-8827-5b3ae46b7077",
   "metadata": {},
   "outputs": [
    {
     "name": "stderr",
     "output_type": "stream",
     "text": [
      "100%|██████████| 10/10 [00:23<00:00,  2.38s/it]\n"
     ]
    }
   ],
   "source": [
    "sgdr_scores2 = SGDR_Regressor(X_train_aug_list,y_train_aug_list,X_test,y_test)"
   ]
  },
  {
   "cell_type": "code",
   "execution_count": 11,
   "id": "4af3fd57-dbb6-4ad4-ad21-9184a1aecec6",
   "metadata": {},
   "outputs": [
    {
     "data": {
      "image/png": "[encoded data removed]",
      "text/plain": [
       "<Figure size 432x288 with 1 Axes>"
      ]
     },
     "metadata": {
      "needs_background": "light"
     },
     "output_type": "display_data"
    }
   ],
   "source": [
    "plt.plot(x_range, sgdr_scores1, label='scores without data aug.')\n",
    "plt.plot(x_range, sgdr_scores2, label='scores with data aug.')\n",
    "plt.xlabel('% train data')\n",
    "plt.ylabel('MSE')\n",
    "plt.title('MSE with SGDR')\n",
    "plt.legend()\n",
    "plt.show()"
   ]
  },
  {
   "cell_type": "markdown",
   "id": "cf7ec79c-ea52-4272-a23a-25f1336008fb",
   "metadata": {},
   "source": [
    "## Decision Tree Regressor"
   ]
  },
  {
   "cell_type": "code",
   "execution_count": 12,
   "id": "c9959185-995f-4c11-94ba-f5f68e022ecf",
   "metadata": {},
   "outputs": [],
   "source": [
    "def DT_Regressor(X_list,y_list,X_test,y_test):\n",
    "    DTR_MSE = []\n",
    "\n",
    "    for i in tqdm(range(len(train_aug_list))):\n",
    "        #training de model\n",
    "        pipe_DTR = Pipeline([('tfidf_vec' , TfidfVectorizer(min_df=3,\n",
    "                                                    max_features=5000,\n",
    "                                                    stop_words='english')),\n",
    "                     ('clf_DTR'   , DecisionTreeRegressor(random_state=79068588)),\n",
    "                    ])\n",
    "        pipe_DTR.fit(X_list[i],y_list[i].ravel())\n",
    "        \n",
    "        #scores\n",
    "        y_pred=pipe_DTR.predict(X_test)\n",
    "        DTR_MSE.append(mean_squared_error(y_test,y_pred))\n",
    "        \n",
    "    return(DTR_MSE)"
   ]
  },
  {
   "cell_type": "code",
   "execution_count": 13,
   "id": "bc49b3f7-9a6e-447b-b695-49c89ffe3121",
   "metadata": {},
   "outputs": [
    {
     "name": "stderr",
     "output_type": "stream",
     "text": [
      "100%|██████████| 10/10 [02:08<00:00, 12.85s/it]\n"
     ]
    }
   ],
   "source": [
    "dt_scores1 = DT_Regressor(X_train_list,y_train_list,X_test,y_test)"
   ]
  },
  {
   "cell_type": "code",
   "execution_count": 14,
   "id": "b0c7a831-88b4-49b5-8995-cb58b6fab788",
   "metadata": {},
   "outputs": [
    {
     "name": "stderr",
     "output_type": "stream",
     "text": [
      "100%|██████████| 10/10 [03:35<00:00, 21.51s/it]\n"
     ]
    }
   ],
   "source": [
    "dt_scores2 = DT_Regressor(X_train_aug_list,y_train_aug_list,X_test,y_test)"
   ]
  },
  {
   "cell_type": "code",
   "execution_count": 15,
   "id": "097fadb4-a289-434a-a26f-69152bf72121",
   "metadata": {},
   "outputs": [
    {
     "data": {
      "image/png": "[encoded data removed]",
      "text/plain": [
       "<Figure size 432x288 with 1 Axes>"
      ]
     },
     "metadata": {
      "needs_background": "light"
     },
     "output_type": "display_data"
    }
   ],
   "source": [
    "plt.plot(x_range, dt_scores1, label='scores without data aug.')\n",
    "plt.plot(x_range, dt_scores2, label='scores with data aug.')\n",
    "plt.xlabel('% train data')\n",
    "plt.ylabel('MSE')\n",
    "plt.title('MSE with DTR')\n",
    "plt.legend()\n",
    "plt.show()"
   ]
  },
  {
   "cell_type": "markdown",
   "id": "c4be7f50-571c-4d3b-8886-0eaf0affa1b2",
   "metadata": {},
   "source": [
    "## Linear SV Regressor"
   ]
  },
  {
   "cell_type": "code",
   "execution_count": 16,
   "id": "3fa077d4-138e-4f06-a36f-7d761b4f8dec",
   "metadata": {},
   "outputs": [],
   "source": [
    "def SVR_Regressor(X_list,y_list,X_test,y_test):\n",
    "    SVR_MSE = []\n",
    "\n",
    "    for i in tqdm(range(len(train_aug_list))):\n",
    "        #training de model\n",
    "        pipe_SVR = Pipeline([('tfidf_vec' , TfidfVectorizer(min_df=3,\n",
    "                                                    max_features=5000,\n",
    "                                                    stop_words='english')),\n",
    "                     ('clf_SVR'   , LinearSVR(max_iter=10000,random_state=79068588)),\n",
    "                    ])\n",
    "        pipe_SVR.fit(X_list[i],y_list[i].ravel())\n",
    "        \n",
    "        #scores\n",
    "        y_pred=pipe_SVR.predict(X_test)\n",
    "        SVR_MSE.append(mean_squared_error(y_test,y_pred))\n",
    "        \n",
    "    return(SVR_MSE)"
   ]
  },
  {
   "cell_type": "code",
   "execution_count": 17,
   "id": "900fd54d-f058-4bab-bf77-376523acac93",
   "metadata": {},
   "outputs": [
    {
     "name": "stderr",
     "output_type": "stream",
     "text": [
      "100%|██████████| 10/10 [00:23<00:00,  2.31s/it]\n"
     ]
    }
   ],
   "source": [
    "svr_scores1 = SVR_Regressor(X_train_list,y_train_list,X_test,y_test)"
   ]
  },
  {
   "cell_type": "code",
   "execution_count": 18,
   "id": "6ee0a296-16c1-4c5e-833c-042fdf83c7cd",
   "metadata": {},
   "outputs": [
    {
     "name": "stderr",
     "output_type": "stream",
     "text": [
      "100%|██████████| 10/10 [01:13<00:00,  7.31s/it]\n"
     ]
    }
   ],
   "source": [
    "svr_scores2 = SVR_Regressor(X_train_aug_list,y_train_aug_list,X_test,y_test)"
   ]
  },
  {
   "cell_type": "code",
   "execution_count": 19,
   "id": "f4119aaa-b254-4896-b115-a9e21121c24e",
   "metadata": {},
   "outputs": [
    {
     "data": {
      "image/png": "[encoded data removed]",
      "text/plain": [
       "<Figure size 432x288 with 1 Axes>"
      ]
     },
     "metadata": {
      "needs_background": "light"
     },
     "output_type": "display_data"
    }
   ],
   "source": [
    "plt.plot(x_range, svr_scores1, label='scores without data aug.')\n",
    "plt.plot(x_range, svr_scores2, label='scores with data aug.')\n",
    "plt.xlabel('% train data')\n",
    "plt.ylabel('MSE')\n",
    "plt.title('MSE with SVR')\n",
    "plt.legend()\n",
    "plt.show()"
   ]
  },
  {
   "cell_type": "markdown",
   "id": "a924248b-ae73-42af-ab39-639841a9558e",
   "metadata": {},
   "source": [
    "## Save results"
   ]
  },
  {
   "cell_type": "code",
   "execution_count": 20,
   "id": "4019dd36-69e7-4888-a161-5db71d9d248b",
   "metadata": {},
   "outputs": [],
   "source": [
    "# Save MSE of all models\n",
    "f_mse_energy_samples = open('mse_energy_samples.pickle', 'wb')\n",
    "pickle.dump([sgdr_scores1,dt_scores1,svr_scores1], f_mse_energy_samples)\n",
    "f_mse_energy_samples.close()\n",
    "\n",
    "f_mse_energy_samples_MUaug = open('mse_energy_samples_MUaug.pickle', 'wb')\n",
    "pickle.dump([sgdr_scores2,dt_scores2,svr_scores2], f_mse_energy_samples_MUaug)\n",
    "f_mse_energy_samples_MUaug.close()"
   ]
  }
 ],
 "metadata": {
  "kernelspec": {
   "display_name": "Python 3 (ipykernel)",
   "language": "python",
   "name": "python3"
  },
  "language_info": {
   "codemirror_mode": {
    "name": "ipython",
    "version": 3
   },
   "file_extension": ".py",
   "mimetype": "text/x-python",
   "name": "python",
   "nbconvert_exporter": "python",
   "pygments_lexer": "ipython3",
   "version": "3.8.2"
  }
 },
 "nbformat": 4,
 "nbformat_minor": 5
}
