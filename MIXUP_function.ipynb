{
 "cells": [
  {
   "cell_type": "markdown",
   "id": "a8e48582-bfc5-4b32-9d6a-3201f6e6b288",
   "metadata": {
    "tags": []
   },
   "source": [
    "# Data Augmentation with MIXUP"
   ]
  },
  {
   "cell_type": "markdown",
   "id": "4170bfa0-e92b-43b9-ac85-3dc7ed2b2b12",
   "metadata": {
    "tags": []
   },
   "source": [
    "## Libraries"
   ]
  },
  {
   "cell_type": "code",
   "execution_count": 1,
   "id": "e1eb2849-68b4-42f7-b1a7-bdf378a4b981",
   "metadata": {},
   "outputs": [],
   "source": [
    "import pandas as pd\n",
    "import numpy as np\n",
    "import random\n",
    "from tqdm import tqdm\n",
    "import pickle # for loading data"
   ]
  },
  {
   "cell_type": "markdown",
   "id": "f6fea04e-9503-4221-996b-d4afd451b59b",
   "metadata": {
    "tags": []
   },
   "source": [
    "## Data loading"
   ]
  },
  {
   "cell_type": "code",
   "execution_count": 2,
   "id": "6097cae2-c80c-4bd6-be72-0ad2bc975587",
   "metadata": {},
   "outputs": [],
   "source": [
    "f_df = open('df.pickle', 'rb')\n",
    "df = pickle.load(f_df)\n",
    "f_df.close()"
   ]
  },
  {
   "cell_type": "code",
   "execution_count": 3,
   "id": "7809bc0b-8e5d-459c-8d0e-9edbafb416e5",
   "metadata": {},
   "outputs": [],
   "source": [
    "f_train_test = open('train_test.pickle', 'rb')\n",
    "(train,test) = pickle.load(f_train_test)\n",
    "f_train_test.close()"
   ]
  },
  {
   "cell_type": "code",
   "execution_count": 4,
   "id": "5265e96f-f5ca-4d09-8ce8-cb8d6ac15975",
   "metadata": {},
   "outputs": [],
   "source": [
    "f_train_samples = open('train_samples.pickle', 'rb')\n",
    "(train10, train20, train30, train40, train50, train60, train70, train80, train90) = pickle.load(f_train_samples)\n",
    "f_train_samples.close()"
   ]
  },
  {
   "cell_type": "markdown",
   "id": "e60981a6-853e-48b8-81e0-7727ea49b72d",
   "metadata": {},
   "source": [
    "## Data Augmentation "
   ]
  },
  {
   "cell_type": "code",
   "execution_count": 5,
   "id": "6a36bdf9-0876-410c-a4ef-0687dd4104e2",
   "metadata": {},
   "outputs": [],
   "source": [
    "def MIXUP_augment_df(df,sc,scl,pr=0.5,samples=100):\n",
    "    \n",
    "    random.seed(79068588)\n",
    "    \n",
    "    ind = 1\n",
    "    \n",
    "    #sts = [\"HALV\",\"HAHV\",\"LALV\",\"LAHV\"]\n",
    "    \n",
    "    sts = [\"H\",\"MH\",\"ML\",\"L\"]\n",
    "    \n",
    "    random.shuffle(sts)\n",
    "    \n",
    "    for st in sts:\n",
    "        df_n=df[df[scl] == st].reset_index(drop=True)\n",
    "        \n",
    "        new_text=[]\n",
    "        sc_list=[]\n",
    "        \n",
    "        n_samples = int(samples//4)\n",
    "        \n",
    "        if ind==4:\n",
    "            n_samples = samples-3*n_samples\n",
    "        \n",
    "        ## data augmentation loop\n",
    "        random.seed(79068588)\n",
    "        for i in tqdm(np.random.randint(0,len(df_n)-1,n_samples)):\n",
    "            \n",
    "            random.seed(79068588)\n",
    "            j = random.randint(0, len(df_n)-1)\n",
    "            \n",
    "            text1 = df_n.iloc[i]['lyrics'].split()\n",
    "            text2 = df_n.iloc[j]['lyrics'].split()\n",
    "            \n",
    "            random.seed(79068588)\n",
    "            text1_l = random.sample(text1, int(len(text1)*(1-pr)))\n",
    "            text2_l = random.sample(text2, int(len(text2)*pr))\n",
    "            \n",
    "            random.seed(79068588)\n",
    "            aug_text_l = text1_l+text2_l\n",
    "            random.shuffle(aug_text_l)\n",
    "            aug_text = ' '.join(map(str, aug_text_l))\n",
    "            \n",
    "            new_text.append(aug_text)\n",
    "            \n",
    "            new_sc = df_n.iloc[i][sc]*(1-pr)+df_n.iloc[j][sc]*pr\n",
    "\n",
    "                \n",
    "            sc_list.append(new_sc)\n",
    "            \n",
    "        ind =+ 1\n",
    "    \n",
    "        ## dataframe\n",
    "        new=pd.DataFrame({'lyrics':new_text, sc+' level':st, sc:sc_list})\n",
    "        df=df.append(new,ignore_index = True)\n",
    "        \n",
    "    return df.sample(frac=1).reset_index(drop=True)"
   ]
  },
  {
   "cell_type": "markdown",
   "id": "5284d56b-9cca-4ff1-859c-e73c776029a1",
   "metadata": {},
   "source": [
    "### Energy"
   ]
  },
  {
   "cell_type": "markdown",
   "id": "2fb62c92-a38b-4f01-9421-182155958a8e",
   "metadata": {},
   "source": [
    "#### MIXUP (λ=0.5)"
   ]
  },
  {
   "cell_type": "code",
   "execution_count": 6,
   "id": "768ecf4e-a2ac-4828-a0f8-8fb6881bb3a3",
   "metadata": {},
   "outputs": [
    {
     "name": "stderr",
     "output_type": "stream",
     "text": [
      "100%|██████████| 5101/5101 [00:03<00:00, 1460.75it/s]\n",
      "100%|██████████| 5101/5101 [00:03<00:00, 1600.74it/s]\n",
      "100%|██████████| 5101/5101 [00:03<00:00, 1621.79it/s]\n",
      "100%|██████████| 5101/5101 [00:04<00:00, 1077.58it/s]\n",
      "100%|██████████| 4534/4534 [00:03<00:00, 1183.01it/s]\n",
      "100%|██████████| 4534/4534 [00:03<00:00, 1162.68it/s]\n",
      "100%|██████████| 4534/4534 [00:03<00:00, 1300.39it/s]\n",
      "100%|██████████| 4534/4534 [00:03<00:00, 1212.90it/s]\n",
      "100%|██████████| 3968/3968 [00:04<00:00, 953.19it/s] \n",
      "100%|██████████| 3968/3968 [00:02<00:00, 1478.30it/s]\n",
      "100%|██████████| 3968/3968 [00:02<00:00, 1368.18it/s]\n",
      "100%|██████████| 3968/3968 [00:03<00:00, 1317.32it/s]\n",
      "100%|██████████| 3401/3401 [00:02<00:00, 1388.10it/s]\n",
      "100%|██████████| 3401/3401 [00:02<00:00, 1363.89it/s]\n",
      "100%|██████████| 3401/3401 [00:03<00:00, 1126.48it/s]\n",
      "100%|██████████| 3401/3401 [00:02<00:00, 1450.60it/s]\n",
      "100%|██████████| 2834/2834 [00:02<00:00, 1337.28it/s]\n",
      "100%|██████████| 2834/2834 [00:02<00:00, 1140.64it/s]\n",
      "100%|██████████| 2834/2834 [00:02<00:00, 1042.07it/s]\n",
      "100%|██████████| 2834/2834 [00:02<00:00, 1106.17it/s]\n",
      "100%|██████████| 2267/2267 [00:01<00:00, 1253.33it/s]\n",
      "100%|██████████| 2267/2267 [00:01<00:00, 1377.98it/s]\n",
      "100%|██████████| 2267/2267 [00:01<00:00, 1313.48it/s]\n",
      "100%|██████████| 2267/2267 [00:01<00:00, 1184.21it/s]\n",
      "100%|██████████| 1700/1700 [00:01<00:00, 990.45it/s] \n",
      "100%|██████████| 1700/1700 [00:01<00:00, 1038.36it/s]\n",
      "100%|██████████| 1700/1700 [00:01<00:00, 1019.00it/s]\n",
      "100%|██████████| 1700/1700 [00:01<00:00, 1309.12it/s]\n",
      "100%|██████████| 1133/1133 [00:01<00:00, 1065.68it/s]\n",
      "100%|██████████| 1133/1133 [00:01<00:00, 1112.31it/s]\n",
      "100%|██████████| 1133/1133 [00:01<00:00, 1095.65it/s]\n",
      "100%|██████████| 1133/1133 [00:00<00:00, 1204.02it/s]\n",
      "100%|██████████| 567/567 [00:00<00:00, 1080.66it/s]\n",
      "100%|██████████| 567/567 [00:00<00:00, 1058.06it/s]\n",
      "100%|██████████| 567/567 [00:00<00:00, 772.04it/s] \n",
      "100%|██████████| 567/567 [00:00<00:00, 965.54it/s] \n"
     ]
    }
   ],
   "source": [
    "n_train = len(train)\n",
    "\n",
    "train10_energy_aug = MIXUP_augment_df(train10[['lyrics','energy','energy level']], sc='energy', scl='energy level', samples=(n_train-len(train10)))\n",
    "train20_energy_aug = MIXUP_augment_df(train20[['lyrics','energy','energy level']], sc='energy', scl='energy level', samples=(n_train-len(train20)))\n",
    "train30_energy_aug = MIXUP_augment_df(train30[['lyrics','energy','energy level']], sc='energy', scl='energy level', samples=(n_train-len(train30)))\n",
    "train40_energy_aug = MIXUP_augment_df(train40[['lyrics','energy','energy level']], sc='energy', scl='energy level', samples=(n_train-len(train40)))\n",
    "train50_energy_aug = MIXUP_augment_df(train50[['lyrics','energy','energy level']], sc='energy', scl='energy level', samples=(n_train-len(train50)))\n",
    "train60_energy_aug = MIXUP_augment_df(train60[['lyrics','energy','energy level']], sc='energy', scl='energy level', samples=(n_train-len(train60)))\n",
    "train70_energy_aug = MIXUP_augment_df(train70[['lyrics','energy','energy level']], sc='energy', scl='energy level', samples=(n_train-len(train70)))\n",
    "train80_energy_aug = MIXUP_augment_df(train80[['lyrics','energy','energy level']], sc='energy', scl='energy level', samples=(n_train-len(train80)))\n",
    "train90_energy_aug = MIXUP_augment_df(train90[['lyrics','energy','energy level']], sc='energy', scl='energy level', samples=(n_train-len(train90)))\n",
    "\n",
    "train_energy_aug = train[['lyrics','energy','energy level']]"
   ]
  },
  {
   "cell_type": "code",
   "execution_count": 7,
   "id": "a73492a6-411f-4d41-8812-e9ffa13b0b4e",
   "metadata": {},
   "outputs": [],
   "source": [
    "# Save train augmented samples dfs, lambda=0.5\n",
    "f_train_energy_samples_aug = open('train_energy_samples_aug.pickle', 'wb')\n",
    "pickle.dump([train10_energy_aug,train20_energy_aug,train30_energy_aug,train40_energy_aug,train50_energy_aug,train60_energy_aug,train70_energy_aug,train80_energy_aug,train90_energy_aug,train_energy_aug], f_train_energy_samples_aug)\n",
    "f_train_energy_samples_aug.close()"
   ]
  },
  {
   "cell_type": "markdown",
   "id": "57400aa9-e4a2-435d-a57b-12400e23895f",
   "metadata": {},
   "source": [
    "#### MIXUP (λ=0.25)"
   ]
  },
  {
   "cell_type": "code",
   "execution_count": 8,
   "id": "be8ac88f-0d53-450d-8090-67b037a5f1c7",
   "metadata": {},
   "outputs": [
    {
     "name": "stderr",
     "output_type": "stream",
     "text": [
      "100%|██████████| 5101/5101 [00:04<00:00, 1037.48it/s]\n",
      "100%|██████████| 5101/5101 [00:04<00:00, 1227.77it/s]\n",
      "100%|██████████| 5101/5101 [00:03<00:00, 1464.47it/s]\n",
      "100%|██████████| 5101/5101 [00:03<00:00, 1544.03it/s]\n",
      "100%|██████████| 4534/4534 [00:03<00:00, 1401.70it/s]\n",
      "100%|██████████| 4534/4534 [00:03<00:00, 1362.75it/s]\n",
      "100%|██████████| 4534/4534 [00:02<00:00, 1581.86it/s]\n",
      "100%|██████████| 4534/4534 [00:02<00:00, 1592.45it/s]\n",
      "100%|██████████| 3968/3968 [00:03<00:00, 1313.82it/s]\n",
      "100%|██████████| 3968/3968 [00:03<00:00, 1216.23it/s]\n",
      "100%|██████████| 3968/3968 [00:03<00:00, 1272.05it/s]\n",
      "100%|██████████| 3968/3968 [00:02<00:00, 1455.02it/s]\n",
      "100%|██████████| 3401/3401 [00:02<00:00, 1386.44it/s]\n",
      "100%|██████████| 3401/3401 [00:02<00:00, 1306.68it/s]\n",
      "100%|██████████| 3401/3401 [00:02<00:00, 1362.36it/s]\n",
      "100%|██████████| 3401/3401 [00:02<00:00, 1366.83it/s]\n",
      "100%|██████████| 2834/2834 [00:02<00:00, 1265.94it/s]\n",
      "100%|██████████| 2834/2834 [00:02<00:00, 1043.30it/s]\n",
      "100%|██████████| 2834/2834 [00:01<00:00, 1548.20it/s]\n",
      "100%|██████████| 2834/2834 [00:01<00:00, 1523.22it/s]\n",
      "100%|██████████| 2267/2267 [00:01<00:00, 1309.30it/s]\n",
      "100%|██████████| 2267/2267 [00:02<00:00, 1050.78it/s]\n",
      "100%|██████████| 2267/2267 [00:01<00:00, 1167.77it/s]\n",
      "100%|██████████| 2267/2267 [00:01<00:00, 1449.02it/s]\n",
      "100%|██████████| 1700/1700 [00:01<00:00, 1452.35it/s]\n",
      "100%|██████████| 1700/1700 [00:01<00:00, 1478.25it/s]\n",
      "100%|██████████| 1700/1700 [00:01<00:00, 1607.74it/s]\n",
      "100%|██████████| 1700/1700 [00:01<00:00, 1559.97it/s]\n",
      "100%|██████████| 1133/1133 [00:00<00:00, 1482.10it/s]\n",
      "100%|██████████| 1133/1133 [00:00<00:00, 1480.15it/s]\n",
      "100%|██████████| 1133/1133 [00:00<00:00, 1586.50it/s]\n",
      "100%|██████████| 1133/1133 [00:00<00:00, 1458.32it/s]\n",
      "100%|██████████| 567/567 [00:00<00:00, 1296.16it/s]\n",
      "100%|██████████| 567/567 [00:00<00:00, 1320.92it/s]\n",
      "100%|██████████| 567/567 [00:00<00:00, 1601.96it/s]\n",
      "100%|██████████| 567/567 [00:00<00:00, 1524.40it/s]\n"
     ]
    }
   ],
   "source": [
    "n_train = len(train)\n",
    "\n",
    "train10_energy_aug2 = MIXUP_augment_df(train10[['lyrics','energy','energy level']], sc='energy', scl='energy level', pr=0.25, samples=(n_train-len(train10)))\n",
    "train20_energy_aug2 = MIXUP_augment_df(train20[['lyrics','energy','energy level']], sc='energy', scl='energy level', pr=0.25, samples=(n_train-len(train20)))\n",
    "train30_energy_aug2 = MIXUP_augment_df(train30[['lyrics','energy','energy level']], sc='energy', scl='energy level', pr=0.25, samples=(n_train-len(train30)))\n",
    "train40_energy_aug2 = MIXUP_augment_df(train40[['lyrics','energy','energy level']], sc='energy', scl='energy level', pr=0.25, samples=(n_train-len(train40)))\n",
    "train50_energy_aug2 = MIXUP_augment_df(train50[['lyrics','energy','energy level']], sc='energy', scl='energy level', pr=0.25, samples=(n_train-len(train50)))\n",
    "train60_energy_aug2 = MIXUP_augment_df(train60[['lyrics','energy','energy level']], sc='energy', scl='energy level', pr=0.25, samples=(n_train-len(train60)))\n",
    "train70_energy_aug2 = MIXUP_augment_df(train70[['lyrics','energy','energy level']], sc='energy', scl='energy level', pr=0.25, samples=(n_train-len(train70)))\n",
    "train80_energy_aug2 = MIXUP_augment_df(train80[['lyrics','energy','energy level']], sc='energy', scl='energy level', pr=0.25, samples=(n_train-len(train80)))\n",
    "train90_energy_aug2 = MIXUP_augment_df(train90[['lyrics','energy','energy level']], sc='energy', scl='energy level', pr=0.25, samples=(n_train-len(train90)))"
   ]
  },
  {
   "cell_type": "code",
   "execution_count": 9,
   "id": "64229835-9635-4d51-8832-bb9aeceaeda2",
   "metadata": {},
   "outputs": [],
   "source": [
    "# Save train augmented samples dfs, lambda=0.25\n",
    "f_train_energy_samples_aug2 = open('train_energy_samples_aug_2.pickle', 'wb')\n",
    "pickle.dump([train10_energy_aug2,train20_energy_aug2,train30_energy_aug2,train40_energy_aug2,train50_energy_aug2,train60_energy_aug2,train70_energy_aug2,train80_energy_aug2,train90_energy_aug2,train_energy_aug], f_train_energy_samples_aug2)\n",
    "f_train_energy_samples_aug2.close()"
   ]
  },
  {
   "cell_type": "markdown",
   "id": "66f08152-b664-412f-86e9-d02d1d5fe4b7",
   "metadata": {},
   "source": [
    "#### MIXUP for different λ values (with 20%, 50% and 80% of training set)"
   ]
  },
  {
   "cell_type": "code",
   "execution_count": 10,
   "id": "88275b29-d908-4efe-97dc-7e3460668e8a",
   "metadata": {},
   "outputs": [
    {
     "name": "stderr",
     "output_type": "stream",
     "text": [
      "100%|██████████| 4534/4534 [00:03<00:00, 1353.41it/s]\n",
      "100%|██████████| 4534/4534 [00:03<00:00, 1350.15it/s]\n",
      "100%|██████████| 4534/4534 [00:04<00:00, 1051.31it/s]\n",
      "100%|██████████| 4534/4534 [00:03<00:00, 1152.62it/s]\n",
      "100%|██████████| 4534/4534 [00:03<00:00, 1211.08it/s]\n",
      "100%|██████████| 4534/4534 [00:04<00:00, 984.15it/s] \n",
      "100%|██████████| 4534/4534 [00:03<00:00, 1166.13it/s]\n",
      "100%|██████████| 4534/4534 [00:03<00:00, 1349.70it/s]\n",
      "100%|██████████| 4534/4534 [00:03<00:00, 1224.80it/s]\n",
      "100%|██████████| 4534/4534 [00:03<00:00, 1257.03it/s]\n",
      "100%|██████████| 4534/4534 [00:03<00:00, 1290.79it/s]\n",
      "100%|██████████| 4534/4534 [00:03<00:00, 1303.29it/s]\n",
      "100%|██████████| 4534/4534 [00:03<00:00, 1259.14it/s]\n",
      "100%|██████████| 4534/4534 [00:03<00:00, 1201.20it/s]\n",
      "100%|██████████| 4534/4534 [00:03<00:00, 1292.22it/s]\n",
      "100%|██████████| 4534/4534 [00:04<00:00, 1043.96it/s]\n",
      "100%|██████████| 4534/4534 [00:04<00:00, 987.78it/s] \n",
      "100%|██████████| 4534/4534 [00:04<00:00, 1026.19it/s]\n",
      "100%|██████████| 4534/4534 [00:03<00:00, 1266.52it/s]\n",
      "100%|██████████| 4534/4534 [00:04<00:00, 1084.10it/s]\n",
      "100%|██████████| 4534/4534 [00:05<00:00, 873.48it/s] \n",
      "100%|██████████| 4534/4534 [00:04<00:00, 1015.91it/s]\n",
      "100%|██████████| 4534/4534 [00:04<00:00, 1126.26it/s]\n",
      "100%|██████████| 4534/4534 [00:03<00:00, 1220.19it/s]\n",
      "100%|██████████| 2834/2834 [00:02<00:00, 1046.10it/s]\n",
      "100%|██████████| 2834/2834 [00:02<00:00, 1290.84it/s]\n",
      "100%|██████████| 2834/2834 [00:02<00:00, 1138.57it/s]\n",
      "100%|██████████| 2834/2834 [00:03<00:00, 895.21it/s] \n",
      "100%|██████████| 2834/2834 [00:02<00:00, 1336.80it/s]\n",
      "100%|██████████| 2834/2834 [00:02<00:00, 1245.56it/s]\n",
      "100%|██████████| 2834/2834 [00:02<00:00, 1342.66it/s]\n",
      "100%|██████████| 2834/2834 [00:01<00:00, 1512.65it/s]\n",
      "100%|██████████| 2834/2834 [00:01<00:00, 1459.36it/s]\n",
      "100%|██████████| 2834/2834 [00:02<00:00, 1343.84it/s]\n",
      "100%|██████████| 2834/2834 [00:01<00:00, 1421.74it/s]\n",
      "100%|██████████| 2834/2834 [00:01<00:00, 1504.23it/s]\n",
      "100%|██████████| 2834/2834 [00:02<00:00, 1357.09it/s]\n",
      "100%|██████████| 2834/2834 [00:02<00:00, 1411.83it/s]\n",
      "100%|██████████| 2834/2834 [00:01<00:00, 1567.09it/s]\n",
      "100%|██████████| 2834/2834 [00:01<00:00, 1508.64it/s]\n",
      "100%|██████████| 2834/2834 [00:02<00:00, 1359.21it/s]\n",
      "100%|██████████| 2834/2834 [00:02<00:00, 1103.46it/s]\n",
      "100%|██████████| 2834/2834 [00:01<00:00, 1419.90it/s]\n",
      "100%|██████████| 2834/2834 [00:01<00:00, 1440.10it/s]\n",
      "100%|██████████| 2834/2834 [00:05<00:00, 562.61it/s] \n",
      "100%|██████████| 2834/2834 [00:02<00:00, 1104.27it/s]\n",
      "100%|██████████| 2834/2834 [00:02<00:00, 1005.27it/s]\n",
      "100%|██████████| 2834/2834 [00:02<00:00, 998.49it/s] \n",
      "100%|██████████| 1133/1133 [00:01<00:00, 1086.50it/s]\n",
      "100%|██████████| 1133/1133 [00:01<00:00, 997.70it/s]\n",
      "100%|██████████| 1133/1133 [00:00<00:00, 1191.06it/s]\n",
      "100%|██████████| 1133/1133 [00:00<00:00, 1429.89it/s]\n",
      "100%|██████████| 1133/1133 [00:01<00:00, 1123.06it/s]\n",
      "100%|██████████| 1133/1133 [00:01<00:00, 923.42it/s]\n",
      "100%|██████████| 1133/1133 [00:00<00:00, 1370.49it/s]\n",
      "100%|██████████| 1133/1133 [00:00<00:00, 1400.66it/s]\n",
      "100%|██████████| 1133/1133 [00:00<00:00, 1374.29it/s]\n",
      "100%|██████████| 1133/1133 [00:00<00:00, 1470.71it/s]\n",
      "100%|██████████| 1133/1133 [00:00<00:00, 1422.72it/s]\n",
      "100%|██████████| 1133/1133 [00:00<00:00, 1277.82it/s]\n",
      "100%|██████████| 1133/1133 [00:00<00:00, 1386.47it/s]\n",
      "100%|██████████| 1133/1133 [00:00<00:00, 1301.74it/s]\n",
      "100%|██████████| 1133/1133 [00:00<00:00, 1448.74it/s]\n",
      "100%|██████████| 1133/1133 [00:00<00:00, 1421.07it/s]\n",
      "100%|██████████| 1133/1133 [00:00<00:00, 1363.59it/s]\n",
      "100%|██████████| 1133/1133 [00:00<00:00, 1264.57it/s]\n",
      "100%|██████████| 1133/1133 [00:00<00:00, 1382.21it/s]\n",
      "100%|██████████| 1133/1133 [00:00<00:00, 1463.47it/s]\n",
      "100%|██████████| 1133/1133 [00:01<00:00, 909.38it/s] \n",
      "100%|██████████| 1133/1133 [00:00<00:00, 1276.82it/s]\n",
      "100%|██████████| 1133/1133 [00:00<00:00, 1536.08it/s]\n",
      "100%|██████████| 1133/1133 [00:00<00:00, 1536.74it/s]\n"
     ]
    }
   ],
   "source": [
    "n_train = len(train)\n",
    "\n",
    "train20_energy_aug_l0 = MIXUP_augment_df(train20[['lyrics','energy','energy level']], sc='energy', scl='energy level', pr=0.05, samples=(n_train-len(train20)))\n",
    "train20_energy_aug_l1 = MIXUP_augment_df(train20[['lyrics','energy','energy level']], sc='energy', scl='energy level', pr=0.1, samples=(n_train-len(train20)))\n",
    "train20_energy_aug_l2 = MIXUP_augment_df(train20[['lyrics','energy','energy level']], sc='energy', scl='energy level', pr=0.2, samples=(n_train-len(train20)))\n",
    "train20_energy_aug_l3 = MIXUP_augment_df(train20[['lyrics','energy','energy level']], sc='energy', scl='energy level', pr=0.3, samples=(n_train-len(train20)))\n",
    "train20_energy_aug_l4 = MIXUP_augment_df(train20[['lyrics','energy','energy level']], sc='energy', scl='energy level', pr=0.4, samples=(n_train-len(train20)))\n",
    "train20_energy_aug_l5 = MIXUP_augment_df(train20[['lyrics','energy','energy level']], sc='energy', scl='energy level', pr=0.5, samples=(n_train-len(train20)))\n",
    "\n",
    "train50_energy_aug_l0 = MIXUP_augment_df(train50[['lyrics','energy','energy level']], sc='energy', scl='energy level', pr=0.05, samples=(n_train-len(train50)))\n",
    "train50_energy_aug_l1 = MIXUP_augment_df(train50[['lyrics','energy','energy level']], sc='energy', scl='energy level', pr=0.1, samples=(n_train-len(train50)))\n",
    "train50_energy_aug_l2 = MIXUP_augment_df(train50[['lyrics','energy','energy level']], sc='energy', scl='energy level', pr=0.2, samples=(n_train-len(train50)))\n",
    "train50_energy_aug_l3 = MIXUP_augment_df(train50[['lyrics','energy','energy level']], sc='energy', scl='energy level', pr=0.3, samples=(n_train-len(train50)))\n",
    "train50_energy_aug_l4 = MIXUP_augment_df(train50[['lyrics','energy','energy level']], sc='energy', scl='energy level', pr=0.4, samples=(n_train-len(train50)))\n",
    "train50_energy_aug_l5 = MIXUP_augment_df(train50[['lyrics','energy','energy level']], sc='energy', scl='energy level', pr=0.5, samples=(n_train-len(train50)))\n",
    "\n",
    "train80_energy_aug_l0 = MIXUP_augment_df(train80[['lyrics','energy','energy level']], sc='energy', scl='energy level', pr=0.05, samples=(n_train-len(train80)))\n",
    "train80_energy_aug_l1 = MIXUP_augment_df(train80[['lyrics','energy','energy level']], sc='energy', scl='energy level', pr=0.1, samples=(n_train-len(train80)))\n",
    "train80_energy_aug_l2 = MIXUP_augment_df(train80[['lyrics','energy','energy level']], sc='energy', scl='energy level', pr=0.2, samples=(n_train-len(train80)))\n",
    "train80_energy_aug_l3 = MIXUP_augment_df(train80[['lyrics','energy','energy level']], sc='energy', scl='energy level', pr=0.3, samples=(n_train-len(train80)))\n",
    "train80_energy_aug_l4 = MIXUP_augment_df(train80[['lyrics','energy','energy level']], sc='energy', scl='energy level', pr=0.4, samples=(n_train-len(train80)))\n",
    "train80_energy_aug_l5 = MIXUP_augment_df(train80[['lyrics','energy','energy level']], sc='energy', scl='energy level', pr=0.5, samples=(n_train-len(train80)))\n"
   ]
  },
  {
   "cell_type": "code",
   "execution_count": 11,
   "id": "44911faa-e0b6-4dda-89ef-9b75500a218f",
   "metadata": {},
   "outputs": [],
   "source": [
    "# Save train augmented samples dfs, different lambdas\n",
    "f_train_energy_samples_aug_l = open('train_energy_samples_aug_l.pickle', 'wb')\n",
    "pickle.dump([train20_energy_aug_l0,train20_energy_aug_l1,train20_energy_aug_l2,train20_energy_aug_l3,train20_energy_aug_l4,train20_energy_aug_l5,train50_energy_aug_l0,train50_energy_aug_l1,train50_energy_aug_l2,train50_energy_aug_l3,train50_energy_aug_l4,train50_energy_aug_l5,train80_energy_aug_l0,train80_energy_aug_l1,train80_energy_aug_l2,train80_energy_aug_l3,train80_energy_aug_l4,train80_energy_aug_l5], f_train_energy_samples_aug_l)\n",
    "f_train_energy_samples_aug_l.close()"
   ]
  },
  {
   "cell_type": "markdown",
   "id": "de4d2d8a-a4d0-4352-b81e-703bda7c202e",
   "metadata": {},
   "source": [
    "### Valence"
   ]
  },
  {
   "cell_type": "markdown",
   "id": "4d9a03e8-10e1-4531-82ab-28e7dba00239",
   "metadata": {},
   "source": [
    "#### MIXUP (λ=0.5)"
   ]
  },
  {
   "cell_type": "code",
   "execution_count": 12,
   "id": "35eabbf0-a23a-4d30-a1e0-6cc3b9c1d4cb",
   "metadata": {},
   "outputs": [
    {
     "name": "stderr",
     "output_type": "stream",
     "text": [
      "100%|██████████| 5101/5101 [00:03<00:00, 1468.91it/s]\n",
      "100%|██████████| 5101/5101 [00:03<00:00, 1443.32it/s]\n",
      "100%|██████████| 5101/5101 [00:03<00:00, 1434.14it/s]\n",
      "100%|██████████| 5101/5101 [00:03<00:00, 1411.91it/s]\n",
      "100%|██████████| 4534/4534 [00:03<00:00, 1275.46it/s]\n",
      "100%|██████████| 4534/4534 [00:03<00:00, 1408.59it/s]\n",
      "100%|██████████| 4534/4534 [00:03<00:00, 1186.26it/s]\n",
      "100%|██████████| 4534/4534 [00:03<00:00, 1332.55it/s]\n",
      "100%|██████████| 3968/3968 [00:03<00:00, 1306.43it/s]\n",
      "100%|██████████| 3968/3968 [00:03<00:00, 1232.36it/s]\n",
      "100%|██████████| 3968/3968 [00:04<00:00, 984.87it/s] \n",
      "100%|██████████| 3968/3968 [00:02<00:00, 1345.02it/s]\n",
      "100%|██████████| 3401/3401 [00:02<00:00, 1356.46it/s]\n",
      "100%|██████████| 3401/3401 [00:02<00:00, 1312.35it/s]\n",
      "100%|██████████| 3401/3401 [00:02<00:00, 1251.94it/s]\n",
      "100%|██████████| 3401/3401 [00:02<00:00, 1554.81it/s]\n",
      "100%|██████████| 2834/2834 [00:02<00:00, 1274.14it/s]\n",
      "100%|██████████| 2834/2834 [00:01<00:00, 1455.46it/s]\n",
      "100%|██████████| 2834/2834 [00:02<00:00, 1350.41it/s]\n",
      "100%|██████████| 2834/2834 [00:02<00:00, 1217.31it/s]\n",
      "100%|██████████| 2267/2267 [00:01<00:00, 1319.49it/s]\n",
      "100%|██████████| 2267/2267 [00:01<00:00, 1268.47it/s]\n",
      "100%|██████████| 2267/2267 [00:01<00:00, 1409.54it/s]\n",
      "100%|██████████| 2267/2267 [00:01<00:00, 1295.79it/s]\n",
      "100%|██████████| 1700/1700 [00:01<00:00, 1314.74it/s]\n",
      "100%|██████████| 1700/1700 [00:01<00:00, 1303.69it/s]\n",
      "100%|██████████| 1700/1700 [00:01<00:00, 1287.10it/s]\n",
      "100%|██████████| 1700/1700 [00:01<00:00, 1199.41it/s]\n",
      "100%|██████████| 1133/1133 [00:00<00:00, 1287.47it/s]\n",
      "100%|██████████| 1133/1133 [00:00<00:00, 1250.14it/s]\n",
      "100%|██████████| 1133/1133 [00:00<00:00, 1363.61it/s]\n",
      "100%|██████████| 1133/1133 [00:00<00:00, 1382.27it/s]\n",
      "100%|██████████| 567/567 [00:00<00:00, 1339.26it/s]\n",
      "100%|██████████| 567/567 [00:00<00:00, 1277.30it/s]\n",
      "100%|██████████| 567/567 [00:00<00:00, 1387.51it/s]\n",
      "100%|██████████| 567/567 [00:00<00:00, 1297.60it/s]\n"
     ]
    }
   ],
   "source": [
    "n_train = len(train)\n",
    "\n",
    "train10_valence_aug = MIXUP_augment_df(train10[['lyrics','valence','valence level']], sc='valence', scl='valence level', samples=(n_train-len(train10)))\n",
    "train20_valence_aug = MIXUP_augment_df(train20[['lyrics','valence','valence level']], sc='valence', scl='valence level', samples=(n_train-len(train20)))\n",
    "train30_valence_aug = MIXUP_augment_df(train30[['lyrics','valence','valence level']], sc='valence', scl='valence level', samples=(n_train-len(train30)))\n",
    "train40_valence_aug = MIXUP_augment_df(train40[['lyrics','valence','valence level']], sc='valence', scl='valence level', samples=(n_train-len(train40)))\n",
    "train50_valence_aug = MIXUP_augment_df(train50[['lyrics','valence','valence level']], sc='valence', scl='valence level', samples=(n_train-len(train50)))\n",
    "train60_valence_aug = MIXUP_augment_df(train60[['lyrics','valence','valence level']], sc='valence', scl='valence level', samples=(n_train-len(train60)))\n",
    "train70_valence_aug = MIXUP_augment_df(train70[['lyrics','valence','valence level']], sc='valence', scl='valence level', samples=(n_train-len(train70)))\n",
    "train80_valence_aug = MIXUP_augment_df(train80[['lyrics','valence','valence level']], sc='valence', scl='valence level', samples=(n_train-len(train80)))\n",
    "train90_valence_aug = MIXUP_augment_df(train90[['lyrics','valence','valence level']], sc='valence', scl='valence level', samples=(n_train-len(train90)))\n",
    "\n",
    "train_valence_aug = train[['lyrics','valence','valence level']]"
   ]
  },
  {
   "cell_type": "code",
   "execution_count": 13,
   "id": "f23a1218-1c94-486a-8ede-f25bf0f1fe15",
   "metadata": {},
   "outputs": [],
   "source": [
    "# Save train augmented samples dfs, lambda=0.5\n",
    "f_train_valence_samples_aug = open('train_valence_samples_aug.pickle', 'wb')\n",
    "pickle.dump([train10_valence_aug,train20_valence_aug,train30_valence_aug,train40_valence_aug,train50_valence_aug,train60_valence_aug,train70_valence_aug,train80_valence_aug,train90_valence_aug,train_valence_aug], f_train_valence_samples_aug)\n",
    "f_train_valence_samples_aug.close()"
   ]
  },
  {
   "cell_type": "markdown",
   "id": "47f1a2dd-1fe9-4693-8ab4-5fa788b46035",
   "metadata": {},
   "source": [
    "#### MIXUP (λ=0.25)"
   ]
  },
  {
   "cell_type": "code",
   "execution_count": 14,
   "id": "6946f928-ede7-4842-81a8-10dc8053b741",
   "metadata": {},
   "outputs": [
    {
     "name": "stderr",
     "output_type": "stream",
     "text": [
      "100%|██████████| 5101/5101 [00:03<00:00, 1413.59it/s]\n",
      "100%|██████████| 5101/5101 [00:03<00:00, 1347.84it/s]\n",
      "100%|██████████| 5101/5101 [00:03<00:00, 1378.50it/s]\n",
      "100%|██████████| 5101/5101 [00:03<00:00, 1307.56it/s]\n",
      "100%|██████████| 4534/4534 [00:03<00:00, 1339.28it/s]\n",
      "100%|██████████| 4534/4534 [00:03<00:00, 1225.76it/s]\n",
      "100%|██████████| 4534/4534 [00:03<00:00, 1354.46it/s]\n",
      "100%|██████████| 4534/4534 [00:04<00:00, 1070.55it/s]\n",
      "100%|██████████| 3968/3968 [00:02<00:00, 1324.71it/s]\n",
      "100%|██████████| 3968/3968 [00:03<00:00, 1313.08it/s]\n",
      "100%|██████████| 3968/3968 [00:03<00:00, 1236.53it/s]\n",
      "100%|██████████| 3968/3968 [00:02<00:00, 1422.82it/s]\n",
      "100%|██████████| 3401/3401 [00:02<00:00, 1220.49it/s]\n",
      "100%|██████████| 3401/3401 [00:02<00:00, 1345.54it/s]\n",
      "100%|██████████| 3401/3401 [00:02<00:00, 1261.61it/s]\n",
      "100%|██████████| 3401/3401 [00:02<00:00, 1251.51it/s]\n",
      "100%|██████████| 2834/2834 [00:02<00:00, 1158.30it/s]\n",
      "100%|██████████| 2834/2834 [00:02<00:00, 1354.97it/s]\n",
      "100%|██████████| 2834/2834 [00:02<00:00, 1254.19it/s]\n",
      "100%|██████████| 2834/2834 [00:02<00:00, 1360.00it/s]\n",
      "100%|██████████| 2267/2267 [00:01<00:00, 1311.08it/s]\n",
      "100%|██████████| 2267/2267 [00:01<00:00, 1236.76it/s]\n",
      "100%|██████████| 2267/2267 [00:01<00:00, 1223.70it/s]\n",
      "100%|██████████| 2267/2267 [00:01<00:00, 1411.67it/s]\n",
      "100%|██████████| 1700/1700 [00:01<00:00, 1346.18it/s]\n",
      "100%|██████████| 1700/1700 [00:01<00:00, 1337.35it/s]\n",
      "100%|██████████| 1700/1700 [00:01<00:00, 1284.46it/s]\n",
      "100%|██████████| 1700/1700 [00:01<00:00, 1228.67it/s]\n",
      "100%|██████████| 1133/1133 [00:00<00:00, 1298.01it/s]\n",
      "100%|██████████| 1133/1133 [00:00<00:00, 1221.88it/s]\n",
      "100%|██████████| 1133/1133 [00:00<00:00, 1407.85it/s]\n",
      "100%|██████████| 1133/1133 [00:00<00:00, 1140.68it/s]\n",
      "100%|██████████| 567/567 [00:00<00:00, 1402.33it/s]\n",
      "100%|██████████| 567/567 [00:00<00:00, 1353.62it/s]\n",
      "100%|██████████| 567/567 [00:00<00:00, 1289.48it/s]\n",
      "100%|██████████| 567/567 [00:00<00:00, 1136.06it/s]\n"
     ]
    }
   ],
   "source": [
    "n_train = len(train)\n",
    "\n",
    "train10_valence_aug2 = MIXUP_augment_df(train10[['lyrics','valence','valence level']], sc='valence', scl='valence level', pr=0.25, samples=(n_train-len(train10)))\n",
    "train20_valence_aug2 = MIXUP_augment_df(train20[['lyrics','valence','valence level']], sc='valence', scl='valence level', pr=0.25, samples=(n_train-len(train20)))\n",
    "train30_valence_aug2 = MIXUP_augment_df(train30[['lyrics','valence','valence level']], sc='valence', scl='valence level', pr=0.25, samples=(n_train-len(train30)))\n",
    "train40_valence_aug2 = MIXUP_augment_df(train40[['lyrics','valence','valence level']], sc='valence', scl='valence level', pr=0.25, samples=(n_train-len(train40)))\n",
    "train50_valence_aug2 = MIXUP_augment_df(train50[['lyrics','valence','valence level']], sc='valence', scl='valence level', pr=0.25, samples=(n_train-len(train50)))\n",
    "train60_valence_aug2 = MIXUP_augment_df(train60[['lyrics','valence','valence level']], sc='valence', scl='valence level', pr=0.25, samples=(n_train-len(train60)))\n",
    "train70_valence_aug2 = MIXUP_augment_df(train70[['lyrics','valence','valence level']], sc='valence', scl='valence level', pr=0.25, samples=(n_train-len(train70)))\n",
    "train80_valence_aug2 = MIXUP_augment_df(train80[['lyrics','valence','valence level']], sc='valence', scl='valence level', pr=0.25, samples=(n_train-len(train80)))\n",
    "train90_valence_aug2 = MIXUP_augment_df(train90[['lyrics','valence','valence level']], sc='valence', scl='valence level', pr=0.25, samples=(n_train-len(train90)))"
   ]
  },
  {
   "cell_type": "code",
   "execution_count": 15,
   "id": "66b9b36f-6dca-4148-bfd5-05cf661e9933",
   "metadata": {},
   "outputs": [],
   "source": [
    "# Save train augmented samples dfs, lambda=0.25\n",
    "f_train_valence_samples_aug2 = open('train_valence_samples_aug_2.pickle', 'wb')\n",
    "pickle.dump([train10_valence_aug2,train20_valence_aug2,train30_valence_aug2,train40_valence_aug2,train50_valence_aug2,train60_valence_aug2,train70_valence_aug2,train80_valence_aug2,train90_valence_aug2,train_valence_aug], f_train_valence_samples_aug2)\n",
    "f_train_valence_samples_aug2.close()"
   ]
  },
  {
   "cell_type": "markdown",
   "id": "b9c9d9e8-8408-4ad6-af99-ae54c87b2395",
   "metadata": {},
   "source": [
    "#### MIXUP for different λ values (with 20%, 50% and 80% of training set)"
   ]
  },
  {
   "cell_type": "code",
   "execution_count": 16,
   "id": "f43de52a-7b0a-4c35-8c89-2c9b1bd081fd",
   "metadata": {},
   "outputs": [
    {
     "name": "stderr",
     "output_type": "stream",
     "text": [
      "100%|██████████| 4534/4534 [00:03<00:00, 1294.41it/s]\n",
      "100%|██████████| 4534/4534 [00:03<00:00, 1345.53it/s]\n",
      "100%|██████████| 4534/4534 [00:03<00:00, 1384.78it/s]\n",
      "100%|██████████| 4534/4534 [00:03<00:00, 1303.77it/s]\n",
      "100%|██████████| 4534/4534 [00:03<00:00, 1236.73it/s]\n",
      "100%|██████████| 4534/4534 [00:03<00:00, 1335.58it/s]\n",
      "100%|██████████| 4534/4534 [00:03<00:00, 1338.11it/s]\n",
      "100%|██████████| 4534/4534 [00:03<00:00, 1322.17it/s]\n",
      "100%|██████████| 4534/4534 [00:03<00:00, 1369.99it/s]\n",
      "100%|██████████| 4534/4534 [00:03<00:00, 1246.45it/s]\n",
      "100%|██████████| 4534/4534 [00:03<00:00, 1278.84it/s]\n",
      "100%|██████████| 4534/4534 [00:03<00:00, 1363.88it/s]\n",
      "100%|██████████| 4534/4534 [00:03<00:00, 1285.42it/s]\n",
      "100%|██████████| 4534/4534 [00:03<00:00, 1182.58it/s]\n",
      "100%|██████████| 4534/4534 [00:03<00:00, 1507.54it/s]\n",
      "100%|██████████| 4534/4534 [00:03<00:00, 1405.63it/s]\n",
      "100%|██████████| 4534/4534 [00:03<00:00, 1245.07it/s]\n",
      "100%|██████████| 4534/4534 [00:03<00:00, 1256.41it/s]\n",
      "100%|██████████| 4534/4534 [00:03<00:00, 1415.82it/s]\n",
      "100%|██████████| 4534/4534 [00:03<00:00, 1504.93it/s]\n",
      "100%|██████████| 4534/4534 [00:03<00:00, 1313.17it/s]\n",
      "100%|██████████| 4534/4534 [00:04<00:00, 988.73it/s] \n",
      "100%|██████████| 4534/4534 [00:03<00:00, 1289.84it/s]\n",
      "100%|██████████| 4534/4534 [00:03<00:00, 1272.44it/s]\n",
      "100%|██████████| 2834/2834 [00:02<00:00, 1247.28it/s]\n",
      "100%|██████████| 2834/2834 [00:02<00:00, 1413.27it/s]\n",
      "100%|██████████| 2834/2834 [00:02<00:00, 1166.22it/s]\n",
      "100%|██████████| 2834/2834 [00:02<00:00, 1148.94it/s]\n",
      "100%|██████████| 2834/2834 [00:02<00:00, 1062.07it/s]\n",
      "100%|██████████| 2834/2834 [00:01<00:00, 1446.51it/s]\n",
      "100%|██████████| 2834/2834 [00:01<00:00, 1436.84it/s]\n",
      "100%|██████████| 2834/2834 [00:02<00:00, 1391.32it/s]\n",
      "100%|██████████| 2834/2834 [00:02<00:00, 1174.79it/s]\n",
      "100%|██████████| 2834/2834 [00:01<00:00, 1445.21it/s]\n",
      "100%|██████████| 2834/2834 [00:02<00:00, 1414.70it/s]\n",
      "100%|██████████| 2834/2834 [00:02<00:00, 1361.74it/s]\n",
      "100%|██████████| 2834/2834 [00:02<00:00, 1284.11it/s]\n",
      "100%|██████████| 2834/2834 [00:02<00:00, 1406.85it/s]\n",
      "100%|██████████| 2834/2834 [00:02<00:00, 1320.74it/s]\n",
      "100%|██████████| 2834/2834 [00:01<00:00, 1419.47it/s]\n",
      "100%|██████████| 2834/2834 [00:02<00:00, 1219.01it/s]\n",
      "100%|██████████| 2834/2834 [00:02<00:00, 1291.75it/s]\n",
      "100%|██████████| 2834/2834 [00:02<00:00, 1335.90it/s]\n",
      "100%|██████████| 2834/2834 [00:01<00:00, 1504.65it/s]\n",
      "100%|██████████| 2834/2834 [00:02<00:00, 1212.07it/s]\n",
      "100%|██████████| 2834/2834 [00:02<00:00, 1393.07it/s]\n",
      "100%|██████████| 2834/2834 [00:02<00:00, 1381.30it/s]\n",
      "100%|██████████| 2834/2834 [00:02<00:00, 1375.54it/s]\n",
      "100%|██████████| 1133/1133 [00:00<00:00, 1442.64it/s]\n",
      "100%|██████████| 1133/1133 [00:00<00:00, 1290.62it/s]\n",
      "100%|██████████| 1133/1133 [00:01<00:00, 1076.01it/s]\n",
      "100%|██████████| 1133/1133 [00:00<00:00, 1181.34it/s]\n",
      "100%|██████████| 1133/1133 [00:00<00:00, 1344.18it/s]\n",
      "100%|██████████| 1133/1133 [00:00<00:00, 1358.40it/s]\n",
      "100%|██████████| 1133/1133 [00:00<00:00, 1476.52it/s]\n",
      "100%|██████████| 1133/1133 [00:00<00:00, 1328.23it/s]\n",
      "100%|██████████| 1133/1133 [00:00<00:00, 1256.56it/s]\n",
      "100%|██████████| 1133/1133 [00:00<00:00, 1148.28it/s]\n",
      "100%|██████████| 1133/1133 [00:00<00:00, 1483.62it/s]\n",
      "100%|██████████| 1133/1133 [00:00<00:00, 1275.63it/s]\n",
      "100%|██████████| 1133/1133 [00:00<00:00, 1227.15it/s]\n",
      "100%|██████████| 1133/1133 [00:00<00:00, 1182.44it/s]\n",
      "100%|██████████| 1133/1133 [00:01<00:00, 975.68it/s] \n",
      "100%|██████████| 1133/1133 [00:00<00:00, 1327.59it/s]\n",
      "100%|██████████| 1133/1133 [00:00<00:00, 1307.73it/s]\n",
      "100%|██████████| 1133/1133 [00:00<00:00, 1281.12it/s]\n",
      "100%|██████████| 1133/1133 [00:00<00:00, 1427.81it/s]\n",
      "100%|██████████| 1133/1133 [00:00<00:00, 1384.82it/s]\n",
      "100%|██████████| 1133/1133 [00:01<00:00, 1080.27it/s]\n",
      "100%|██████████| 1133/1133 [00:00<00:00, 1216.38it/s]\n",
      "100%|██████████| 1133/1133 [00:00<00:00, 1509.06it/s]\n",
      "100%|██████████| 1133/1133 [00:00<00:00, 1412.15it/s]\n"
     ]
    }
   ],
   "source": [
    "n_train = len(train)\n",
    "\n",
    "train20_valence_aug_l0 = MIXUP_augment_df(train20[['lyrics','valence','valence level']], sc='valence', scl='valence level', pr=0.05, samples=(n_train-len(train20)))\n",
    "train20_valence_aug_l1 = MIXUP_augment_df(train20[['lyrics','valence','valence level']], sc='valence', scl='valence level', pr=0.1, samples=(n_train-len(train20)))\n",
    "train20_valence_aug_l2 = MIXUP_augment_df(train20[['lyrics','valence','valence level']], sc='valence', scl='valence level', pr=0.2, samples=(n_train-len(train20)))\n",
    "train20_valence_aug_l3 = MIXUP_augment_df(train20[['lyrics','valence','valence level']], sc='valence', scl='valence level', pr=0.3, samples=(n_train-len(train20)))\n",
    "train20_valence_aug_l4 = MIXUP_augment_df(train20[['lyrics','valence','valence level']], sc='valence', scl='valence level', pr=0.4, samples=(n_train-len(train20)))\n",
    "train20_valence_aug_l5 = MIXUP_augment_df(train20[['lyrics','valence','valence level']], sc='valence', scl='valence level', pr=0.5, samples=(n_train-len(train20)))\n",
    "\n",
    "train50_valence_aug_l0 = MIXUP_augment_df(train50[['lyrics','valence','valence level']], sc='valence', scl='valence level', pr=0.05, samples=(n_train-len(train50)))\n",
    "train50_valence_aug_l1 = MIXUP_augment_df(train50[['lyrics','valence','valence level']], sc='valence', scl='valence level', pr=0.1, samples=(n_train-len(train50)))\n",
    "train50_valence_aug_l2 = MIXUP_augment_df(train50[['lyrics','valence','valence level']], sc='valence', scl='valence level', pr=0.2, samples=(n_train-len(train50)))\n",
    "train50_valence_aug_l3 = MIXUP_augment_df(train50[['lyrics','valence','valence level']], sc='valence', scl='valence level', pr=0.3, samples=(n_train-len(train50)))\n",
    "train50_valence_aug_l4 = MIXUP_augment_df(train50[['lyrics','valence','valence level']], sc='valence', scl='valence level', pr=0.4, samples=(n_train-len(train50)))\n",
    "train50_valence_aug_l5 = MIXUP_augment_df(train50[['lyrics','valence','valence level']], sc='valence', scl='valence level', pr=0.5, samples=(n_train-len(train50)))\n",
    "\n",
    "train80_valence_aug_l0 = MIXUP_augment_df(train80[['lyrics','valence','valence level']], sc='valence', scl='valence level', pr=0.05, samples=(n_train-len(train80)))\n",
    "train80_valence_aug_l1 = MIXUP_augment_df(train80[['lyrics','valence','valence level']], sc='valence', scl='valence level', pr=0.1, samples=(n_train-len(train80)))\n",
    "train80_valence_aug_l2 = MIXUP_augment_df(train80[['lyrics','valence','valence level']], sc='valence', scl='valence level', pr=0.2, samples=(n_train-len(train80)))\n",
    "train80_valence_aug_l3 = MIXUP_augment_df(train80[['lyrics','valence','valence level']], sc='valence', scl='valence level', pr=0.3, samples=(n_train-len(train80)))\n",
    "train80_valence_aug_l4 = MIXUP_augment_df(train80[['lyrics','valence','valence level']], sc='valence', scl='valence level', pr=0.4, samples=(n_train-len(train80)))\n",
    "train80_valence_aug_l5 = MIXUP_augment_df(train80[['lyrics','valence','valence level']], sc='valence', scl='valence level', pr=0.5, samples=(n_train-len(train80)))\n"
   ]
  },
  {
   "cell_type": "code",
   "execution_count": 17,
   "id": "9f9b8dc6-4e1e-458f-af4c-881ebc1efdaa",
   "metadata": {},
   "outputs": [],
   "source": [
    "# Save train augmented samples dfs, different lambdas\n",
    "f_train_valence_samples_aug_l = open('train_valence_samples_aug_l.pickle', 'wb')\n",
    "pickle.dump([train20_valence_aug_l0,train20_valence_aug_l1,train20_valence_aug_l2,train20_valence_aug_l3,train20_valence_aug_l4,train20_valence_aug_l5,train50_valence_aug_l0,train50_valence_aug_l1,train50_valence_aug_l2,train50_valence_aug_l3,train50_valence_aug_l4,train50_valence_aug_l5,train80_valence_aug_l0,train80_valence_aug_l1,train80_valence_aug_l2,train80_valence_aug_l3,train80_valence_aug_l4,train80_valence_aug_l5], f_train_valence_samples_aug_l)\n",
    "f_train_valence_samples_aug_l.close()"
   ]
  }
 ],
 "metadata": {
  "kernelspec": {
   "display_name": "Python 3 (ipykernel)",
   "language": "python",
   "name": "python3"
  },
  "language_info": {
   "codemirror_mode": {
    "name": "ipython",
    "version": 3
   },
   "file_extension": ".py",
   "mimetype": "text/x-python",
   "name": "python",
   "nbconvert_exporter": "python",
   "pygments_lexer": "ipython3",
   "version": "3.8.2"
  }
 },
 "nbformat": 4,
 "nbformat_minor": 5
}
